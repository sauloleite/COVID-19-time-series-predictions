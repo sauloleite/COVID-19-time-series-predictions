{
 "cells": [
  {
   "cell_type": "markdown",
   "metadata": {},
   "source": [
    "# AutoARIMA em Python (BIBLIOTECA *PMDARIMA*)\n",
    "\n",
    "Uma das metodologias mais conhecidas em séries temporais é a Box-Jenkins, que são um conjunto de procedimentos que são realizados em uma certa sequência até encontramos o melhor modelo ARIMA. Porém, ao invés de realizarmos as etapas dessa metodologia, podemos escolher o modelo de forma automática e para isso existe a função auto.arima que é muito usada no software estatístico R. \n",
    "\n",
    "O objetivo desse pequeno projeto é usar o autoarima do pacote pmdarima (que não é um pacote muito conhecido do python) para previsão de séries temporais. Uma das vantagens do autoarima é que não é necessário interpretar as funções de autocorrelação e autocorrelação parcial para escolher o parâmetros p, P, d, D, q e Q. Podemos definí-los e o autoarima irá fazer as combinações desses parâmetros e gerará os AIC's e escolhe-se então o modelo de menor AIC.\n",
    "\n",
    "\n",
    "\n",
    "## Importando das bibliotecas"
   ]
  },
  {
   "cell_type": "code",
   "execution_count": 1,
   "metadata": {},
   "outputs": [],
   "source": [
    "import pandas as pd\n",
    "import numpy as np\n",
    "import seaborn as sns\n",
    "from sklearn.metrics import mean_squared_error\n",
    "from statsmodels.stats.stattools import jarque_bera\n",
    "import matplotlib.pyplot as plt\n",
    "%matplotlib inline\n",
    "\n",
    "from pmdarima.arima import auto_arima"
   ]
  },
  {
   "cell_type": "code",
   "execution_count": 2,
   "metadata": {},
   "outputs": [],
   "source": [
    "from matplotlib.pyplot import rcParams\n",
    "rcParams['figure.figsize']=15,6"
   ]
  },
  {
   "cell_type": "markdown",
   "metadata": {},
   "source": [
    "## Importando da base de dados\n",
    "\n",
    "Irei colocar os dados indexados no formato de tempo correto."
   ]
  },
  {
   "cell_type": "code",
   "execution_count": 3,
   "metadata": {},
   "outputs": [],
   "source": [
    "dateparse= lambda dates:pd.datetime.strptime(dates,'%m-%d-%Y')"
   ]
  },
  {
   "cell_type": "markdown",
   "metadata": {},
   "source": [
    "Importando os dados."
   ]
  },
  {
   "cell_type": "code",
   "execution_count": 4,
   "metadata": {},
   "outputs": [],
   "source": [
    "data=pd.read_csv(\"datasets/countries/casos_covid19_brazil_date.csv\",encoding='utf-8',index_col='date')"
   ]
  },
  {
   "cell_type": "markdown",
   "metadata": {},
   "source": [
    "Visualizando a base de dados."
   ]
  },
  {
   "cell_type": "code",
   "execution_count": 5,
   "metadata": {},
   "outputs": [
    {
     "data": {
      "text/html": [
       "<div>\n",
       "<style scoped>\n",
       "    .dataframe tbody tr th:only-of-type {\n",
       "        vertical-align: middle;\n",
       "    }\n",
       "\n",
       "    .dataframe tbody tr th {\n",
       "        vertical-align: top;\n",
       "    }\n",
       "\n",
       "    .dataframe thead th {\n",
       "        text-align: right;\n",
       "    }\n",
       "</style>\n",
       "<table border=\"1\" class=\"dataframe\">\n",
       "  <thead>\n",
       "    <tr style=\"text-align: right;\">\n",
       "      <th></th>\n",
       "      <th>Brazil</th>\n",
       "    </tr>\n",
       "    <tr>\n",
       "      <th>date</th>\n",
       "      <th></th>\n",
       "    </tr>\n",
       "  </thead>\n",
       "  <tbody>\n",
       "    <tr>\n",
       "      <th>2/26/20</th>\n",
       "      <td>1.0</td>\n",
       "    </tr>\n",
       "    <tr>\n",
       "      <th>2/27/20</th>\n",
       "      <td>1.0</td>\n",
       "    </tr>\n",
       "    <tr>\n",
       "      <th>2/28/20</th>\n",
       "      <td>1.0</td>\n",
       "    </tr>\n",
       "    <tr>\n",
       "      <th>2/29/20</th>\n",
       "      <td>2.0</td>\n",
       "    </tr>\n",
       "    <tr>\n",
       "      <th>3/1/20</th>\n",
       "      <td>2.0</td>\n",
       "    </tr>\n",
       "    <tr>\n",
       "      <th>3/2/20</th>\n",
       "      <td>2.0</td>\n",
       "    </tr>\n",
       "    <tr>\n",
       "      <th>3/3/20</th>\n",
       "      <td>2.0</td>\n",
       "    </tr>\n",
       "    <tr>\n",
       "      <th>3/4/20</th>\n",
       "      <td>4.0</td>\n",
       "    </tr>\n",
       "    <tr>\n",
       "      <th>3/5/20</th>\n",
       "      <td>4.0</td>\n",
       "    </tr>\n",
       "    <tr>\n",
       "      <th>3/6/20</th>\n",
       "      <td>13.0</td>\n",
       "    </tr>\n",
       "  </tbody>\n",
       "</table>\n",
       "</div>"
      ],
      "text/plain": [
       "         Brazil\n",
       "date           \n",
       "2/26/20     1.0\n",
       "2/27/20     1.0\n",
       "2/28/20     1.0\n",
       "2/29/20     2.0\n",
       "3/1/20      2.0\n",
       "3/2/20      2.0\n",
       "3/3/20      2.0\n",
       "3/4/20      4.0\n",
       "3/5/20      4.0\n",
       "3/6/20     13.0"
      ]
     },
     "execution_count": 5,
     "metadata": {},
     "output_type": "execute_result"
    }
   ],
   "source": [
    "data.head(10)"
   ]
  },
  {
   "cell_type": "markdown",
   "metadata": {},
   "source": [
    "Últimas observações da série."
   ]
  },
  {
   "cell_type": "code",
   "execution_count": 6,
   "metadata": {},
   "outputs": [
    {
     "data": {
      "text/html": [
       "<div>\n",
       "<style scoped>\n",
       "    .dataframe tbody tr th:only-of-type {\n",
       "        vertical-align: middle;\n",
       "    }\n",
       "\n",
       "    .dataframe tbody tr th {\n",
       "        vertical-align: top;\n",
       "    }\n",
       "\n",
       "    .dataframe thead th {\n",
       "        text-align: right;\n",
       "    }\n",
       "</style>\n",
       "<table border=\"1\" class=\"dataframe\">\n",
       "  <thead>\n",
       "    <tr style=\"text-align: right;\">\n",
       "      <th></th>\n",
       "      <th>Brazil</th>\n",
       "    </tr>\n",
       "    <tr>\n",
       "      <th>date</th>\n",
       "      <th></th>\n",
       "    </tr>\n",
       "  </thead>\n",
       "  <tbody>\n",
       "    <tr>\n",
       "      <th>12/22/21</th>\n",
       "      <td>22227169.0</td>\n",
       "    </tr>\n",
       "    <tr>\n",
       "      <th>12/23/21</th>\n",
       "      <td>22230943.0</td>\n",
       "    </tr>\n",
       "    <tr>\n",
       "      <th>12/24/21</th>\n",
       "      <td>22234623.0</td>\n",
       "    </tr>\n",
       "    <tr>\n",
       "      <th>12/25/21</th>\n",
       "      <td>22238297.0</td>\n",
       "    </tr>\n",
       "    <tr>\n",
       "      <th>12/26/21</th>\n",
       "      <td>22243266.0</td>\n",
       "    </tr>\n",
       "    <tr>\n",
       "      <th>12/27/21</th>\n",
       "      <td>22250218.0</td>\n",
       "    </tr>\n",
       "    <tr>\n",
       "      <th>12/28/21</th>\n",
       "      <td>22259270.0</td>\n",
       "    </tr>\n",
       "    <tr>\n",
       "      <th>12/29/21</th>\n",
       "      <td>22269031.0</td>\n",
       "    </tr>\n",
       "    <tr>\n",
       "      <th>12/30/21</th>\n",
       "      <td>22281649.0</td>\n",
       "    </tr>\n",
       "    <tr>\n",
       "      <th>12/31/21</th>\n",
       "      <td>22291839.0</td>\n",
       "    </tr>\n",
       "  </tbody>\n",
       "</table>\n",
       "</div>"
      ],
      "text/plain": [
       "              Brazil\n",
       "date                \n",
       "12/22/21  22227169.0\n",
       "12/23/21  22230943.0\n",
       "12/24/21  22234623.0\n",
       "12/25/21  22238297.0\n",
       "12/26/21  22243266.0\n",
       "12/27/21  22250218.0\n",
       "12/28/21  22259270.0\n",
       "12/29/21  22269031.0\n",
       "12/30/21  22281649.0\n",
       "12/31/21  22291839.0"
      ]
     },
     "execution_count": 6,
     "metadata": {},
     "output_type": "execute_result"
    }
   ],
   "source": [
    "data.tail(10)"
   ]
  },
  {
   "cell_type": "markdown",
   "metadata": {},
   "source": [
    "Dimensão da base de dados : tempos 1 coluna com 655 observações."
   ]
  },
  {
   "cell_type": "code",
   "execution_count": 7,
   "metadata": {},
   "outputs": [
    {
     "data": {
      "text/plain": [
       "(675, 1)"
      ]
     },
     "execution_count": 7,
     "metadata": {},
     "output_type": "execute_result"
    }
   ],
   "source": [
    "data.shape"
   ]
  },
  {
   "cell_type": "markdown",
   "metadata": {},
   "source": [
    "Informações sobre a base de dados."
   ]
  },
  {
   "cell_type": "code",
   "execution_count": 8,
   "metadata": {},
   "outputs": [
    {
     "name": "stdout",
     "output_type": "stream",
     "text": [
      "<class 'pandas.core.frame.DataFrame'>\n",
      "Index: 675 entries, 2/26/20 to 12/31/21\n",
      "Data columns (total 1 columns):\n",
      " #   Column  Non-Null Count  Dtype  \n",
      "---  ------  --------------  -----  \n",
      " 0   Brazil  675 non-null    float64\n",
      "dtypes: float64(1)\n",
      "memory usage: 10.5+ KB\n"
     ]
    }
   ],
   "source": [
    "data.info()"
   ]
  },
  {
   "cell_type": "markdown",
   "metadata": {},
   "source": [
    "Abaixo podemos ver a tabela estatística."
   ]
  },
  {
   "cell_type": "code",
   "execution_count": 9,
   "metadata": {},
   "outputs": [
    {
     "data": {
      "text/html": [
       "<div>\n",
       "<style scoped>\n",
       "    .dataframe tbody tr th:only-of-type {\n",
       "        vertical-align: middle;\n",
       "    }\n",
       "\n",
       "    .dataframe tbody tr th {\n",
       "        vertical-align: top;\n",
       "    }\n",
       "\n",
       "    .dataframe thead th {\n",
       "        text-align: right;\n",
       "    }\n",
       "</style>\n",
       "<table border=\"1\" class=\"dataframe\">\n",
       "  <thead>\n",
       "    <tr style=\"text-align: right;\">\n",
       "      <th></th>\n",
       "      <th>Brazil</th>\n",
       "    </tr>\n",
       "  </thead>\n",
       "  <tbody>\n",
       "    <tr>\n",
       "      <th>count</th>\n",
       "      <td>6.750000e+02</td>\n",
       "    </tr>\n",
       "    <tr>\n",
       "      <th>mean</th>\n",
       "      <td>1.051255e+07</td>\n",
       "    </tr>\n",
       "    <tr>\n",
       "      <th>std</th>\n",
       "      <td>8.053011e+06</td>\n",
       "    </tr>\n",
       "    <tr>\n",
       "      <th>min</th>\n",
       "      <td>1.000000e+00</td>\n",
       "    </tr>\n",
       "    <tr>\n",
       "      <th>25%</th>\n",
       "      <td>3.194830e+06</td>\n",
       "    </tr>\n",
       "    <tr>\n",
       "      <th>50%</th>\n",
       "      <td>9.058687e+06</td>\n",
       "    </tr>\n",
       "    <tr>\n",
       "      <th>75%</th>\n",
       "      <td>1.928531e+07</td>\n",
       "    </tr>\n",
       "    <tr>\n",
       "      <th>max</th>\n",
       "      <td>2.229184e+07</td>\n",
       "    </tr>\n",
       "  </tbody>\n",
       "</table>\n",
       "</div>"
      ],
      "text/plain": [
       "             Brazil\n",
       "count  6.750000e+02\n",
       "mean   1.051255e+07\n",
       "std    8.053011e+06\n",
       "min    1.000000e+00\n",
       "25%    3.194830e+06\n",
       "50%    9.058687e+06\n",
       "75%    1.928531e+07\n",
       "max    2.229184e+07"
      ]
     },
     "execution_count": 9,
     "metadata": {},
     "output_type": "execute_result"
    }
   ],
   "source": [
    "data.describe()"
   ]
  },
  {
   "cell_type": "markdown",
   "metadata": {},
   "source": [
    "Por fim, vamos visualizar graficamente a base de dados.\n",
    "\n",
    "Vemos que ela tem uma tendência, vai subindo e ao final se estabiliza."
   ]
  },
  {
   "cell_type": "code",
   "execution_count": 10,
   "metadata": {},
   "outputs": [
    {
     "data": {
      "image/png": "[encoded data removed]",
      "text/plain": [
       "<Figure size 1080x432 with 1 Axes>"
      ]
     },
     "metadata": {
      "needs_background": "light"
     },
     "output_type": "display_data"
    }
   ],
   "source": [
    "data.plot()\n",
    "plt.xlabel('Meses',size=15)\n",
    "plt.ylabel('')\n",
    "plt.title('Casos confirmados de COVID19 no Brasil',size=15)\n",
    "plt.show()"
   ]
  },
  {
   "cell_type": "markdown",
   "metadata": {},
   "source": [
    "## Aplicando o AutoARIMA\n",
    "\n",
    "Escolherei os parâmetros *p, d, q, P, D* e *Q*:\n",
    "\n",
    "1) o *p* vai variar entre 1 e 6;\n",
    "\n",
    "2) o *q* vai variar entre 1 e 6;\n",
    "\n",
    "3) a sazonalidade será 0;\n",
    "\n",
    "4) o *P* iniciará em 0 e o máximo, por padrão, será 2;\n",
    "\n",
    "5) o *Q* por padrão será 1 e o máximo, por padrão, será 2;\n",
    "\n",
    "6) o *d* será 1 e o máximo, por padrão, será 2;\n",
    "\n",
    "7) o *D* será 1, por padrão já é 1.\n",
    "\n",
    "Vamos agora aplicar o processamento do *autoARIMA*.\n",
    "\n",
    "Vamos atribuir a uma variável o *autoARIMA*, que gerará vários modelos ARIMA e os seus respectivos AIC's e BICS (critérios de informação)."
   ]
  },
  {
   "cell_type": "code",
   "execution_count": 11,
   "metadata": {},
   "outputs": [
    {
     "name": "stdout",
     "output_type": "stream",
     "text": [
      "Performing stepwise search to minimize aic\n",
      " ARIMA(1,1,1)(0,0,0)[0] intercept   : AIC=15045.420, Time=0.08 sec\n",
      " ARIMA(0,1,0)(0,0,0)[0] intercept   : AIC=15602.758, Time=0.02 sec\n",
      " ARIMA(1,1,0)(0,0,0)[0] intercept   : AIC=15062.152, Time=0.02 sec\n",
      " ARIMA(0,1,1)(0,0,0)[0] intercept   : AIC=15334.894, Time=0.05 sec\n",
      " ARIMA(0,1,0)(0,0,0)[0]             : AIC=16260.362, Time=0.01 sec\n",
      " ARIMA(2,1,1)(0,0,0)[0] intercept   : AIC=15045.667, Time=0.12 sec\n",
      " ARIMA(1,1,2)(0,0,0)[0] intercept   : AIC=14996.808, Time=0.10 sec\n",
      " ARIMA(0,1,2)(0,0,0)[0] intercept   : AIC=15257.458, Time=0.07 sec\n",
      " ARIMA(2,1,2)(0,0,0)[0] intercept   : AIC=14989.152, Time=0.19 sec\n",
      " ARIMA(3,1,2)(0,0,0)[0] intercept   : AIC=inf, Time=0.73 sec\n",
      " ARIMA(2,1,3)(0,0,0)[0] intercept   : AIC=inf, Time=0.85 sec\n",
      " ARIMA(1,1,3)(0,0,0)[0] intercept   : AIC=14943.360, Time=0.38 sec\n",
      " ARIMA(0,1,3)(0,0,0)[0] intercept   : AIC=15256.856, Time=0.16 sec\n",
      " ARIMA(1,1,4)(0,0,0)[0] intercept   : AIC=14923.493, Time=0.22 sec\n",
      " ARIMA(0,1,4)(0,0,0)[0] intercept   : AIC=15226.472, Time=0.17 sec\n",
      " ARIMA(2,1,4)(0,0,0)[0] intercept   : AIC=14945.425, Time=0.29 sec\n",
      " ARIMA(1,1,5)(0,0,0)[0] intercept   : AIC=14903.709, Time=0.29 sec\n",
      " ARIMA(0,1,5)(0,0,0)[0] intercept   : AIC=15226.651, Time=0.26 sec\n",
      " ARIMA(2,1,5)(0,0,0)[0] intercept   : AIC=14892.686, Time=0.58 sec\n",
      " ARIMA(3,1,5)(0,0,0)[0] intercept   : AIC=14738.035, Time=1.32 sec\n",
      " ARIMA(3,1,4)(0,0,0)[0] intercept   : AIC=14920.659, Time=0.54 sec\n",
      " ARIMA(4,1,5)(0,0,0)[0] intercept   : AIC=14705.810, Time=1.42 sec\n",
      " ARIMA(4,1,4)(0,0,0)[0] intercept   : AIC=14722.182, Time=1.24 sec\n",
      " ARIMA(5,1,5)(0,0,0)[0] intercept   : AIC=14664.657, Time=1.55 sec\n",
      " ARIMA(5,1,4)(0,0,0)[0] intercept   : AIC=14694.756, Time=1.22 sec\n",
      " ARIMA(6,1,5)(0,0,0)[0] intercept   : AIC=14547.529, Time=1.65 sec\n",
      " ARIMA(6,1,4)(0,0,0)[0] intercept   : AIC=14613.442, Time=1.40 sec\n",
      " ARIMA(6,1,6)(0,0,0)[0] intercept   : AIC=14533.579, Time=1.70 sec\n",
      " ARIMA(5,1,6)(0,0,0)[0] intercept   : AIC=14578.573, Time=1.71 sec\n",
      " ARIMA(6,1,6)(0,0,0)[0]             : AIC=14529.478, Time=1.68 sec\n",
      " ARIMA(5,1,6)(0,0,0)[0]             : AIC=14562.213, Time=1.56 sec\n",
      " ARIMA(6,1,5)(0,0,0)[0]             : AIC=14539.877, Time=1.52 sec\n",
      " ARIMA(5,1,5)(0,0,0)[0]             : AIC=14576.571, Time=1.72 sec\n",
      "\n",
      "Best model:  ARIMA(6,1,6)(0,0,0)[0]          \n",
      "Total fit time: 24.807 seconds\n"
     ]
    }
   ],
   "source": [
    "stepwise=auto_arima(data,start_p=1,start_q=1,max_p=6,max_q=6,m=0,start_P=0,seasonal=False,d=1,D=1,trace=True,\n",
    "                    error_action='ignore',suppress_warnings=True,stepwise=True)"
   ]
  },
  {
   "cell_type": "markdown",
   "metadata": {},
   "source": [
    "O modelo que foi gerado é um *SARIMA*(1,1,1)x(2,1,2,12)."
   ]
  },
  {
   "cell_type": "code",
   "execution_count": 12,
   "metadata": {},
   "outputs": [
    {
     "data": {
      "text/plain": [
       "ARIMA(order=(6, 1, 6), scoring_args={}, suppress_warnings=True,\n",
       "      with_intercept=False)"
      ]
     },
     "execution_count": 12,
     "metadata": {},
     "output_type": "execute_result"
    }
   ],
   "source": [
    "stepwise"
   ]
  },
  {
   "cell_type": "markdown",
   "metadata": {},
   "source": [
    "Esse foi o model com menor *AIC* gerado."
   ]
  },
  {
   "cell_type": "code",
   "execution_count": 13,
   "metadata": {},
   "outputs": [
    {
     "data": {
      "text/plain": [
       "14529.478064722902"
      ]
     },
     "execution_count": 13,
     "metadata": {},
     "output_type": "execute_result"
    }
   ],
   "source": [
    "stepwise.aic()"
   ]
  },
  {
   "cell_type": "markdown",
   "metadata": {},
   "source": [
    "Podemos gerar ainda mais modelos colocando o parâmetro *stepwise* com *False*."
   ]
  },
  {
   "cell_type": "code",
   "execution_count": 14,
   "metadata": {},
   "outputs": [
    {
     "name": "stdout",
     "output_type": "stream",
     "text": [
      " ARIMA(0,1,0)(0,0,0)[0] intercept   : AIC=15602.758, Time=0.02 sec\n",
      " ARIMA(0,1,1)(0,0,0)[0] intercept   : AIC=15334.894, Time=0.05 sec\n",
      " ARIMA(0,1,2)(0,0,0)[0] intercept   : AIC=15257.458, Time=0.07 sec\n",
      " ARIMA(0,1,3)(0,0,0)[0] intercept   : AIC=15256.856, Time=0.17 sec\n",
      " ARIMA(0,1,4)(0,0,0)[0] intercept   : AIC=15226.472, Time=0.17 sec\n",
      " ARIMA(0,1,5)(0,0,0)[0] intercept   : AIC=15226.651, Time=0.26 sec\n",
      " ARIMA(1,1,0)(0,0,0)[0] intercept   : AIC=15062.152, Time=0.02 sec\n",
      " ARIMA(1,1,1)(0,0,0)[0] intercept   : AIC=15045.420, Time=0.06 sec\n",
      " ARIMA(1,1,2)(0,0,0)[0] intercept   : AIC=14996.808, Time=0.10 sec\n",
      " ARIMA(1,1,3)(0,0,0)[0] intercept   : AIC=14943.360, Time=0.38 sec\n",
      " ARIMA(1,1,4)(0,0,0)[0] intercept   : AIC=14923.493, Time=0.22 sec\n",
      " ARIMA(2,1,0)(0,0,0)[0] intercept   : AIC=15049.240, Time=0.04 sec\n",
      " ARIMA(2,1,1)(0,0,0)[0] intercept   : AIC=15045.667, Time=0.11 sec\n",
      " ARIMA(2,1,2)(0,0,0)[0] intercept   : AIC=14989.152, Time=0.19 sec\n",
      " ARIMA(2,1,3)(0,0,0)[0] intercept   : AIC=inf, Time=0.85 sec\n",
      " ARIMA(3,1,0)(0,0,0)[0] intercept   : AIC=15042.128, Time=0.07 sec\n",
      " ARIMA(3,1,1)(0,0,0)[0] intercept   : AIC=15038.107, Time=0.20 sec\n",
      " ARIMA(3,1,2)(0,0,0)[0] intercept   : AIC=inf, Time=0.73 sec\n",
      " ARIMA(4,1,0)(0,0,0)[0] intercept   : AIC=15016.795, Time=0.16 sec\n",
      " ARIMA(4,1,1)(0,0,0)[0] intercept   : AIC=14985.825, Time=0.23 sec\n",
      " ARIMA(5,1,0)(0,0,0)[0] intercept   : AIC=14983.170, Time=0.11 sec\n",
      "\n",
      "Best model:  ARIMA(1,1,4)(0,0,0)[0] intercept\n",
      "Total fit time: 4.195 seconds\n"
     ]
    }
   ],
   "source": [
    "stepwise1=auto_arima(data,start_p=1,start_q=1,max_p=12,max_q=12,m=0,start_P=0,seasonal=False,d=1,D=1,trace=True,\n",
    "                    error_action='ignore',suppress_warnings=True,stepwise=False)"
   ]
  },
  {
   "cell_type": "markdown",
   "metadata": {},
   "source": [
    "O modelo com menor *AIC* foi um pouco diferente do anterior, pois o componente sazonal *D* é 1 ao invés de 2."
   ]
  },
  {
   "cell_type": "code",
   "execution_count": 15,
   "metadata": {},
   "outputs": [
    {
     "data": {
      "text/plain": [
       "ARIMA(order=(1, 1, 4), scoring_args={}, suppress_warnings=True)"
      ]
     },
     "execution_count": 15,
     "metadata": {},
     "output_type": "execute_result"
    }
   ],
   "source": [
    "stepwise1"
   ]
  },
  {
   "cell_type": "markdown",
   "metadata": {},
   "source": [
    "O *AIC* desse modelo foi um pouco maior que o anterior."
   ]
  },
  {
   "cell_type": "code",
   "execution_count": 16,
   "metadata": {},
   "outputs": [
    {
     "data": {
      "text/plain": [
       "14923.492911183781"
      ]
     },
     "execution_count": 16,
     "metadata": {},
     "output_type": "execute_result"
    }
   ],
   "source": [
    "stepwise1.aic()"
   ]
  },
  {
   "cell_type": "markdown",
   "metadata": {},
   "source": [
    "## Separando os dados de treino e de teste\n",
    "\n",
    "Vamos agora usar o *autoARIMA* para gerar uma validação do modelo. Para isso iremos separar os dados em treino e teste. Os dados de treino serão usado para treinar o *autoARIMA* e os dados de teste para comparar com as preisões geradas. "
   ]
  },
  {
   "cell_type": "code",
   "execution_count": 17,
   "metadata": {},
   "outputs": [],
   "source": [
    "total = len(data)\n",
    "t = int(total*0.33)\n",
    "train=data.iloc[:-t]\n",
    "test=data.iloc[-t:]"
   ]
  },
  {
   "cell_type": "markdown",
   "metadata": {},
   "source": [
    "Vamos treinar os modelos que geramos."
   ]
  },
  {
   "cell_type": "code",
   "execution_count": 18,
   "metadata": {},
   "outputs": [
    {
     "data": {
      "text/plain": [
       "ARIMA(order=(1, 1, 4), scoring_args={}, suppress_warnings=True)"
      ]
     },
     "execution_count": 18,
     "metadata": {},
     "output_type": "execute_result"
    }
   ],
   "source": [
    "stepwise.fit(train)\n",
    "stepwise1.fit(train)"
   ]
  },
  {
   "cell_type": "markdown",
   "metadata": {},
   "source": [
    "Vamos gerar as previsões de cada modelo."
   ]
  },
  {
   "cell_type": "code",
   "execution_count": 19,
   "metadata": {},
   "outputs": [],
   "source": [
    "future_forecast=stepwise.predict(len(test))\n",
    "future_forecast1=stepwise1.predict(len(test))"
   ]
  },
  {
   "cell_type": "markdown",
   "metadata": {},
   "source": [
    "Transformando as previsões em um *dataframe*."
   ]
  },
  {
   "cell_type": "code",
   "execution_count": 20,
   "metadata": {},
   "outputs": [],
   "source": [
    "future_forecast=pd.DataFrame(future_forecast,index=test.index, columns=['previsão modelo 1'])\n",
    "future_forecast1=pd.DataFrame(future_forecast1,index=test.index, columns=['previsão modelo 2'])"
   ]
  },
  {
   "cell_type": "markdown",
   "metadata": {},
   "source": [
    "Visualizando o *dataset* de previsões."
   ]
  },
  {
   "cell_type": "code",
   "execution_count": 21,
   "metadata": {},
   "outputs": [
    {
     "data": {
      "text/html": [
       "<div>\n",
       "<style scoped>\n",
       "    .dataframe tbody tr th:only-of-type {\n",
       "        vertical-align: middle;\n",
       "    }\n",
       "\n",
       "    .dataframe tbody tr th {\n",
       "        vertical-align: top;\n",
       "    }\n",
       "\n",
       "    .dataframe thead th {\n",
       "        text-align: right;\n",
       "    }\n",
       "</style>\n",
       "<table border=\"1\" class=\"dataframe\">\n",
       "  <thead>\n",
       "    <tr style=\"text-align: right;\">\n",
       "      <th></th>\n",
       "      <th>previsão modelo 1</th>\n",
       "    </tr>\n",
       "    <tr>\n",
       "      <th>date</th>\n",
       "      <th></th>\n",
       "    </tr>\n",
       "  </thead>\n",
       "  <tbody>\n",
       "    <tr>\n",
       "      <th>5/24/21</th>\n",
       "      <td>1.612804e+07</td>\n",
       "    </tr>\n",
       "    <tr>\n",
       "      <th>5/25/21</th>\n",
       "      <td>1.618982e+07</td>\n",
       "    </tr>\n",
       "    <tr>\n",
       "      <th>5/26/21</th>\n",
       "      <td>1.626774e+07</td>\n",
       "    </tr>\n",
       "    <tr>\n",
       "      <th>5/27/21</th>\n",
       "      <td>1.635442e+07</td>\n",
       "    </tr>\n",
       "    <tr>\n",
       "      <th>5/28/21</th>\n",
       "      <td>1.643308e+07</td>\n",
       "    </tr>\n",
       "    <tr>\n",
       "      <th>5/29/21</th>\n",
       "      <td>1.649111e+07</td>\n",
       "    </tr>\n",
       "    <tr>\n",
       "      <th>5/30/21</th>\n",
       "      <td>1.653736e+07</td>\n",
       "    </tr>\n",
       "    <tr>\n",
       "      <th>5/31/21</th>\n",
       "      <td>1.658256e+07</td>\n",
       "    </tr>\n",
       "    <tr>\n",
       "      <th>6/1/21</th>\n",
       "      <td>1.664240e+07</td>\n",
       "    </tr>\n",
       "    <tr>\n",
       "      <th>6/2/21</th>\n",
       "      <td>1.672210e+07</td>\n",
       "    </tr>\n",
       "  </tbody>\n",
       "</table>\n",
       "</div>"
      ],
      "text/plain": [
       "         previsão modelo 1\n",
       "date                      \n",
       "5/24/21       1.612804e+07\n",
       "5/25/21       1.618982e+07\n",
       "5/26/21       1.626774e+07\n",
       "5/27/21       1.635442e+07\n",
       "5/28/21       1.643308e+07\n",
       "5/29/21       1.649111e+07\n",
       "5/30/21       1.653736e+07\n",
       "5/31/21       1.658256e+07\n",
       "6/1/21        1.664240e+07\n",
       "6/2/21        1.672210e+07"
      ]
     },
     "execution_count": 21,
     "metadata": {},
     "output_type": "execute_result"
    }
   ],
   "source": [
    "future_forecast.head(10)"
   ]
  },
  {
   "cell_type": "code",
   "execution_count": 22,
   "metadata": {},
   "outputs": [
    {
     "data": {
      "text/html": [
       "<div>\n",
       "<style scoped>\n",
       "    .dataframe tbody tr th:only-of-type {\n",
       "        vertical-align: middle;\n",
       "    }\n",
       "\n",
       "    .dataframe tbody tr th {\n",
       "        vertical-align: top;\n",
       "    }\n",
       "\n",
       "    .dataframe thead th {\n",
       "        text-align: right;\n",
       "    }\n",
       "</style>\n",
       "<table border=\"1\" class=\"dataframe\">\n",
       "  <thead>\n",
       "    <tr style=\"text-align: right;\">\n",
       "      <th></th>\n",
       "      <th>previsão modelo 2</th>\n",
       "    </tr>\n",
       "    <tr>\n",
       "      <th>date</th>\n",
       "      <th></th>\n",
       "    </tr>\n",
       "  </thead>\n",
       "  <tbody>\n",
       "    <tr>\n",
       "      <th>5/24/21</th>\n",
       "      <td>1.613425e+07</td>\n",
       "    </tr>\n",
       "    <tr>\n",
       "      <th>5/25/21</th>\n",
       "      <td>1.620151e+07</td>\n",
       "    </tr>\n",
       "    <tr>\n",
       "      <th>5/26/21</th>\n",
       "      <td>1.627636e+07</td>\n",
       "    </tr>\n",
       "    <tr>\n",
       "      <th>5/27/21</th>\n",
       "      <td>1.633733e+07</td>\n",
       "    </tr>\n",
       "    <tr>\n",
       "      <th>5/28/21</th>\n",
       "      <td>1.639630e+07</td>\n",
       "    </tr>\n",
       "    <tr>\n",
       "      <th>5/29/21</th>\n",
       "      <td>1.645351e+07</td>\n",
       "    </tr>\n",
       "    <tr>\n",
       "      <th>5/30/21</th>\n",
       "      <td>1.650916e+07</td>\n",
       "    </tr>\n",
       "    <tr>\n",
       "      <th>5/31/21</th>\n",
       "      <td>1.656345e+07</td>\n",
       "    </tr>\n",
       "    <tr>\n",
       "      <th>6/1/21</th>\n",
       "      <td>1.661654e+07</td>\n",
       "    </tr>\n",
       "    <tr>\n",
       "      <th>6/2/21</th>\n",
       "      <td>1.666857e+07</td>\n",
       "    </tr>\n",
       "  </tbody>\n",
       "</table>\n",
       "</div>"
      ],
      "text/plain": [
       "         previsão modelo 2\n",
       "date                      \n",
       "5/24/21       1.613425e+07\n",
       "5/25/21       1.620151e+07\n",
       "5/26/21       1.627636e+07\n",
       "5/27/21       1.633733e+07\n",
       "5/28/21       1.639630e+07\n",
       "5/29/21       1.645351e+07\n",
       "5/30/21       1.650916e+07\n",
       "5/31/21       1.656345e+07\n",
       "6/1/21        1.661654e+07\n",
       "6/2/21        1.666857e+07"
      ]
     },
     "execution_count": 22,
     "metadata": {},
     "output_type": "execute_result"
    }
   ],
   "source": [
    "future_forecast1.head(10)"
   ]
  },
  {
   "cell_type": "markdown",
   "metadata": {},
   "source": [
    "Comparando graficamente os valores reais com as previsões, vemos que os resultados das previsões parecem acompanhar bem o valores reais."
   ]
  },
  {
   "cell_type": "code",
   "execution_count": 23,
   "metadata": {},
   "outputs": [
    {
     "data": {
      "text/plain": [
       "<Figure size 1440x360 with 0 Axes>"
      ]
     },
     "metadata": {},
     "output_type": "display_data"
    },
    {
     "data": {
      "image/png": "[encoded data removed]",
      "text/plain": [
       "<Figure size 1440x360 with 1 Axes>"
      ]
     },
     "metadata": {
      "needs_background": "light"
     },
     "output_type": "display_data"
    }
   ],
   "source": [
    "plt.figure(figsize=(20,5))\n",
    "pd.concat([test,future_forecast,future_forecast1],axis=1).plot(figsize=(20,5))\n",
    "plt.xlabel('')\n",
    "plt.title('Previsões X Real',size=15)\n",
    "plt.legend(['Valor real','previsão 1','previsão 2'])\n",
    "plt.show();"
   ]
  },
  {
   "cell_type": "code",
   "execution_count": 24,
   "metadata": {},
   "outputs": [
    {
     "data": {
      "image/png": "[encoded data removed]",
      "text/plain": [
       "<Figure size 1440x360 with 1 Axes>"
      ]
     },
     "metadata": {
      "needs_background": "light"
     },
     "output_type": "display_data"
    }
   ],
   "source": [
    "pd.concat([data,future_forecast],axis=1).plot(linewidth=1,figsize=(20,5))\n",
    "plt.legend('')\n",
    "plt.xlabel('')\n",
    "plt.title('Previsões X Real',size=15)\n",
    "plt.show();"
   ]
  },
  {
   "cell_type": "code",
   "execution_count": 25,
   "metadata": {},
   "outputs": [
    {
     "data": {
      "image/png": "[encoded data removed]",
      "text/plain": [
       "<Figure size 1440x360 with 1 Axes>"
      ]
     },
     "metadata": {
      "needs_background": "light"
     },
     "output_type": "display_data"
    }
   ],
   "source": [
    "pd.concat([data,future_forecast1],axis=1).plot(linewidth=1, figsize=(20,5))\n",
    "plt.legend('')\n",
    "plt.xlabel('')\n",
    "plt.title('Previsões X Real',size=15)\n",
    "plt.show();"
   ]
  },
  {
   "cell_type": "markdown",
   "metadata": {},
   "source": [
    "## Sumário dos modelos\n",
    "\n",
    "Abaixo podemos conferir os sumários dos modelos com seus coeficientes, estatísticas e p-valores.\n",
    "\n",
    "Podemos ver que no sumário em *model* que no valor do *D* está [1,2], ou seja, já está informando a possibilidade de ser com *D* igual a 1 ou *D* igual a 2, mas o restante do sumário diz respeito ao modelo 1."
   ]
  },
  {
   "cell_type": "code",
   "execution_count": 26,
   "metadata": {},
   "outputs": [
    {
     "data": {
      "text/html": [
       "<table class=\"simpletable\">\n",
       "<caption>SARIMAX Results</caption>\n",
       "<tr>\n",
       "  <th>Dep. Variable:</th>           <td>y</td>        <th>  No. Observations:  </th>    <td>453</td>   \n",
       "</tr>\n",
       "<tr>\n",
       "  <th>Model:</th>           <td>SARIMAX(6, 1, 6)</td> <th>  Log Likelihood     </th> <td>-4860.230</td>\n",
       "</tr>\n",
       "<tr>\n",
       "  <th>Date:</th>            <td>Sun, 23 Jan 2022</td> <th>  AIC                </th> <td>9746.459</td> \n",
       "</tr>\n",
       "<tr>\n",
       "  <th>Time:</th>                <td>14:43:37</td>     <th>  BIC                </th> <td>9799.937</td> \n",
       "</tr>\n",
       "<tr>\n",
       "  <th>Sample:</th>                  <td>0</td>        <th>  HQIC               </th> <td>9767.533</td> \n",
       "</tr>\n",
       "<tr>\n",
       "  <th></th>                      <td> - 453</td>      <th>                     </th>     <td> </td>    \n",
       "</tr>\n",
       "<tr>\n",
       "  <th>Covariance Type:</th>        <td>opg</td>       <th>                     </th>     <td> </td>    \n",
       "</tr>\n",
       "</table>\n",
       "<table class=\"simpletable\">\n",
       "<tr>\n",
       "     <td></td>       <th>coef</th>     <th>std err</th>      <th>z</th>      <th>P>|z|</th>  <th>[0.025</th>    <th>0.975]</th>  \n",
       "</tr>\n",
       "<tr>\n",
       "  <th>ar.L1</th>  <td>   -0.1515</td> <td>    0.245</td> <td>   -0.618</td> <td> 0.537</td> <td>   -0.632</td> <td>    0.329</td>\n",
       "</tr>\n",
       "<tr>\n",
       "  <th>ar.L2</th>  <td>    0.7559</td> <td>    0.202</td> <td>    3.745</td> <td> 0.000</td> <td>    0.360</td> <td>    1.151</td>\n",
       "</tr>\n",
       "<tr>\n",
       "  <th>ar.L3</th>  <td>    0.0061</td> <td>    0.020</td> <td>    0.305</td> <td> 0.760</td> <td>   -0.033</td> <td>    0.045</td>\n",
       "</tr>\n",
       "<tr>\n",
       "  <th>ar.L4</th>  <td>   -0.7685</td> <td>    0.039</td> <td>  -19.881</td> <td> 0.000</td> <td>   -0.844</td> <td>   -0.693</td>\n",
       "</tr>\n",
       "<tr>\n",
       "  <th>ar.L5</th>  <td>    0.1815</td> <td>    0.211</td> <td>    0.862</td> <td> 0.389</td> <td>   -0.231</td> <td>    0.594</td>\n",
       "</tr>\n",
       "<tr>\n",
       "  <th>ar.L6</th>  <td>    0.9764</td> <td>    0.247</td> <td>    3.951</td> <td> 0.000</td> <td>    0.492</td> <td>    1.461</td>\n",
       "</tr>\n",
       "<tr>\n",
       "  <th>ma.L1</th>  <td>    0.3213</td> <td>    0.256</td> <td>    1.257</td> <td> 0.209</td> <td>   -0.180</td> <td>    0.822</td>\n",
       "</tr>\n",
       "<tr>\n",
       "  <th>ma.L2</th>  <td>   -0.6072</td> <td>    0.170</td> <td>   -3.566</td> <td> 0.000</td> <td>   -0.941</td> <td>   -0.273</td>\n",
       "</tr>\n",
       "<tr>\n",
       "  <th>ma.L3</th>  <td>   -0.0324</td> <td>    0.056</td> <td>   -0.573</td> <td> 0.567</td> <td>   -0.143</td> <td>    0.078</td>\n",
       "</tr>\n",
       "<tr>\n",
       "  <th>ma.L4</th>  <td>    0.7787</td> <td>    0.062</td> <td>   12.491</td> <td> 0.000</td> <td>    0.657</td> <td>    0.901</td>\n",
       "</tr>\n",
       "<tr>\n",
       "  <th>ma.L5</th>  <td>    0.0447</td> <td>    0.226</td> <td>    0.198</td> <td> 0.843</td> <td>   -0.399</td> <td>    0.488</td>\n",
       "</tr>\n",
       "<tr>\n",
       "  <th>ma.L6</th>  <td>   -0.7663</td> <td>    0.215</td> <td>   -3.561</td> <td> 0.000</td> <td>   -1.188</td> <td>   -0.345</td>\n",
       "</tr>\n",
       "<tr>\n",
       "  <th>sigma2</th> <td> 1.239e+08</td> <td> 2.61e-09</td> <td> 4.75e+16</td> <td> 0.000</td> <td> 1.24e+08</td> <td> 1.24e+08</td>\n",
       "</tr>\n",
       "</table>\n",
       "<table class=\"simpletable\">\n",
       "<tr>\n",
       "  <th>Ljung-Box (L1) (Q):</th>     <td>4.57</td> <th>  Jarque-Bera (JB):  </th> <td>131.23</td>\n",
       "</tr>\n",
       "<tr>\n",
       "  <th>Prob(Q):</th>                <td>0.03</td> <th>  Prob(JB):          </th>  <td>0.00</td> \n",
       "</tr>\n",
       "<tr>\n",
       "  <th>Heteroskedasticity (H):</th> <td>6.68</td> <th>  Skew:              </th>  <td>0.11</td> \n",
       "</tr>\n",
       "<tr>\n",
       "  <th>Prob(H) (two-sided):</th>    <td>0.00</td> <th>  Kurtosis:          </th>  <td>5.63</td> \n",
       "</tr>\n",
       "</table><br/><br/>Warnings:<br/>[1] Covariance matrix calculated using the outer product of gradients (complex-step).<br/>[2] Covariance matrix is singular or near-singular, with condition number 7.27e+32. Standard errors may be unstable."
      ],
      "text/plain": [
       "<class 'statsmodels.iolib.summary.Summary'>\n",
       "\"\"\"\n",
       "                               SARIMAX Results                                \n",
       "==============================================================================\n",
       "Dep. Variable:                      y   No. Observations:                  453\n",
       "Model:               SARIMAX(6, 1, 6)   Log Likelihood               -4860.230\n",
       "Date:                Sun, 23 Jan 2022   AIC                           9746.459\n",
       "Time:                        14:43:37   BIC                           9799.937\n",
       "Sample:                             0   HQIC                          9767.533\n",
       "                                - 453                                         \n",
       "Covariance Type:                  opg                                         \n",
       "==============================================================================\n",
       "                 coef    std err          z      P>|z|      [0.025      0.975]\n",
       "------------------------------------------------------------------------------\n",
       "ar.L1         -0.1515      0.245     -0.618      0.537      -0.632       0.329\n",
       "ar.L2          0.7559      0.202      3.745      0.000       0.360       1.151\n",
       "ar.L3          0.0061      0.020      0.305      0.760      -0.033       0.045\n",
       "ar.L4         -0.7685      0.039    -19.881      0.000      -0.844      -0.693\n",
       "ar.L5          0.1815      0.211      0.862      0.389      -0.231       0.594\n",
       "ar.L6          0.9764      0.247      3.951      0.000       0.492       1.461\n",
       "ma.L1          0.3213      0.256      1.257      0.209      -0.180       0.822\n",
       "ma.L2         -0.6072      0.170     -3.566      0.000      -0.941      -0.273\n",
       "ma.L3         -0.0324      0.056     -0.573      0.567      -0.143       0.078\n",
       "ma.L4          0.7787      0.062     12.491      0.000       0.657       0.901\n",
       "ma.L5          0.0447      0.226      0.198      0.843      -0.399       0.488\n",
       "ma.L6         -0.7663      0.215     -3.561      0.000      -1.188      -0.345\n",
       "sigma2      1.239e+08   2.61e-09   4.75e+16      0.000    1.24e+08    1.24e+08\n",
       "===================================================================================\n",
       "Ljung-Box (L1) (Q):                   4.57   Jarque-Bera (JB):               131.23\n",
       "Prob(Q):                              0.03   Prob(JB):                         0.00\n",
       "Heteroskedasticity (H):               6.68   Skew:                             0.11\n",
       "Prob(H) (two-sided):                  0.00   Kurtosis:                         5.63\n",
       "===================================================================================\n",
       "\n",
       "Warnings:\n",
       "[1] Covariance matrix calculated using the outer product of gradients (complex-step).\n",
       "[2] Covariance matrix is singular or near-singular, with condition number 7.27e+32. Standard errors may be unstable.\n",
       "\"\"\""
      ]
     },
     "execution_count": 26,
     "metadata": {},
     "output_type": "execute_result"
    }
   ],
   "source": [
    "stepwise.summary()"
   ]
  },
  {
   "cell_type": "markdown",
   "metadata": {},
   "source": [
    "Simário do modelo 2."
   ]
  },
  {
   "cell_type": "code",
   "execution_count": 27,
   "metadata": {},
   "outputs": [
    {
     "data": {
      "text/html": [
       "<table class=\"simpletable\">\n",
       "<caption>SARIMAX Results</caption>\n",
       "<tr>\n",
       "  <th>Dep. Variable:</th>           <td>y</td>        <th>  No. Observations:  </th>    <td>453</td>   \n",
       "</tr>\n",
       "<tr>\n",
       "  <th>Model:</th>           <td>SARIMAX(1, 1, 4)</td> <th>  Log Likelihood     </th> <td>-4988.403</td>\n",
       "</tr>\n",
       "<tr>\n",
       "  <th>Date:</th>            <td>Sun, 23 Jan 2022</td> <th>  AIC                </th> <td>9990.806</td> \n",
       "</tr>\n",
       "<tr>\n",
       "  <th>Time:</th>                <td>14:43:37</td>     <th>  BIC                </th> <td>10019.602</td>\n",
       "</tr>\n",
       "<tr>\n",
       "  <th>Sample:</th>                  <td>0</td>        <th>  HQIC               </th> <td>10002.153</td>\n",
       "</tr>\n",
       "<tr>\n",
       "  <th></th>                      <td> - 453</td>      <th>                     </th>     <td> </td>    \n",
       "</tr>\n",
       "<tr>\n",
       "  <th>Covariance Type:</th>        <td>opg</td>       <th>                     </th>     <td> </td>    \n",
       "</tr>\n",
       "</table>\n",
       "<table class=\"simpletable\">\n",
       "<tr>\n",
       "      <td></td>         <th>coef</th>     <th>std err</th>      <th>z</th>      <th>P>|z|</th>  <th>[0.025</th>    <th>0.975]</th>  \n",
       "</tr>\n",
       "<tr>\n",
       "  <th>intercept</th> <td> 5362.1428</td> <td>  897.248</td> <td>    5.976</td> <td> 0.000</td> <td> 3603.569</td> <td> 7120.716</td>\n",
       "</tr>\n",
       "<tr>\n",
       "  <th>ar.L1</th>     <td>    0.8791</td> <td>    0.019</td> <td>   45.872</td> <td> 0.000</td> <td>    0.842</td> <td>    0.917</td>\n",
       "</tr>\n",
       "<tr>\n",
       "  <th>ma.L1</th>     <td>   -0.6159</td> <td>    0.033</td> <td>  -18.521</td> <td> 0.000</td> <td>   -0.681</td> <td>   -0.551</td>\n",
       "</tr>\n",
       "<tr>\n",
       "  <th>ma.L2</th>     <td>   -0.3306</td> <td>    0.032</td> <td>  -10.429</td> <td> 0.000</td> <td>   -0.393</td> <td>   -0.268</td>\n",
       "</tr>\n",
       "<tr>\n",
       "  <th>ma.L3</th>     <td>   -0.0536</td> <td>    0.042</td> <td>   -1.274</td> <td> 0.203</td> <td>   -0.136</td> <td>    0.029</td>\n",
       "</tr>\n",
       "<tr>\n",
       "  <th>ma.L4</th>     <td>    0.5176</td> <td>    0.037</td> <td>   14.157</td> <td> 0.000</td> <td>    0.446</td> <td>    0.589</td>\n",
       "</tr>\n",
       "<tr>\n",
       "  <th>sigma2</th>    <td> 2.143e+08</td> <td>    0.005</td> <td> 4.41e+10</td> <td> 0.000</td> <td> 2.14e+08</td> <td> 2.14e+08</td>\n",
       "</tr>\n",
       "</table>\n",
       "<table class=\"simpletable\">\n",
       "<tr>\n",
       "  <th>Ljung-Box (L1) (Q):</th>     <td>7.91</td> <th>  Jarque-Bera (JB):  </th> <td>32.57</td>\n",
       "</tr>\n",
       "<tr>\n",
       "  <th>Prob(Q):</th>                <td>0.00</td> <th>  Prob(JB):          </th> <td>0.00</td> \n",
       "</tr>\n",
       "<tr>\n",
       "  <th>Heteroskedasticity (H):</th> <td>3.83</td> <th>  Skew:              </th> <td>0.44</td> \n",
       "</tr>\n",
       "<tr>\n",
       "  <th>Prob(H) (two-sided):</th>    <td>0.00</td> <th>  Kurtosis:          </th> <td>3.98</td> \n",
       "</tr>\n",
       "</table><br/><br/>Warnings:<br/>[1] Covariance matrix calculated using the outer product of gradients (complex-step).<br/>[2] Covariance matrix is singular or near-singular, with condition number 1.6e+26. Standard errors may be unstable."
      ],
      "text/plain": [
       "<class 'statsmodels.iolib.summary.Summary'>\n",
       "\"\"\"\n",
       "                               SARIMAX Results                                \n",
       "==============================================================================\n",
       "Dep. Variable:                      y   No. Observations:                  453\n",
       "Model:               SARIMAX(1, 1, 4)   Log Likelihood               -4988.403\n",
       "Date:                Sun, 23 Jan 2022   AIC                           9990.806\n",
       "Time:                        14:43:37   BIC                          10019.602\n",
       "Sample:                             0   HQIC                         10002.153\n",
       "                                - 453                                         \n",
       "Covariance Type:                  opg                                         \n",
       "==============================================================================\n",
       "                 coef    std err          z      P>|z|      [0.025      0.975]\n",
       "------------------------------------------------------------------------------\n",
       "intercept   5362.1428    897.248      5.976      0.000    3603.569    7120.716\n",
       "ar.L1          0.8791      0.019     45.872      0.000       0.842       0.917\n",
       "ma.L1         -0.6159      0.033    -18.521      0.000      -0.681      -0.551\n",
       "ma.L2         -0.3306      0.032    -10.429      0.000      -0.393      -0.268\n",
       "ma.L3         -0.0536      0.042     -1.274      0.203      -0.136       0.029\n",
       "ma.L4          0.5176      0.037     14.157      0.000       0.446       0.589\n",
       "sigma2      2.143e+08      0.005   4.41e+10      0.000    2.14e+08    2.14e+08\n",
       "===================================================================================\n",
       "Ljung-Box (L1) (Q):                   7.91   Jarque-Bera (JB):                32.57\n",
       "Prob(Q):                              0.00   Prob(JB):                         0.00\n",
       "Heteroskedasticity (H):               3.83   Skew:                             0.44\n",
       "Prob(H) (two-sided):                  0.00   Kurtosis:                         3.98\n",
       "===================================================================================\n",
       "\n",
       "Warnings:\n",
       "[1] Covariance matrix calculated using the outer product of gradients (complex-step).\n",
       "[2] Covariance matrix is singular or near-singular, with condition number 1.6e+26. Standard errors may be unstable.\n",
       "\"\"\""
      ]
     },
     "execution_count": 27,
     "metadata": {},
     "output_type": "execute_result"
    }
   ],
   "source": [
    "stepwise1.summary()"
   ]
  },
  {
   "cell_type": "markdown",
   "metadata": {},
   "source": [
    "## Análise dos resíduos\n",
    "\n",
    "Uma das principais etapas é a avaliação dos resíduos. Primeiramente vamos olhar o *rmse* que é umas das principais métricas para análise dos erros, onde ele compara valores reais com os preditos. Aqui é interessante que o resultado seja o mais próximo possível de zero.\n",
    "\n",
    "Podemos ver que o modelo com melhor desempenho foi o modelo 1."
   ]
  },
  {
   "cell_type": "code",
   "execution_count": 28,
   "metadata": {},
   "outputs": [
    {
     "name": "stdout",
     "output_type": "stream",
     "text": [
      "RMSE do modelo 1: 3856873.324\n",
      "\n",
      "RMSE do modelo 2: 1560601.814\n"
     ]
    }
   ],
   "source": [
    "print(\"RMSE do modelo 1: %.3f\" % np.sqrt(mean_squared_error(test, future_forecast)))\n",
    "print('')\n",
    "print(\"RMSE do modelo 2: %.3f\" % np.sqrt(mean_squared_error(test, future_forecast1)))"
   ]
  },
  {
   "cell_type": "markdown",
   "metadata": {},
   "source": [
    "Definindo melhores parâmetros"
   ]
  },
  {
   "cell_type": "code",
   "execution_count": 29,
   "metadata": {},
   "outputs": [
    {
     "name": "stdout",
     "output_type": "stream",
     "text": [
      "Melhores parâmetros:   ARIMA(1,1,4)(0,0,0)[0] intercept\n"
     ]
    }
   ],
   "source": [
    "rmse1 = np.sqrt(mean_squared_error(test, future_forecast))\n",
    "rmse2 = np.sqrt(mean_squared_error(test, future_forecast1))\n",
    "if rmse1 < rmse2:\n",
    "    beststepwise=stepwise\n",
    "else:\n",
    "    beststepwise=stepwise1\n",
    "print(\"Melhores parâmetros: \", beststepwise)"
   ]
  },
  {
   "cell_type": "markdown",
   "metadata": {},
   "source": [
    "Calculando os erros de cada um dos modelos."
   ]
  },
  {
   "cell_type": "code",
   "execution_count": 30,
   "metadata": {},
   "outputs": [],
   "source": [
    "erros=pd.DataFrame(np.array(future_forecast.values.tolist())-np.array(test.values.tolist()))\n",
    "\n",
    "erros1=pd.DataFrame(np.array(future_forecast1.values.tolist())-np.array(test.values.tolist()))"
   ]
  },
  {
   "cell_type": "markdown",
   "metadata": {},
   "source": [
    "Vamos ver graficamente a distribuião dos resíduos dos modelos: são bem semelhantes e se assemelham com uma distribuição normal."
   ]
  },
  {
   "cell_type": "code",
   "execution_count": 31,
   "metadata": {},
   "outputs": [
    {
     "name": "stdout",
     "output_type": "stream",
     "text": [
      "                0\n",
      "0    7.282302e+03\n",
      "1   -4.389616e+03\n",
      "2   -6.950143e+03\n",
      "3    1.226022e+04\n",
      "4    4.114601e+04\n",
      "..            ...\n",
      "217  7.940105e+06\n",
      "218  7.987588e+06\n",
      "219  8.048641e+06\n",
      "220  8.114270e+06\n",
      "221  8.179476e+06\n",
      "\n",
      "[222 rows x 1 columns]\n"
     ]
    }
   ],
   "source": [
    "print(erros)"
   ]
  },
  {
   "cell_type": "code",
   "execution_count": 32,
   "metadata": {},
   "outputs": [
    {
     "name": "stdout",
     "output_type": "stream",
     "text": [
      "                0\n",
      "0    1.349810e+04\n",
      "1    7.296624e+03\n",
      "2    1.662080e+03\n",
      "3   -4.828649e+03\n",
      "4    4.372208e+03\n",
      "..            ...\n",
      "217  3.702425e+06\n",
      "218  3.737740e+06\n",
      "219  3.772345e+06\n",
      "220  3.804094e+06\n",
      "221  3.838271e+06\n",
      "\n",
      "[222 rows x 1 columns]\n"
     ]
    }
   ],
   "source": [
    "print(erros1)"
   ]
  },
  {
   "cell_type": "code",
   "execution_count": 33,
   "metadata": {},
   "outputs": [
    {
     "name": "stderr",
     "output_type": "stream",
     "text": [
      "C:\\ProgramData\\Anaconda3\\lib\\site-packages\\seaborn\\distributions.py:2619: FutureWarning: `distplot` is a deprecated function and will be removed in a future version. Please adapt your code to use either `displot` (a figure-level function with similar flexibility) or `histplot` (an axes-level function for histograms).\n",
      "  warnings.warn(msg, FutureWarning)\n",
      "C:\\ProgramData\\Anaconda3\\lib\\site-packages\\seaborn\\distributions.py:2619: FutureWarning: `distplot` is a deprecated function and will be removed in a future version. Please adapt your code to use either `displot` (a figure-level function with similar flexibility) or `histplot` (an axes-level function for histograms).\n",
      "  warnings.warn(msg, FutureWarning)\n"
     ]
    },
    {
     "data": {
      "image/png": "[encoded data removed]",
      "text/plain": [
       "<Figure size 1440x360 with 2 Axes>"
      ]
     },
     "metadata": {
      "needs_background": "light"
     },
     "output_type": "display_data"
    }
   ],
   "source": [
    "fig, ax = plt.subplots(1,2,figsize=(20,5))\n",
    "sns.distplot(erros,ax=ax[0])\n",
    "sns.distplot(erros1,ax=ax[1], color='red');"
   ]
  },
  {
   "cell_type": "markdown",
   "metadata": {},
   "source": [
    "Podemos usar também a função *plot_diagnostic* para gerar os resíduos, o histograma dos resíduos, o gráfico QQ e o correlograma dos resíduos.\n",
    "\n",
    "Para o modelo *stepwise* podemos ver que os resíduos apresentam estar flutuando em torno do valor de zero e o seu histograma apresenta possuir um formato de sino. Vemos que o *KDE* do histograma está bem próximo do *KDE* de uma distribuição normal. No gráfio QQplot os valores estão, em sua maioria, em cima da linha vermelha, o que é uma evidência para normalidade; e por fim o correlograma não apresentou resultados estatisticamente significativo, rejeitando, então, a presença de autocorrelação serial."
   ]
  },
  {
   "cell_type": "code",
   "execution_count": 34,
   "metadata": {},
   "outputs": [
    {
     "name": "stderr",
     "output_type": "stream",
     "text": [
      "C:\\ProgramData\\Anaconda3\\lib\\site-packages\\statsmodels\\graphics\\gofplots.py:993: UserWarning: marker is redundantly defined by the 'marker' keyword argument and the fmt string \"bo\" (-> marker='o'). The keyword argument will take precedence.\n",
      "  ax.plot(x, y, fmt, **plot_style)\n"
     ]
    },
    {
     "data": {
      "image/png": "[encoded data removed]",
      "text/plain": [
       "<Figure size 720x432 with 4 Axes>"
      ]
     },
     "metadata": {
      "needs_background": "light"
     },
     "output_type": "display_data"
    }
   ],
   "source": [
    "stepwise.plot_diagnostics(figsize=(10,6));"
   ]
  },
  {
   "cell_type": "markdown",
   "metadata": {},
   "source": [
    "Assim como o modelo *stepwise* o modelo *stepwise1* apresenta resultados semelhantes."
   ]
  },
  {
   "cell_type": "code",
   "execution_count": 35,
   "metadata": {},
   "outputs": [
    {
     "name": "stderr",
     "output_type": "stream",
     "text": [
      "C:\\ProgramData\\Anaconda3\\lib\\site-packages\\statsmodels\\graphics\\gofplots.py:993: UserWarning: marker is redundantly defined by the 'marker' keyword argument and the fmt string \"bo\" (-> marker='o'). The keyword argument will take precedence.\n",
      "  ax.plot(x, y, fmt, **plot_style)\n"
     ]
    },
    {
     "data": {
      "image/png": "[encoded data removed]",
      "text/plain": [
       "<Figure size 720x432 with 4 Axes>"
      ]
     },
     "metadata": {
      "needs_background": "light"
     },
     "output_type": "display_data"
    }
   ],
   "source": [
    "stepwise1.plot_diagnostics(figsize=(10,6));"
   ]
  },
  {
   "cell_type": "markdown",
   "metadata": {},
   "source": [
    "### Teste de normalidade dos resíduos\n",
    "\n",
    "Para sabermos se a distribuição dos resíduos é ou não normal precisaremos realizar um teste estatístico chamado Teste de Normalidade *Jarque-Bera*. O teste Jarque-Bera testa se a distribuição dos dados é uma distribuição normal ($H_{0}$) em comparação com uma hipótese alternativa ($H_{1}$) em que os dados seguem alguma outra distribuição. A estatística do teste é baseada em dois momentos dos dados, a assimetria e a curtose, e possui uma $\\chi^{2}_{2;1-\\alpha}$ distribuição assintótica.\n",
    "\n",
    "A estatística do teste Jarque-Bera é dada pela equação abaixo:\n",
    "\n",
    "$S_{JB} = T\\bigg[\\frac{\\alpha_{1}^{2}}{6} + \\frac{\\big(\\alpha_{2} - 3\\big)^{2}}{24} \\bigg]$, onde $\\alpha_{1}$ é o coeficiente de assimetria e $\\alpha_{2}$ o coeficiente de curtose.\n",
    "\n",
    "Se $S_{JB} > \\chi^{2}_{2;1-\\alpha}$, devemos rejeitar $H_{0}$.\n",
    "\n",
    "Para o primeiro modelo o *p-value* teve um valor de 0.3746892, bem acima do nível de significância de 5% (que será o nosso padrão). Então podemos considerar que os resíduos do modelo 1 possuem uma distribuição normal."
   ]
  },
  {
   "cell_type": "code",
   "execution_count": 36,
   "metadata": {},
   "outputs": [
    {
     "name": "stdout",
     "output_type": "stream",
     "text": [
      "Estatística Jarque-Bera : [20.36854054]\n",
      "p-valor : [3.77596204e-05]\n",
      "Assimetria : [0.50164973]\n",
      "Curtose : [1.90665899]\n"
     ]
    }
   ],
   "source": [
    "test = jarque_bera(erros)\n",
    "print('Estatística Jarque-Bera :', test[0])\n",
    "print('p-valor :', test[1])\n",
    "print('Assimetria :', test[2])\n",
    "print('Curtose :',test[3])"
   ]
  },
  {
   "cell_type": "markdown",
   "metadata": {},
   "source": [
    "Para o modelo 2, o *p-value* foi um pouco maior (0.4257611) e também podemos considerar que seus resíduos são normais."
   ]
  },
  {
   "cell_type": "code",
   "execution_count": 37,
   "metadata": {},
   "outputs": [
    {
     "name": "stdout",
     "output_type": "stream",
     "text": [
      "Estatística Jarque-Bera : [27.08320086]\n",
      "p-valor : [1.31509661e-06]\n",
      "Assimetria : [0.77214319]\n",
      "Curtose : [2.26305142]\n"
     ]
    }
   ],
   "source": [
    "test1 = jarque_bera(erros1)\n",
    "print('Estatística Jarque-Bera :', test1[0])\n",
    "print('p-valor :', test1[1])\n",
    "print('Assimetria :', test1[2])\n",
    "print('Curtose :',test1[3])"
   ]
  },
  {
   "cell_type": "markdown",
   "metadata": {},
   "source": [
    "## Conclusão\n",
    "\n",
    "Para concluirmos levando em consideração a métrica de *RMSE* o modelo 1 foi melhor e pode ser escolhido para gerar previsões."
   ]
  },
  {
   "cell_type": "code",
   "execution_count": 38,
   "metadata": {},
   "outputs": [
    {
     "data": {
      "text/plain": [
       "ARIMA(order=(1, 1, 4), scoring_args={}, suppress_warnings=True)"
      ]
     },
     "execution_count": 38,
     "metadata": {},
     "output_type": "execute_result"
    }
   ],
   "source": [
    "beststepwise.fit(data)"
   ]
  },
  {
   "cell_type": "markdown",
   "metadata": {},
   "source": [
    "Vamos criar 31 previsões para um futuro fora da séries original."
   ]
  },
  {
   "cell_type": "code",
   "execution_count": 39,
   "metadata": {},
   "outputs": [],
   "source": [
    "future_forecast2=beststepwise.predict(n_periods=31)"
   ]
  },
  {
   "cell_type": "markdown",
   "metadata": {},
   "source": [
    "Vamos transformar em um *dataframe* e indexar para o tempo que queremos no futuro."
   ]
  },
  {
   "cell_type": "code",
   "execution_count": 40,
   "metadata": {},
   "outputs": [],
   "source": [
    "future_forecast2=pd.DataFrame(future_forecast2,columns=['nova previsão'])"
   ]
  },
  {
   "cell_type": "markdown",
   "metadata": {},
   "source": [
    "Vamos observar essas novas previsões."
   ]
  },
  {
   "cell_type": "code",
   "execution_count": 41,
   "metadata": {},
   "outputs": [
    {
     "data": {
      "text/html": [
       "<div>\n",
       "<style scoped>\n",
       "    .dataframe tbody tr th:only-of-type {\n",
       "        vertical-align: middle;\n",
       "    }\n",
       "\n",
       "    .dataframe tbody tr th {\n",
       "        vertical-align: top;\n",
       "    }\n",
       "\n",
       "    .dataframe thead th {\n",
       "        text-align: right;\n",
       "    }\n",
       "</style>\n",
       "<table border=\"1\" class=\"dataframe\">\n",
       "  <thead>\n",
       "    <tr style=\"text-align: right;\">\n",
       "      <th></th>\n",
       "      <th>nova previsão</th>\n",
       "    </tr>\n",
       "  </thead>\n",
       "  <tbody>\n",
       "    <tr>\n",
       "      <th>0</th>\n",
       "      <td>2.230582e+07</td>\n",
       "    </tr>\n",
       "    <tr>\n",
       "      <th>1</th>\n",
       "      <td>2.232226e+07</td>\n",
       "    </tr>\n",
       "    <tr>\n",
       "      <th>2</th>\n",
       "      <td>2.234147e+07</td>\n",
       "    </tr>\n",
       "    <tr>\n",
       "      <th>3</th>\n",
       "      <td>2.236092e+07</td>\n",
       "    </tr>\n",
       "    <tr>\n",
       "      <th>4</th>\n",
       "      <td>2.238241e+07</td>\n",
       "    </tr>\n",
       "    <tr>\n",
       "      <th>5</th>\n",
       "      <td>2.240574e+07</td>\n",
       "    </tr>\n",
       "    <tr>\n",
       "      <th>6</th>\n",
       "      <td>2.243074e+07</td>\n",
       "    </tr>\n",
       "    <tr>\n",
       "      <th>7</th>\n",
       "      <td>2.245726e+07</td>\n",
       "    </tr>\n",
       "    <tr>\n",
       "      <th>8</th>\n",
       "      <td>2.248514e+07</td>\n",
       "    </tr>\n",
       "    <tr>\n",
       "      <th>9</th>\n",
       "      <td>2.251426e+07</td>\n",
       "    </tr>\n",
       "    <tr>\n",
       "      <th>10</th>\n",
       "      <td>2.254450e+07</td>\n",
       "    </tr>\n",
       "    <tr>\n",
       "      <th>11</th>\n",
       "      <td>2.257576e+07</td>\n",
       "    </tr>\n",
       "    <tr>\n",
       "      <th>12</th>\n",
       "      <td>2.260793e+07</td>\n",
       "    </tr>\n",
       "    <tr>\n",
       "      <th>13</th>\n",
       "      <td>2.264094e+07</td>\n",
       "    </tr>\n",
       "    <tr>\n",
       "      <th>14</th>\n",
       "      <td>2.267470e+07</td>\n",
       "    </tr>\n",
       "    <tr>\n",
       "      <th>15</th>\n",
       "      <td>2.270914e+07</td>\n",
       "    </tr>\n",
       "    <tr>\n",
       "      <th>16</th>\n",
       "      <td>2.274420e+07</td>\n",
       "    </tr>\n",
       "    <tr>\n",
       "      <th>17</th>\n",
       "      <td>2.277982e+07</td>\n",
       "    </tr>\n",
       "    <tr>\n",
       "      <th>18</th>\n",
       "      <td>2.281595e+07</td>\n",
       "    </tr>\n",
       "    <tr>\n",
       "      <th>19</th>\n",
       "      <td>2.285253e+07</td>\n",
       "    </tr>\n",
       "    <tr>\n",
       "      <th>20</th>\n",
       "      <td>2.288952e+07</td>\n",
       "    </tr>\n",
       "    <tr>\n",
       "      <th>21</th>\n",
       "      <td>2.292690e+07</td>\n",
       "    </tr>\n",
       "    <tr>\n",
       "      <th>22</th>\n",
       "      <td>2.296461e+07</td>\n",
       "    </tr>\n",
       "    <tr>\n",
       "      <th>23</th>\n",
       "      <td>2.300263e+07</td>\n",
       "    </tr>\n",
       "    <tr>\n",
       "      <th>24</th>\n",
       "      <td>2.304092e+07</td>\n",
       "    </tr>\n",
       "    <tr>\n",
       "      <th>25</th>\n",
       "      <td>2.307947e+07</td>\n",
       "    </tr>\n",
       "    <tr>\n",
       "      <th>26</th>\n",
       "      <td>2.311825e+07</td>\n",
       "    </tr>\n",
       "    <tr>\n",
       "      <th>27</th>\n",
       "      <td>2.315724e+07</td>\n",
       "    </tr>\n",
       "    <tr>\n",
       "      <th>28</th>\n",
       "      <td>2.319641e+07</td>\n",
       "    </tr>\n",
       "    <tr>\n",
       "      <th>29</th>\n",
       "      <td>2.323575e+07</td>\n",
       "    </tr>\n",
       "    <tr>\n",
       "      <th>30</th>\n",
       "      <td>2.327524e+07</td>\n",
       "    </tr>\n",
       "  </tbody>\n",
       "</table>\n",
       "</div>"
      ],
      "text/plain": [
       "    nova previsão\n",
       "0    2.230582e+07\n",
       "1    2.232226e+07\n",
       "2    2.234147e+07\n",
       "3    2.236092e+07\n",
       "4    2.238241e+07\n",
       "5    2.240574e+07\n",
       "6    2.243074e+07\n",
       "7    2.245726e+07\n",
       "8    2.248514e+07\n",
       "9    2.251426e+07\n",
       "10   2.254450e+07\n",
       "11   2.257576e+07\n",
       "12   2.260793e+07\n",
       "13   2.264094e+07\n",
       "14   2.267470e+07\n",
       "15   2.270914e+07\n",
       "16   2.274420e+07\n",
       "17   2.277982e+07\n",
       "18   2.281595e+07\n",
       "19   2.285253e+07\n",
       "20   2.288952e+07\n",
       "21   2.292690e+07\n",
       "22   2.296461e+07\n",
       "23   2.300263e+07\n",
       "24   2.304092e+07\n",
       "25   2.307947e+07\n",
       "26   2.311825e+07\n",
       "27   2.315724e+07\n",
       "28   2.319641e+07\n",
       "29   2.323575e+07\n",
       "30   2.327524e+07"
      ]
     },
     "execution_count": 41,
     "metadata": {},
     "output_type": "execute_result"
    }
   ],
   "source": [
    "future_forecast2.head(31)"
   ]
  },
  {
   "cell_type": "markdown",
   "metadata": {},
   "source": [
    "E agora vamos ver graficamente."
   ]
  },
  {
   "cell_type": "code",
   "execution_count": 42,
   "metadata": {},
   "outputs": [
    {
     "data": {
      "text/plain": [
       "<Figure size 1440x360 with 0 Axes>"
      ]
     },
     "metadata": {},
     "output_type": "display_data"
    },
    {
     "data": {
      "image/png": "[encoded data removed]",
      "text/plain": [
       "<Figure size 1440x360 with 1 Axes>"
      ]
     },
     "metadata": {
      "needs_background": "light"
     },
     "output_type": "display_data"
    }
   ],
   "source": [
    "plt.figure(figsize=(20,5))\n",
    "pd.concat([future_forecast2],axis=1).plot(figsize=(20,5))\n",
    "plt.xlabel('')\n",
    "plt.title('Previsões nos próximos 31 dias',size=15)\n",
    "plt.legend(['Previsões'])\n",
    "plt.show();"
   ]
  }
 ],
 "metadata": {
  "kernelspec": {
   "display_name": "Python 3 (ipykernel)",
   "language": "python",
   "name": "python3"
  },
  "language_info": {
   "codemirror_mode": {
    "name": "ipython",
    "version": 3
   },
   "file_extension": ".py",
   "mimetype": "text/x-python",
   "name": "python",
   "nbconvert_exporter": "python",
   "pygments_lexer": "ipython3",
   "version": "3.8.12"
  }
 },
 "nbformat": 4,
 "nbformat_minor": 2
}
