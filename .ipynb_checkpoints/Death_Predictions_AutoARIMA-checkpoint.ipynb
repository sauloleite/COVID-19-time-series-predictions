{
 "cells": [
  {
   "cell_type": "markdown",
   "metadata": {},
   "source": [
    "# AutoARIMA em Python (BIBLIOTECA *PMDARIMA*)\n",
    "\n",
    "Uma das metodologias mais conhecidas em séries temporais é a Box-Jenkins, que são um conjunto de procedimentos que são realizados em uma certa sequência até encontramos o melhor modelo ARIMA. Porém, ao invés de realizarmos as etapas dessa metodologia, podemos escolher o modelo de forma automática e para isso existe a função auto.arima que é muito usada no software estatístico R. \n",
    "\n",
    "O objetivo desse pequeno projeto é usar o autoarima do pacote pmdarima (que não é um pacote muito conhecido do python) para previsão de séries temporais. Uma das vantagens do autoarima é que não é necessário interpretar as funções de autocorrelação e autocorrelação parcial para escolher o parâmetros p, P, d, D, q e Q. Podemos definí-los e o autoarima irá fazer as combinações desses parâmetros e gerará os AIC's e escolhe-se então o modelo de menor AIC.\n",
    "\n",
    "\n",
    "\n",
    "## Importando das bibliotecas"
   ]
  },
  {
   "cell_type": "code",
   "execution_count": 1,
   "metadata": {},
   "outputs": [],
   "source": [
    "import pandas as pd\n",
    "import numpy as np\n",
    "import seaborn as sns\n",
    "from sklearn.metrics import mean_squared_error\n",
    "from statsmodels.stats.stattools import jarque_bera\n",
    "import matplotlib.pyplot as plt\n",
    "%matplotlib inline\n",
    "\n",
    "from pmdarima.arima import auto_arima"
   ]
  },
  {
   "cell_type": "code",
   "execution_count": 2,
   "metadata": {},
   "outputs": [],
   "source": [
    "from matplotlib.pyplot import rcParams\n",
    "rcParams['figure.figsize']=15,6"
   ]
  },
  {
   "cell_type": "markdown",
   "metadata": {},
   "source": [
    "## Importando da base de dados\n",
    "\n",
    "Irei colocar os dados indexados no formato de tempo correto."
   ]
  },
  {
   "cell_type": "code",
   "execution_count": 3,
   "metadata": {},
   "outputs": [],
   "source": [
    "dateparse= lambda dates:pd.datetime.strptime(dates,'%m-%d-%Y')"
   ]
  },
  {
   "cell_type": "markdown",
   "metadata": {},
   "source": [
    "Importando os dados."
   ]
  },
  {
   "cell_type": "code",
   "execution_count": 4,
   "metadata": {},
   "outputs": [],
   "source": [
    "data=pd.read_csv(\"datasets/countries/mortes_covid19_brazil_date.csv\",encoding='utf-8',index_col='date')"
   ]
  },
  {
   "cell_type": "markdown",
   "metadata": {},
   "source": [
    "Visualizando a base de dados."
   ]
  },
  {
   "cell_type": "code",
   "execution_count": 5,
   "metadata": {},
   "outputs": [
    {
     "data": {
      "text/html": [
       "<div>\n",
       "<style scoped>\n",
       "    .dataframe tbody tr th:only-of-type {\n",
       "        vertical-align: middle;\n",
       "    }\n",
       "\n",
       "    .dataframe tbody tr th {\n",
       "        vertical-align: top;\n",
       "    }\n",
       "\n",
       "    .dataframe thead th {\n",
       "        text-align: right;\n",
       "    }\n",
       "</style>\n",
       "<table border=\"1\" class=\"dataframe\">\n",
       "  <thead>\n",
       "    <tr style=\"text-align: right;\">\n",
       "      <th></th>\n",
       "      <th>Brazil</th>\n",
       "    </tr>\n",
       "    <tr>\n",
       "      <th>date</th>\n",
       "      <th></th>\n",
       "    </tr>\n",
       "  </thead>\n",
       "  <tbody>\n",
       "    <tr>\n",
       "      <th>3/17/20</th>\n",
       "      <td>1</td>\n",
       "    </tr>\n",
       "    <tr>\n",
       "      <th>3/18/20</th>\n",
       "      <td>3</td>\n",
       "    </tr>\n",
       "    <tr>\n",
       "      <th>3/19/20</th>\n",
       "      <td>6</td>\n",
       "    </tr>\n",
       "    <tr>\n",
       "      <th>3/20/20</th>\n",
       "      <td>11</td>\n",
       "    </tr>\n",
       "    <tr>\n",
       "      <th>3/21/20</th>\n",
       "      <td>15</td>\n",
       "    </tr>\n",
       "    <tr>\n",
       "      <th>3/22/20</th>\n",
       "      <td>25</td>\n",
       "    </tr>\n",
       "    <tr>\n",
       "      <th>3/23/20</th>\n",
       "      <td>34</td>\n",
       "    </tr>\n",
       "    <tr>\n",
       "      <th>3/24/20</th>\n",
       "      <td>46</td>\n",
       "    </tr>\n",
       "    <tr>\n",
       "      <th>3/25/20</th>\n",
       "      <td>59</td>\n",
       "    </tr>\n",
       "    <tr>\n",
       "      <th>3/26/20</th>\n",
       "      <td>77</td>\n",
       "    </tr>\n",
       "  </tbody>\n",
       "</table>\n",
       "</div>"
      ],
      "text/plain": [
       "         Brazil\n",
       "date           \n",
       "3/17/20       1\n",
       "3/18/20       3\n",
       "3/19/20       6\n",
       "3/20/20      11\n",
       "3/21/20      15\n",
       "3/22/20      25\n",
       "3/23/20      34\n",
       "3/24/20      46\n",
       "3/25/20      59\n",
       "3/26/20      77"
      ]
     },
     "execution_count": 5,
     "metadata": {},
     "output_type": "execute_result"
    }
   ],
   "source": [
    "data.head(10)"
   ]
  },
  {
   "cell_type": "markdown",
   "metadata": {},
   "source": [
    "Últimas observações da série."
   ]
  },
  {
   "cell_type": "code",
   "execution_count": 6,
   "metadata": {},
   "outputs": [
    {
     "data": {
      "text/html": [
       "<div>\n",
       "<style scoped>\n",
       "    .dataframe tbody tr th:only-of-type {\n",
       "        vertical-align: middle;\n",
       "    }\n",
       "\n",
       "    .dataframe tbody tr th {\n",
       "        vertical-align: top;\n",
       "    }\n",
       "\n",
       "    .dataframe thead th {\n",
       "        text-align: right;\n",
       "    }\n",
       "</style>\n",
       "<table border=\"1\" class=\"dataframe\">\n",
       "  <thead>\n",
       "    <tr style=\"text-align: right;\">\n",
       "      <th></th>\n",
       "      <th>Brazil</th>\n",
       "    </tr>\n",
       "    <tr>\n",
       "      <th>date</th>\n",
       "      <th></th>\n",
       "    </tr>\n",
       "  </thead>\n",
       "  <tbody>\n",
       "    <tr>\n",
       "      <th>12/22/21</th>\n",
       "      <td>618366</td>\n",
       "    </tr>\n",
       "    <tr>\n",
       "      <th>12/23/21</th>\n",
       "      <td>618492</td>\n",
       "    </tr>\n",
       "    <tr>\n",
       "      <th>12/24/21</th>\n",
       "      <td>618655</td>\n",
       "    </tr>\n",
       "    <tr>\n",
       "      <th>12/25/21</th>\n",
       "      <td>618686</td>\n",
       "    </tr>\n",
       "    <tr>\n",
       "      <th>12/26/21</th>\n",
       "      <td>618732</td>\n",
       "    </tr>\n",
       "    <tr>\n",
       "      <th>12/27/21</th>\n",
       "      <td>618797</td>\n",
       "    </tr>\n",
       "    <tr>\n",
       "      <th>12/28/21</th>\n",
       "      <td>618978</td>\n",
       "    </tr>\n",
       "    <tr>\n",
       "      <th>12/29/21</th>\n",
       "      <td>619095</td>\n",
       "    </tr>\n",
       "    <tr>\n",
       "      <th>12/30/21</th>\n",
       "      <td>619249</td>\n",
       "    </tr>\n",
       "    <tr>\n",
       "      <th>12/31/21</th>\n",
       "      <td>619334</td>\n",
       "    </tr>\n",
       "  </tbody>\n",
       "</table>\n",
       "</div>"
      ],
      "text/plain": [
       "          Brazil\n",
       "date            \n",
       "12/22/21  618366\n",
       "12/23/21  618492\n",
       "12/24/21  618655\n",
       "12/25/21  618686\n",
       "12/26/21  618732\n",
       "12/27/21  618797\n",
       "12/28/21  618978\n",
       "12/29/21  619095\n",
       "12/30/21  619249\n",
       "12/31/21  619334"
      ]
     },
     "execution_count": 6,
     "metadata": {},
     "output_type": "execute_result"
    }
   ],
   "source": [
    "data.tail(10)"
   ]
  },
  {
   "cell_type": "markdown",
   "metadata": {},
   "source": [
    "Dimensão da base de dados : tempos 1 coluna com 655 observações."
   ]
  },
  {
   "cell_type": "code",
   "execution_count": 7,
   "metadata": {},
   "outputs": [
    {
     "data": {
      "text/plain": [
       "(655, 1)"
      ]
     },
     "execution_count": 7,
     "metadata": {},
     "output_type": "execute_result"
    }
   ],
   "source": [
    "data.shape"
   ]
  },
  {
   "cell_type": "markdown",
   "metadata": {},
   "source": [
    "Informações sobre a base de dados."
   ]
  },
  {
   "cell_type": "code",
   "execution_count": 8,
   "metadata": {},
   "outputs": [
    {
     "name": "stdout",
     "output_type": "stream",
     "text": [
      "<class 'pandas.core.frame.DataFrame'>\n",
      "Index: 655 entries, 3/17/20 to 12/31/21\n",
      "Data columns (total 1 columns):\n",
      " #   Column  Non-Null Count  Dtype\n",
      "---  ------  --------------  -----\n",
      " 0   Brazil  655 non-null    int64\n",
      "dtypes: int64(1)\n",
      "memory usage: 10.2+ KB\n"
     ]
    }
   ],
   "source": [
    "data.info()"
   ]
  },
  {
   "cell_type": "markdown",
   "metadata": {},
   "source": [
    "Abaixo podemos ver a tabela estatística."
   ]
  },
  {
   "cell_type": "code",
   "execution_count": 9,
   "metadata": {},
   "outputs": [
    {
     "data": {
      "text/html": [
       "<div>\n",
       "<style scoped>\n",
       "    .dataframe tbody tr th:only-of-type {\n",
       "        vertical-align: middle;\n",
       "    }\n",
       "\n",
       "    .dataframe tbody tr th {\n",
       "        vertical-align: top;\n",
       "    }\n",
       "\n",
       "    .dataframe thead th {\n",
       "        text-align: right;\n",
       "    }\n",
       "</style>\n",
       "<table border=\"1\" class=\"dataframe\">\n",
       "  <thead>\n",
       "    <tr style=\"text-align: right;\">\n",
       "      <th></th>\n",
       "      <th>Brazil</th>\n",
       "    </tr>\n",
       "  </thead>\n",
       "  <tbody>\n",
       "    <tr>\n",
       "      <th>count</th>\n",
       "      <td>655.000000</td>\n",
       "    </tr>\n",
       "    <tr>\n",
       "      <th>mean</th>\n",
       "      <td>300281.007634</td>\n",
       "    </tr>\n",
       "    <tr>\n",
       "      <th>std</th>\n",
       "      <td>218671.709673</td>\n",
       "    </tr>\n",
       "    <tr>\n",
       "      <th>min</th>\n",
       "      <td>1.000000</td>\n",
       "    </tr>\n",
       "    <tr>\n",
       "      <th>25%</th>\n",
       "      <td>119248.500000</td>\n",
       "    </tr>\n",
       "    <tr>\n",
       "      <th>50%</th>\n",
       "      <td>231684.000000</td>\n",
       "    </tr>\n",
       "    <tr>\n",
       "      <th>75%</th>\n",
       "      <td>545232.000000</td>\n",
       "    </tr>\n",
       "    <tr>\n",
       "      <th>max</th>\n",
       "      <td>619334.000000</td>\n",
       "    </tr>\n",
       "  </tbody>\n",
       "</table>\n",
       "</div>"
      ],
      "text/plain": [
       "              Brazil\n",
       "count     655.000000\n",
       "mean   300281.007634\n",
       "std    218671.709673\n",
       "min         1.000000\n",
       "25%    119248.500000\n",
       "50%    231684.000000\n",
       "75%    545232.000000\n",
       "max    619334.000000"
      ]
     },
     "execution_count": 9,
     "metadata": {},
     "output_type": "execute_result"
    }
   ],
   "source": [
    "data.describe()"
   ]
  },
  {
   "cell_type": "markdown",
   "metadata": {},
   "source": [
    "Por fim, vamos visualizar graficamente a base de dados.\n",
    "\n",
    "Vemos que ela tem uma tendência, vai subindo e ao final se estabiliza."
   ]
  },
  {
   "cell_type": "code",
   "execution_count": 10,
   "metadata": {},
   "outputs": [
    {
     "data": {
      "image/png": "[encoded data removed]",
      "text/plain": [
       "<Figure size 1080x432 with 1 Axes>"
      ]
     },
     "metadata": {
      "needs_background": "light"
     },
     "output_type": "display_data"
    }
   ],
   "source": [
    "data.plot()\n",
    "plt.xlabel('Meses',size=15)\n",
    "plt.ylabel('')\n",
    "plt.title('Mortes por COVID19 no Brasil',size=15)\n",
    "plt.show()"
   ]
  },
  {
   "cell_type": "markdown",
   "metadata": {},
   "source": [
    "## Aplicando o AutoARIMA\n",
    "\n",
    "Escolherei os parâmetros *p, d, q, P, D* e *Q*:\n",
    "\n",
    "1) o *p* vai variar entre 1 e 6;\n",
    "\n",
    "2) o *q* vai variar entre 1 e 6;\n",
    "\n",
    "3) a sazonalidade será 0;\n",
    "\n",
    "4) o *P* iniciará em 0 e o máximo, por padrão, será 2;\n",
    "\n",
    "5) o *Q* por padrão será 1 e o máximo, por padrão, será 2;\n",
    "\n",
    "6) o *d* será 1 e o máximo, por padrão, será 2;\n",
    "\n",
    "7) o *D* será 1, por padrão já é 1.\n",
    "\n",
    "Vamos agora aplicar o processamento do *autoARIMA*.\n",
    "\n",
    "Vamos atribuir a uma variável o *autoARIMA*, que gerará vários modelos ARIMA e os seus respectivos AIC's e BICS (critérios de informação)."
   ]
  },
  {
   "cell_type": "code",
   "execution_count": 11,
   "metadata": {},
   "outputs": [
    {
     "name": "stdout",
     "output_type": "stream",
     "text": [
      "Performing stepwise search to minimize aic\n",
      " ARIMA(1,1,1)(0,0,0)[0] intercept   : AIC=9643.990, Time=0.31 sec\n",
      " ARIMA(0,1,0)(0,0,0)[0] intercept   : AIC=10569.740, Time=0.01 sec\n",
      " ARIMA(1,1,0)(0,0,0)[0] intercept   : AIC=9674.758, Time=0.04 sec\n",
      " ARIMA(0,1,1)(0,0,0)[0] intercept   : AIC=9974.334, Time=0.19 sec\n",
      " ARIMA(0,1,0)(0,0,0)[0]             : AIC=11160.514, Time=0.01 sec\n",
      " ARIMA(2,1,1)(0,0,0)[0] intercept   : AIC=9624.867, Time=0.44 sec\n",
      " ARIMA(2,1,0)(0,0,0)[0] intercept   : AIC=9664.292, Time=0.06 sec\n",
      " ARIMA(3,1,1)(0,0,0)[0] intercept   : AIC=9425.894, Time=0.69 sec\n",
      " ARIMA(3,1,0)(0,0,0)[0] intercept   : AIC=9589.806, Time=0.08 sec\n",
      " ARIMA(4,1,1)(0,0,0)[0] intercept   : AIC=9422.834, Time=0.87 sec\n",
      " ARIMA(4,1,0)(0,0,0)[0] intercept   : AIC=9585.082, Time=0.13 sec\n",
      " ARIMA(5,1,1)(0,0,0)[0] intercept   : AIC=9282.018, Time=1.02 sec\n",
      " ARIMA(5,1,0)(0,0,0)[0] intercept   : AIC=9509.752, Time=0.20 sec\n",
      " ARIMA(6,1,1)(0,0,0)[0] intercept   : AIC=9064.538, Time=1.02 sec\n",
      " ARIMA(6,1,0)(0,0,0)[0] intercept   : AIC=inf, Time=0.32 sec\n",
      " ARIMA(6,1,2)(0,0,0)[0] intercept   : AIC=8980.860, Time=1.23 sec\n",
      " ARIMA(5,1,2)(0,0,0)[0] intercept   : AIC=9505.468, Time=1.08 sec\n",
      " ARIMA(6,1,3)(0,0,0)[0] intercept   : AIC=8967.192, Time=1.34 sec\n",
      " ARIMA(5,1,3)(0,0,0)[0] intercept   : AIC=9017.100, Time=1.14 sec\n",
      " ARIMA(6,1,4)(0,0,0)[0] intercept   : AIC=8925.153, Time=1.50 sec\n",
      " ARIMA(5,1,4)(0,0,0)[0] intercept   : AIC=9075.258, Time=1.34 sec\n",
      " ARIMA(6,1,5)(0,0,0)[0] intercept   : AIC=8893.493, Time=1.62 sec\n",
      " ARIMA(5,1,5)(0,0,0)[0] intercept   : AIC=9031.764, Time=1.50 sec\n",
      " ARIMA(6,1,6)(0,0,0)[0] intercept   : AIC=8854.725, Time=1.66 sec\n",
      " ARIMA(5,1,6)(0,0,0)[0] intercept   : AIC=9010.893, Time=1.54 sec\n",
      " ARIMA(6,1,6)(0,0,0)[0]             : AIC=8852.032, Time=1.44 sec\n",
      " ARIMA(5,1,6)(0,0,0)[0]             : AIC=9004.186, Time=1.06 sec\n",
      " ARIMA(6,1,5)(0,0,0)[0]             : AIC=8892.365, Time=1.01 sec\n",
      " ARIMA(5,1,5)(0,0,0)[0]             : AIC=9008.852, Time=0.92 sec\n",
      "\n",
      "Best model:  ARIMA(6,1,6)(0,0,0)[0]          \n",
      "Total fit time: 23.776 seconds\n"
     ]
    }
   ],
   "source": [
    "stepwise=auto_arima(data,start_p=1,start_q=1,max_p=6,max_q=6,m=0,start_P=0,seasonal=False,d=1,D=1,trace=True,\n",
    "                    error_action='ignore',suppress_warnings=True,stepwise=True)"
   ]
  },
  {
   "cell_type": "markdown",
   "metadata": {},
   "source": [
    "O modelo que foi gerado é um *SARIMA*(1,1,1)x(2,1,2,12)."
   ]
  },
  {
   "cell_type": "code",
   "execution_count": 12,
   "metadata": {},
   "outputs": [
    {
     "data": {
      "text/plain": [
       "ARIMA(order=(6, 1, 6), scoring_args={}, suppress_warnings=True,\n",
       "      with_intercept=False)"
      ]
     },
     "execution_count": 12,
     "metadata": {},
     "output_type": "execute_result"
    }
   ],
   "source": [
    "stepwise"
   ]
  },
  {
   "cell_type": "markdown",
   "metadata": {},
   "source": [
    "Esse foi o model com menor *AIC* gerado."
   ]
  },
  {
   "cell_type": "code",
   "execution_count": 13,
   "metadata": {},
   "outputs": [
    {
     "data": {
      "text/plain": [
       "8852.03167435137"
      ]
     },
     "execution_count": 13,
     "metadata": {},
     "output_type": "execute_result"
    }
   ],
   "source": [
    "stepwise.aic()"
   ]
  },
  {
   "cell_type": "markdown",
   "metadata": {},
   "source": [
    "Podemos gerar ainda mais modelos colocando o parâmetro *stepwise* com *False*."
   ]
  },
  {
   "cell_type": "code",
   "execution_count": 14,
   "metadata": {},
   "outputs": [
    {
     "name": "stdout",
     "output_type": "stream",
     "text": [
      " ARIMA(0,1,0)(0,0,0)[0] intercept   : AIC=10569.740, Time=0.02 sec\n",
      " ARIMA(0,1,1)(0,0,0)[0] intercept   : AIC=9974.334, Time=0.19 sec\n",
      " ARIMA(0,1,2)(0,0,0)[0] intercept   : AIC=9764.571, Time=0.29 sec\n",
      " ARIMA(0,1,3)(0,0,0)[0] intercept   : AIC=9758.259, Time=0.55 sec\n",
      " ARIMA(0,1,4)(0,0,0)[0] intercept   : AIC=9636.815, Time=0.74 sec\n",
      " ARIMA(0,1,5)(0,0,0)[0] intercept   : AIC=inf, Time=1.02 sec\n",
      " ARIMA(1,1,0)(0,0,0)[0] intercept   : AIC=9674.758, Time=0.04 sec\n",
      " ARIMA(1,1,1)(0,0,0)[0] intercept   : AIC=9643.990, Time=0.30 sec\n",
      " ARIMA(1,1,2)(0,0,0)[0] intercept   : AIC=9472.985, Time=0.61 sec\n",
      " ARIMA(1,1,3)(0,0,0)[0] intercept   : AIC=9473.321, Time=0.65 sec\n",
      " ARIMA(1,1,4)(0,0,0)[0] intercept   : AIC=9361.470, Time=0.70 sec\n",
      " ARIMA(2,1,0)(0,0,0)[0] intercept   : AIC=9664.292, Time=0.06 sec\n",
      " ARIMA(2,1,1)(0,0,0)[0] intercept   : AIC=9624.867, Time=0.44 sec\n",
      " ARIMA(2,1,2)(0,0,0)[0] intercept   : AIC=9474.399, Time=0.65 sec\n",
      " ARIMA(2,1,3)(0,0,0)[0] intercept   : AIC=inf, Time=0.79 sec\n",
      " ARIMA(3,1,0)(0,0,0)[0] intercept   : AIC=9589.806, Time=0.08 sec\n",
      " ARIMA(3,1,1)(0,0,0)[0] intercept   : AIC=9425.894, Time=0.69 sec\n",
      " ARIMA(3,1,2)(0,0,0)[0] intercept   : AIC=9496.477, Time=0.75 sec\n",
      " ARIMA(4,1,0)(0,0,0)[0] intercept   : AIC=9585.082, Time=0.13 sec\n",
      " ARIMA(4,1,1)(0,0,0)[0] intercept   : AIC=9422.834, Time=0.88 sec\n",
      " ARIMA(5,1,0)(0,0,0)[0] intercept   : AIC=9509.752, Time=0.20 sec\n",
      "\n",
      "Best model:  ARIMA(1,1,4)(0,0,0)[0] intercept\n",
      "Total fit time: 9.800 seconds\n"
     ]
    }
   ],
   "source": [
    "stepwise1=auto_arima(data,start_p=1,start_q=1,max_p=12,max_q=12,m=0,start_P=0,seasonal=False,d=1,D=1,trace=True,\n",
    "                    error_action='ignore',suppress_warnings=True,stepwise=False)"
   ]
  },
  {
   "cell_type": "markdown",
   "metadata": {},
   "source": [
    "O modelo com menor *AIC* foi um pouco diferente do anterior, pois o componente sazonal *D* é 1 ao invés de 2."
   ]
  },
  {
   "cell_type": "code",
   "execution_count": 15,
   "metadata": {},
   "outputs": [
    {
     "data": {
      "text/plain": [
       "ARIMA(order=(1, 1, 4), scoring_args={}, suppress_warnings=True)"
      ]
     },
     "execution_count": 15,
     "metadata": {},
     "output_type": "execute_result"
    }
   ],
   "source": [
    "stepwise1"
   ]
  },
  {
   "cell_type": "markdown",
   "metadata": {},
   "source": [
    "O *AIC* desse modelo foi um pouco maior que o anterior."
   ]
  },
  {
   "cell_type": "code",
   "execution_count": 16,
   "metadata": {},
   "outputs": [
    {
     "data": {
      "text/plain": [
       "9361.46962044626"
      ]
     },
     "execution_count": 16,
     "metadata": {},
     "output_type": "execute_result"
    }
   ],
   "source": [
    "stepwise1.aic()"
   ]
  },
  {
   "cell_type": "markdown",
   "metadata": {},
   "source": [
    "## Separando os dados de treino e de teste\n",
    "\n",
    "Vamos agora usar o *autoARIMA* para gerar uma validação do modelo. Para isso iremos separar os dados em treino e teste. Os dados de treino serão usado para treinar o *autoARIMA* e os dados de teste para comparar com as preisões geradas. "
   ]
  },
  {
   "cell_type": "code",
   "execution_count": 17,
   "metadata": {},
   "outputs": [],
   "source": [
    "total = len(data)\n",
    "t = int(total*0.33)\n",
    "train=data.iloc[:-t]\n",
    "test=data.iloc[-t:]"
   ]
  },
  {
   "cell_type": "markdown",
   "metadata": {},
   "source": [
    "Vamos treinar os modelos que geramos."
   ]
  },
  {
   "cell_type": "code",
   "execution_count": 18,
   "metadata": {},
   "outputs": [
    {
     "data": {
      "text/plain": [
       "ARIMA(order=(1, 1, 4), scoring_args={}, suppress_warnings=True)"
      ]
     },
     "execution_count": 18,
     "metadata": {},
     "output_type": "execute_result"
    }
   ],
   "source": [
    "stepwise.fit(train)\n",
    "stepwise1.fit(train)"
   ]
  },
  {
   "cell_type": "markdown",
   "metadata": {},
   "source": [
    "Vamos gerar as previsões de cada modelo."
   ]
  },
  {
   "cell_type": "code",
   "execution_count": 19,
   "metadata": {},
   "outputs": [],
   "source": [
    "future_forecast=stepwise.predict(len(test))\n",
    "future_forecast1=stepwise1.predict(len(test))"
   ]
  },
  {
   "cell_type": "markdown",
   "metadata": {},
   "source": [
    "Transformando as previsões em um *dataframe*."
   ]
  },
  {
   "cell_type": "code",
   "execution_count": 20,
   "metadata": {},
   "outputs": [],
   "source": [
    "future_forecast=pd.DataFrame(future_forecast,index=test.index, columns=['previsão modelo 1'])\n",
    "future_forecast1=pd.DataFrame(future_forecast1,index=test.index, columns=['previsão modelo 2'])"
   ]
  },
  {
   "cell_type": "markdown",
   "metadata": {},
   "source": [
    "Visualizando o *dataset* de previsões."
   ]
  },
  {
   "cell_type": "code",
   "execution_count": 21,
   "metadata": {},
   "outputs": [
    {
     "data": {
      "text/html": [
       "<div>\n",
       "<style scoped>\n",
       "    .dataframe tbody tr th:only-of-type {\n",
       "        vertical-align: middle;\n",
       "    }\n",
       "\n",
       "    .dataframe tbody tr th {\n",
       "        vertical-align: top;\n",
       "    }\n",
       "\n",
       "    .dataframe thead th {\n",
       "        text-align: right;\n",
       "    }\n",
       "</style>\n",
       "<table border=\"1\" class=\"dataframe\">\n",
       "  <thead>\n",
       "    <tr style=\"text-align: right;\">\n",
       "      <th></th>\n",
       "      <th>previsão modelo 1</th>\n",
       "    </tr>\n",
       "    <tr>\n",
       "      <th>date</th>\n",
       "      <th></th>\n",
       "    </tr>\n",
       "  </thead>\n",
       "  <tbody>\n",
       "    <tr>\n",
       "      <th>5/30/21</th>\n",
       "      <td>462293.688924</td>\n",
       "    </tr>\n",
       "    <tr>\n",
       "      <th>5/31/21</th>\n",
       "      <td>463344.036011</td>\n",
       "    </tr>\n",
       "    <tr>\n",
       "      <th>6/1/21</th>\n",
       "      <td>465546.254428</td>\n",
       "    </tr>\n",
       "    <tr>\n",
       "      <th>6/2/21</th>\n",
       "      <td>468087.594437</td>\n",
       "    </tr>\n",
       "    <tr>\n",
       "      <th>6/3/21</th>\n",
       "      <td>470334.030967</td>\n",
       "    </tr>\n",
       "    <tr>\n",
       "      <th>6/4/21</th>\n",
       "      <td>472614.269226</td>\n",
       "    </tr>\n",
       "    <tr>\n",
       "      <th>6/5/21</th>\n",
       "      <td>474512.809040</td>\n",
       "    </tr>\n",
       "    <tr>\n",
       "      <th>6/6/21</th>\n",
       "      <td>475455.658775</td>\n",
       "    </tr>\n",
       "    <tr>\n",
       "      <th>6/7/21</th>\n",
       "      <td>476522.801541</td>\n",
       "    </tr>\n",
       "    <tr>\n",
       "      <th>6/8/21</th>\n",
       "      <td>478697.386422</td>\n",
       "    </tr>\n",
       "  </tbody>\n",
       "</table>\n",
       "</div>"
      ],
      "text/plain": [
       "         previsão modelo 1\n",
       "date                      \n",
       "5/30/21      462293.688924\n",
       "5/31/21      463344.036011\n",
       "6/1/21       465546.254428\n",
       "6/2/21       468087.594437\n",
       "6/3/21       470334.030967\n",
       "6/4/21       472614.269226\n",
       "6/5/21       474512.809040\n",
       "6/6/21       475455.658775\n",
       "6/7/21       476522.801541\n",
       "6/8/21       478697.386422"
      ]
     },
     "execution_count": 21,
     "metadata": {},
     "output_type": "execute_result"
    }
   ],
   "source": [
    "future_forecast.head(10)"
   ]
  },
  {
   "cell_type": "code",
   "execution_count": 22,
   "metadata": {},
   "outputs": [
    {
     "data": {
      "text/html": [
       "<div>\n",
       "<style scoped>\n",
       "    .dataframe tbody tr th:only-of-type {\n",
       "        vertical-align: middle;\n",
       "    }\n",
       "\n",
       "    .dataframe tbody tr th {\n",
       "        vertical-align: top;\n",
       "    }\n",
       "\n",
       "    .dataframe thead th {\n",
       "        text-align: right;\n",
       "    }\n",
       "</style>\n",
       "<table border=\"1\" class=\"dataframe\">\n",
       "  <thead>\n",
       "    <tr style=\"text-align: right;\">\n",
       "      <th></th>\n",
       "      <th>previsão modelo 2</th>\n",
       "    </tr>\n",
       "    <tr>\n",
       "      <th>date</th>\n",
       "      <th></th>\n",
       "    </tr>\n",
       "  </thead>\n",
       "  <tbody>\n",
       "    <tr>\n",
       "      <th>5/30/21</th>\n",
       "      <td>462934.890952</td>\n",
       "    </tr>\n",
       "    <tr>\n",
       "      <th>5/31/21</th>\n",
       "      <td>464462.783438</td>\n",
       "    </tr>\n",
       "    <tr>\n",
       "      <th>6/1/21</th>\n",
       "      <td>466579.337864</td>\n",
       "    </tr>\n",
       "    <tr>\n",
       "      <th>6/2/21</th>\n",
       "      <td>468519.990533</td>\n",
       "    </tr>\n",
       "    <tr>\n",
       "      <th>6/3/21</th>\n",
       "      <td>470458.794990</td>\n",
       "    </tr>\n",
       "    <tr>\n",
       "      <th>6/4/21</th>\n",
       "      <td>472395.757096</td>\n",
       "    </tr>\n",
       "    <tr>\n",
       "      <th>6/5/21</th>\n",
       "      <td>474330.882691</td>\n",
       "    </tr>\n",
       "    <tr>\n",
       "      <th>6/6/21</th>\n",
       "      <td>476264.177598</td>\n",
       "    </tr>\n",
       "    <tr>\n",
       "      <th>6/7/21</th>\n",
       "      <td>478195.647621</td>\n",
       "    </tr>\n",
       "    <tr>\n",
       "      <th>6/8/21</th>\n",
       "      <td>480125.298544</td>\n",
       "    </tr>\n",
       "  </tbody>\n",
       "</table>\n",
       "</div>"
      ],
      "text/plain": [
       "         previsão modelo 2\n",
       "date                      \n",
       "5/30/21      462934.890952\n",
       "5/31/21      464462.783438\n",
       "6/1/21       466579.337864\n",
       "6/2/21       468519.990533\n",
       "6/3/21       470458.794990\n",
       "6/4/21       472395.757096\n",
       "6/5/21       474330.882691\n",
       "6/6/21       476264.177598\n",
       "6/7/21       478195.647621\n",
       "6/8/21       480125.298544"
      ]
     },
     "execution_count": 22,
     "metadata": {},
     "output_type": "execute_result"
    }
   ],
   "source": [
    "future_forecast1.head(10)"
   ]
  },
  {
   "cell_type": "markdown",
   "metadata": {},
   "source": [
    "Comparando graficamente os valores reais com as previsões, vemos que os resultados das previsões parecem acompanhar bem o valores reais."
   ]
  },
  {
   "cell_type": "code",
   "execution_count": 23,
   "metadata": {},
   "outputs": [
    {
     "data": {
      "text/plain": [
       "<Figure size 1440x360 with 0 Axes>"
      ]
     },
     "metadata": {},
     "output_type": "display_data"
    },
    {
     "data": {
      "image/png": "[encoded data removed]",
      "text/plain": [
       "<Figure size 1440x360 with 1 Axes>"
      ]
     },
     "metadata": {
      "needs_background": "light"
     },
     "output_type": "display_data"
    }
   ],
   "source": [
    "plt.figure(figsize=(20,5))\n",
    "pd.concat([test,future_forecast,future_forecast1],axis=1).plot(figsize=(20,5))\n",
    "plt.xlabel('')\n",
    "plt.title('Previsões X Real',size=15)\n",
    "plt.legend(['Valor real','previsão 1','previsão 2'])\n",
    "plt.show();"
   ]
  },
  {
   "cell_type": "code",
   "execution_count": 24,
   "metadata": {},
   "outputs": [
    {
     "data": {
      "image/png": "[encoded data removed]",
      "text/plain": [
       "<Figure size 1440x360 with 1 Axes>"
      ]
     },
     "metadata": {
      "needs_background": "light"
     },
     "output_type": "display_data"
    }
   ],
   "source": [
    "pd.concat([data,future_forecast],axis=1).plot(linewidth=1,figsize=(20,5))\n",
    "plt.legend('')\n",
    "plt.xlabel('')\n",
    "plt.title('Previsões X Real',size=15)\n",
    "plt.show();"
   ]
  },
  {
   "cell_type": "code",
   "execution_count": 25,
   "metadata": {},
   "outputs": [
    {
     "data": {
      "image/png": "[encoded data removed]",
      "text/plain": [
       "<Figure size 1440x360 with 1 Axes>"
      ]
     },
     "metadata": {
      "needs_background": "light"
     },
     "output_type": "display_data"
    }
   ],
   "source": [
    "pd.concat([data,future_forecast1],axis=1).plot(linewidth=1, figsize=(20,5))\n",
    "plt.legend('')\n",
    "plt.xlabel('')\n",
    "plt.title('Previsões X Real',size=15)\n",
    "plt.show();"
   ]
  },
  {
   "cell_type": "markdown",
   "metadata": {},
   "source": [
    "## Sumário dos modelos\n",
    "\n",
    "Abaixo podemos conferir os sumários dos modelos com seus coeficientes, estatísticas e p-valores.\n",
    "\n",
    "Podemos ver que no sumário em *model* que no valor do *D* está [1,2], ou seja, já está informando a possibilidade de ser com *D* igual a 1 ou *D* igual a 2, mas o restante do sumário diz respeito ao modelo 1."
   ]
  },
  {
   "cell_type": "code",
   "execution_count": 26,
   "metadata": {},
   "outputs": [
    {
     "data": {
      "text/html": [
       "<table class=\"simpletable\">\n",
       "<caption>SARIMAX Results</caption>\n",
       "<tr>\n",
       "  <th>Dep. Variable:</th>           <td>y</td>        <th>  No. Observations:  </th>    <td>439</td>   \n",
       "</tr>\n",
       "<tr>\n",
       "  <th>Model:</th>           <td>SARIMAX(6, 1, 6)</td> <th>  Log Likelihood     </th> <td>-2990.089</td>\n",
       "</tr>\n",
       "<tr>\n",
       "  <th>Date:</th>            <td>Sun, 23 Jan 2022</td> <th>  AIC                </th> <td>6006.178</td> \n",
       "</tr>\n",
       "<tr>\n",
       "  <th>Time:</th>                <td>14:30:21</td>     <th>  BIC                </th> <td>6059.247</td> \n",
       "</tr>\n",
       "<tr>\n",
       "  <th>Sample:</th>                  <td>0</td>        <th>  HQIC               </th> <td>6027.118</td> \n",
       "</tr>\n",
       "<tr>\n",
       "  <th></th>                      <td> - 439</td>      <th>                     </th>     <td> </td>    \n",
       "</tr>\n",
       "<tr>\n",
       "  <th>Covariance Type:</th>        <td>opg</td>       <th>                     </th>     <td> </td>    \n",
       "</tr>\n",
       "</table>\n",
       "<table class=\"simpletable\">\n",
       "<tr>\n",
       "     <td></td>       <th>coef</th>     <th>std err</th>      <th>z</th>      <th>P>|z|</th>  <th>[0.025</th>    <th>0.975]</th>  \n",
       "</tr>\n",
       "<tr>\n",
       "  <th>ar.L1</th>  <td>    0.8349</td> <td>    0.034</td> <td>   24.268</td> <td> 0.000</td> <td>    0.767</td> <td>    0.902</td>\n",
       "</tr>\n",
       "<tr>\n",
       "  <th>ar.L2</th>  <td>   -0.4875</td> <td>    0.060</td> <td>   -8.127</td> <td> 0.000</td> <td>   -0.605</td> <td>   -0.370</td>\n",
       "</tr>\n",
       "<tr>\n",
       "  <th>ar.L3</th>  <td>    0.0484</td> <td>    0.077</td> <td>    0.632</td> <td> 0.528</td> <td>   -0.102</td> <td>    0.198</td>\n",
       "</tr>\n",
       "<tr>\n",
       "  <th>ar.L4</th>  <td>    0.3899</td> <td>    0.078</td> <td>    5.018</td> <td> 0.000</td> <td>    0.238</td> <td>    0.542</td>\n",
       "</tr>\n",
       "<tr>\n",
       "  <th>ar.L5</th>  <td>   -0.7421</td> <td>    0.064</td> <td>  -11.547</td> <td> 0.000</td> <td>   -0.868</td> <td>   -0.616</td>\n",
       "</tr>\n",
       "<tr>\n",
       "  <th>ar.L6</th>  <td>    0.9560</td> <td>    0.035</td> <td>   27.094</td> <td> 0.000</td> <td>    0.887</td> <td>    1.025</td>\n",
       "</tr>\n",
       "<tr>\n",
       "  <th>ma.L1</th>  <td>   -0.3490</td> <td>    0.047</td> <td>   -7.356</td> <td> 0.000</td> <td>   -0.442</td> <td>   -0.256</td>\n",
       "</tr>\n",
       "<tr>\n",
       "  <th>ma.L2</th>  <td>    0.3053</td> <td>    0.051</td> <td>    6.009</td> <td> 0.000</td> <td>    0.206</td> <td>    0.405</td>\n",
       "</tr>\n",
       "<tr>\n",
       "  <th>ma.L3</th>  <td>    0.2378</td> <td>    0.053</td> <td>    4.501</td> <td> 0.000</td> <td>    0.134</td> <td>    0.341</td>\n",
       "</tr>\n",
       "<tr>\n",
       "  <th>ma.L4</th>  <td>   -0.2775</td> <td>    0.050</td> <td>   -5.527</td> <td> 0.000</td> <td>   -0.376</td> <td>   -0.179</td>\n",
       "</tr>\n",
       "<tr>\n",
       "  <th>ma.L5</th>  <td>    0.6441</td> <td>    0.055</td> <td>   11.620</td> <td> 0.000</td> <td>    0.535</td> <td>    0.753</td>\n",
       "</tr>\n",
       "<tr>\n",
       "  <th>ma.L6</th>  <td>   -0.4801</td> <td>    0.039</td> <td>  -12.171</td> <td> 0.000</td> <td>   -0.557</td> <td>   -0.403</td>\n",
       "</tr>\n",
       "<tr>\n",
       "  <th>sigma2</th> <td>  6.43e+04</td> <td> 3290.991</td> <td>   19.539</td> <td> 0.000</td> <td> 5.79e+04</td> <td> 7.08e+04</td>\n",
       "</tr>\n",
       "</table>\n",
       "<table class=\"simpletable\">\n",
       "<tr>\n",
       "  <th>Ljung-Box (L1) (Q):</th>     <td>0.02</td> <th>  Jarque-Bera (JB):  </th> <td>740.29</td>\n",
       "</tr>\n",
       "<tr>\n",
       "  <th>Prob(Q):</th>                <td>0.88</td> <th>  Prob(JB):          </th>  <td>0.00</td> \n",
       "</tr>\n",
       "<tr>\n",
       "  <th>Heteroskedasticity (H):</th> <td>7.42</td> <th>  Skew:              </th>  <td>-0.05</td>\n",
       "</tr>\n",
       "<tr>\n",
       "  <th>Prob(H) (two-sided):</th>    <td>0.00</td> <th>  Kurtosis:          </th>  <td>9.37</td> \n",
       "</tr>\n",
       "</table><br/><br/>Warnings:<br/>[1] Covariance matrix calculated using the outer product of gradients (complex-step)."
      ],
      "text/plain": [
       "<class 'statsmodels.iolib.summary.Summary'>\n",
       "\"\"\"\n",
       "                               SARIMAX Results                                \n",
       "==============================================================================\n",
       "Dep. Variable:                      y   No. Observations:                  439\n",
       "Model:               SARIMAX(6, 1, 6)   Log Likelihood               -2990.089\n",
       "Date:                Sun, 23 Jan 2022   AIC                           6006.178\n",
       "Time:                        14:30:21   BIC                           6059.247\n",
       "Sample:                             0   HQIC                          6027.118\n",
       "                                - 439                                         \n",
       "Covariance Type:                  opg                                         \n",
       "==============================================================================\n",
       "                 coef    std err          z      P>|z|      [0.025      0.975]\n",
       "------------------------------------------------------------------------------\n",
       "ar.L1          0.8349      0.034     24.268      0.000       0.767       0.902\n",
       "ar.L2         -0.4875      0.060     -8.127      0.000      -0.605      -0.370\n",
       "ar.L3          0.0484      0.077      0.632      0.528      -0.102       0.198\n",
       "ar.L4          0.3899      0.078      5.018      0.000       0.238       0.542\n",
       "ar.L5         -0.7421      0.064    -11.547      0.000      -0.868      -0.616\n",
       "ar.L6          0.9560      0.035     27.094      0.000       0.887       1.025\n",
       "ma.L1         -0.3490      0.047     -7.356      0.000      -0.442      -0.256\n",
       "ma.L2          0.3053      0.051      6.009      0.000       0.206       0.405\n",
       "ma.L3          0.2378      0.053      4.501      0.000       0.134       0.341\n",
       "ma.L4         -0.2775      0.050     -5.527      0.000      -0.376      -0.179\n",
       "ma.L5          0.6441      0.055     11.620      0.000       0.535       0.753\n",
       "ma.L6         -0.4801      0.039    -12.171      0.000      -0.557      -0.403\n",
       "sigma2       6.43e+04   3290.991     19.539      0.000    5.79e+04    7.08e+04\n",
       "===================================================================================\n",
       "Ljung-Box (L1) (Q):                   0.02   Jarque-Bera (JB):               740.29\n",
       "Prob(Q):                              0.88   Prob(JB):                         0.00\n",
       "Heteroskedasticity (H):               7.42   Skew:                            -0.05\n",
       "Prob(H) (two-sided):                  0.00   Kurtosis:                         9.37\n",
       "===================================================================================\n",
       "\n",
       "Warnings:\n",
       "[1] Covariance matrix calculated using the outer product of gradients (complex-step).\n",
       "\"\"\""
      ]
     },
     "execution_count": 26,
     "metadata": {},
     "output_type": "execute_result"
    }
   ],
   "source": [
    "stepwise.summary()"
   ]
  },
  {
   "cell_type": "markdown",
   "metadata": {},
   "source": [
    "Simário do modelo 2."
   ]
  },
  {
   "cell_type": "code",
   "execution_count": 27,
   "metadata": {},
   "outputs": [
    {
     "data": {
      "text/html": [
       "<table class=\"simpletable\">\n",
       "<caption>SARIMAX Results</caption>\n",
       "<tr>\n",
       "  <th>Dep. Variable:</th>           <td>y</td>        <th>  No. Observations:  </th>    <td>439</td>   \n",
       "</tr>\n",
       "<tr>\n",
       "  <th>Model:</th>           <td>SARIMAX(1, 1, 4)</td> <th>  Log Likelihood     </th> <td>-3147.334</td>\n",
       "</tr>\n",
       "<tr>\n",
       "  <th>Date:</th>            <td>Sun, 23 Jan 2022</td> <th>  AIC                </th> <td>6308.668</td> \n",
       "</tr>\n",
       "<tr>\n",
       "  <th>Time:</th>                <td>14:30:21</td>     <th>  BIC                </th> <td>6337.243</td> \n",
       "</tr>\n",
       "<tr>\n",
       "  <th>Sample:</th>                  <td>0</td>        <th>  HQIC               </th> <td>6319.943</td> \n",
       "</tr>\n",
       "<tr>\n",
       "  <th></th>                      <td> - 439</td>      <th>                     </th>     <td> </td>    \n",
       "</tr>\n",
       "<tr>\n",
       "  <th>Covariance Type:</th>        <td>opg</td>       <th>                     </th>     <td> </td>    \n",
       "</tr>\n",
       "</table>\n",
       "<table class=\"simpletable\">\n",
       "<tr>\n",
       "      <td></td>         <th>coef</th>     <th>std err</th>      <th>z</th>      <th>P>|z|</th>  <th>[0.025</th>    <th>0.975]</th>  \n",
       "</tr>\n",
       "<tr>\n",
       "  <th>intercept</th> <td>    4.3044</td> <td>    4.917</td> <td>    0.876</td> <td> 0.381</td> <td>   -5.332</td> <td>   13.941</td>\n",
       "</tr>\n",
       "<tr>\n",
       "  <th>ar.L1</th>     <td>    0.9968</td> <td>    0.003</td> <td>  337.053</td> <td> 0.000</td> <td>    0.991</td> <td>    1.003</td>\n",
       "</tr>\n",
       "<tr>\n",
       "  <th>ma.L1</th>     <td>   -0.5716</td> <td>    0.025</td> <td>  -22.495</td> <td> 0.000</td> <td>   -0.621</td> <td>   -0.522</td>\n",
       "</tr>\n",
       "<tr>\n",
       "  <th>ma.L2</th>     <td>   -0.6217</td> <td>    0.026</td> <td>  -23.466</td> <td> 0.000</td> <td>   -0.674</td> <td>   -0.570</td>\n",
       "</tr>\n",
       "<tr>\n",
       "  <th>ma.L3</th>     <td>   -0.2258</td> <td>    0.033</td> <td>   -6.833</td> <td> 0.000</td> <td>   -0.291</td> <td>   -0.161</td>\n",
       "</tr>\n",
       "<tr>\n",
       "  <th>ma.L4</th>     <td>    0.6418</td> <td>    0.028</td> <td>   22.585</td> <td> 0.000</td> <td>    0.586</td> <td>    0.697</td>\n",
       "</tr>\n",
       "<tr>\n",
       "  <th>sigma2</th>    <td> 9.945e+04</td> <td> 4549.629</td> <td>   21.859</td> <td> 0.000</td> <td> 9.05e+04</td> <td> 1.08e+05</td>\n",
       "</tr>\n",
       "</table>\n",
       "<table class=\"simpletable\">\n",
       "<tr>\n",
       "  <th>Ljung-Box (L1) (Q):</th>     <td>10.85</td> <th>  Jarque-Bera (JB):  </th> <td>102.81</td>\n",
       "</tr>\n",
       "<tr>\n",
       "  <th>Prob(Q):</th>                <td>0.00</td>  <th>  Prob(JB):          </th>  <td>0.00</td> \n",
       "</tr>\n",
       "<tr>\n",
       "  <th>Heteroskedasticity (H):</th> <td>7.81</td>  <th>  Skew:              </th>  <td>0.04</td> \n",
       "</tr>\n",
       "<tr>\n",
       "  <th>Prob(H) (two-sided):</th>    <td>0.00</td>  <th>  Kurtosis:          </th>  <td>5.37</td> \n",
       "</tr>\n",
       "</table><br/><br/>Warnings:<br/>[1] Covariance matrix calculated using the outer product of gradients (complex-step)."
      ],
      "text/plain": [
       "<class 'statsmodels.iolib.summary.Summary'>\n",
       "\"\"\"\n",
       "                               SARIMAX Results                                \n",
       "==============================================================================\n",
       "Dep. Variable:                      y   No. Observations:                  439\n",
       "Model:               SARIMAX(1, 1, 4)   Log Likelihood               -3147.334\n",
       "Date:                Sun, 23 Jan 2022   AIC                           6308.668\n",
       "Time:                        14:30:21   BIC                           6337.243\n",
       "Sample:                             0   HQIC                          6319.943\n",
       "                                - 439                                         \n",
       "Covariance Type:                  opg                                         \n",
       "==============================================================================\n",
       "                 coef    std err          z      P>|z|      [0.025      0.975]\n",
       "------------------------------------------------------------------------------\n",
       "intercept      4.3044      4.917      0.876      0.381      -5.332      13.941\n",
       "ar.L1          0.9968      0.003    337.053      0.000       0.991       1.003\n",
       "ma.L1         -0.5716      0.025    -22.495      0.000      -0.621      -0.522\n",
       "ma.L2         -0.6217      0.026    -23.466      0.000      -0.674      -0.570\n",
       "ma.L3         -0.2258      0.033     -6.833      0.000      -0.291      -0.161\n",
       "ma.L4          0.6418      0.028     22.585      0.000       0.586       0.697\n",
       "sigma2      9.945e+04   4549.629     21.859      0.000    9.05e+04    1.08e+05\n",
       "===================================================================================\n",
       "Ljung-Box (L1) (Q):                  10.85   Jarque-Bera (JB):               102.81\n",
       "Prob(Q):                              0.00   Prob(JB):                         0.00\n",
       "Heteroskedasticity (H):               7.81   Skew:                             0.04\n",
       "Prob(H) (two-sided):                  0.00   Kurtosis:                         5.37\n",
       "===================================================================================\n",
       "\n",
       "Warnings:\n",
       "[1] Covariance matrix calculated using the outer product of gradients (complex-step).\n",
       "\"\"\""
      ]
     },
     "execution_count": 27,
     "metadata": {},
     "output_type": "execute_result"
    }
   ],
   "source": [
    "stepwise1.summary()"
   ]
  },
  {
   "cell_type": "markdown",
   "metadata": {},
   "source": [
    "## Análise dos resíduos\n",
    "\n",
    "Uma das principais etapas é a avaliação dos resíduos. Primeiramente vamos olhar o *rmse* que é umas das principais métricas para análise dos erros, onde ele compara valores reais com os preditos. Aqui é interessante que o resultado seja o mais próximo possível de zero.\n",
    "\n",
    "Podemos ver que o modelo com melhor desempenho foi o modelo 1."
   ]
  },
  {
   "cell_type": "code",
   "execution_count": 28,
   "metadata": {},
   "outputs": [
    {
     "name": "stdout",
     "output_type": "stream",
     "text": [
      "RMSE do modelo 1: 117065.047\n",
      "\n",
      "RMSE do modelo 2: 111460.517\n"
     ]
    }
   ],
   "source": [
    "print(\"RMSE do modelo 1: %.3f\" % np.sqrt(mean_squared_error(test, future_forecast)))\n",
    "print('')\n",
    "print(\"RMSE do modelo 2: %.3f\" % np.sqrt(mean_squared_error(test, future_forecast1)))"
   ]
  },
  {
   "cell_type": "markdown",
   "metadata": {},
   "source": [
    "Definindo melhores parâmetros"
   ]
  },
  {
   "cell_type": "code",
   "execution_count": 29,
   "metadata": {},
   "outputs": [],
   "source": [
    "rmse1 = np.sqrt(mean_squared_error(test, future_forecast))\n",
    "rmse2 = np.sqrt(mean_squared_error(test, future_forecast1))\n",
    "if rmse1 < rmse2:\n",
    "    beststepwise=stepwise\n",
    "else:\n",
    "    beststepwise=stepwise1\n",
    "print(\"Melhores parâmetros: \", beststepwise)"
   ]
  },
  {
   "cell_type": "markdown",
   "metadata": {},
   "source": [
    "Calculando os erros de cada um dos modelos."
   ]
  },
  {
   "cell_type": "code",
   "execution_count": 30,
   "metadata": {},
   "outputs": [],
   "source": [
    "erros=pd.DataFrame(np.array(future_forecast.values.tolist())-np.array(test.values.tolist()))\n",
    "\n",
    "erros1=pd.DataFrame(np.array(future_forecast1.values.tolist())-np.array(test.values.tolist()))"
   ]
  },
  {
   "cell_type": "markdown",
   "metadata": {},
   "source": [
    "Vamos ver graficamente a distribuião dos resíduos dos modelos: são bem semelhantes e se assemelham com uma distribuição normal."
   ]
  },
  {
   "cell_type": "code",
   "execution_count": 31,
   "metadata": {},
   "outputs": [
    {
     "name": "stdout",
     "output_type": "stream",
     "text": [
      "                 0\n",
      "0        15.688924\n",
      "1       100.036011\n",
      "2       -31.745572\n",
      "3         1.594437\n",
      "4       334.030967\n",
      "..             ...\n",
      "211  234541.820890\n",
      "212  236174.482712\n",
      "213  238295.013211\n",
      "214  240411.098791\n",
      "215  242444.184684\n",
      "\n",
      "[216 rows x 1 columns]\n"
     ]
    }
   ],
   "source": [
    "print(erros)"
   ]
  },
  {
   "cell_type": "code",
   "execution_count": 32,
   "metadata": {},
   "outputs": [
    {
     "name": "stdout",
     "output_type": "stream",
     "text": [
      "                 0\n",
      "0       656.890952\n",
      "1      1218.783438\n",
      "2      1001.337864\n",
      "3       433.990533\n",
      "4       458.794990\n",
      "..             ...\n",
      "211  220727.358071\n",
      "212  222204.252629\n",
      "213  223744.195432\n",
      "214  225246.189499\n",
      "215  226816.237837\n",
      "\n",
      "[216 rows x 1 columns]\n"
     ]
    }
   ],
   "source": [
    "print(erros1)"
   ]
  },
  {
   "cell_type": "code",
   "execution_count": 33,
   "metadata": {},
   "outputs": [
    {
     "name": "stderr",
     "output_type": "stream",
     "text": [
      "C:\\ProgramData\\Anaconda3\\lib\\site-packages\\seaborn\\distributions.py:2619: FutureWarning: `distplot` is a deprecated function and will be removed in a future version. Please adapt your code to use either `displot` (a figure-level function with similar flexibility) or `histplot` (an axes-level function for histograms).\n",
      "  warnings.warn(msg, FutureWarning)\n",
      "C:\\ProgramData\\Anaconda3\\lib\\site-packages\\seaborn\\distributions.py:2619: FutureWarning: `distplot` is a deprecated function and will be removed in a future version. Please adapt your code to use either `displot` (a figure-level function with similar flexibility) or `histplot` (an axes-level function for histograms).\n",
      "  warnings.warn(msg, FutureWarning)\n"
     ]
    },
    {
     "data": {
      "image/png": "[encoded data removed]",
      "text/plain": [
       "<Figure size 1440x360 with 2 Axes>"
      ]
     },
     "metadata": {
      "needs_background": "light"
     },
     "output_type": "display_data"
    }
   ],
   "source": [
    "fig, ax = plt.subplots(1,2,figsize=(20,5))\n",
    "sns.distplot(erros,ax=ax[0])\n",
    "sns.distplot(erros1,ax=ax[1], color='red');"
   ]
  },
  {
   "cell_type": "markdown",
   "metadata": {},
   "source": [
    "Podemos usar também a função *plot_diagnostic* para gerar os resíduos, o histograma dos resíduos, o gráfico QQ e o correlograma dos resíduos.\n",
    "\n",
    "Para o modelo *stepwise* podemos ver que os resíduos apresentam estar flutuando em torno do valor de zero e o seu histograma apresenta possuir um formato de sino. Vemos que o *KDE* do histograma está bem próximo do *KDE* de uma distribuição normal. No gráfio QQplot os valores estão, em sua maioria, em cima da linha vermelha, o que é uma evidência para normalidade; e por fim o correlograma não apresentou resultados estatisticamente significativo, rejeitando, então, a presença de autocorrelação serial."
   ]
  },
  {
   "cell_type": "code",
   "execution_count": 34,
   "metadata": {},
   "outputs": [
    {
     "name": "stderr",
     "output_type": "stream",
     "text": [
      "C:\\ProgramData\\Anaconda3\\lib\\site-packages\\statsmodels\\graphics\\gofplots.py:993: UserWarning: marker is redundantly defined by the 'marker' keyword argument and the fmt string \"bo\" (-> marker='o'). The keyword argument will take precedence.\n",
      "  ax.plot(x, y, fmt, **plot_style)\n"
     ]
    },
    {
     "data": {
      "image/png": "[encoded data removed]",
      "text/plain": [
       "<Figure size 720x432 with 4 Axes>"
      ]
     },
     "metadata": {
      "needs_background": "light"
     },
     "output_type": "display_data"
    }
   ],
   "source": [
    "stepwise.plot_diagnostics(figsize=(10,6));"
   ]
  },
  {
   "cell_type": "markdown",
   "metadata": {},
   "source": [
    "Assim como o modelo *stepwise* o modelo *stepwise1* apresenta resultados semelhantes."
   ]
  },
  {
   "cell_type": "code",
   "execution_count": 35,
   "metadata": {},
   "outputs": [
    {
     "name": "stderr",
     "output_type": "stream",
     "text": [
      "C:\\ProgramData\\Anaconda3\\lib\\site-packages\\statsmodels\\graphics\\gofplots.py:993: UserWarning: marker is redundantly defined by the 'marker' keyword argument and the fmt string \"bo\" (-> marker='o'). The keyword argument will take precedence.\n",
      "  ax.plot(x, y, fmt, **plot_style)\n"
     ]
    },
    {
     "data": {
      "image/png": "[encoded data removed]",
      "text/plain": [
       "<Figure size 720x432 with 4 Axes>"
      ]
     },
     "metadata": {
      "needs_background": "light"
     },
     "output_type": "display_data"
    }
   ],
   "source": [
    "stepwise1.plot_diagnostics(figsize=(10,6));"
   ]
  },
  {
   "cell_type": "markdown",
   "metadata": {},
   "source": [
    "### Teste de normalidade dos resíduos\n",
    "\n",
    "Para sabermos se a distribuição dos resíduos é ou não normal precisaremos realizar um teste estatístico chamado Teste de Normalidade *Jarque-Bera*. O teste Jarque-Bera testa se a distribuição dos dados é uma distribuição normal ($H_{0}$) em comparação com uma hipótese alternativa ($H_{1}$) em que os dados seguem alguma outra distribuição. A estatística do teste é baseada em dois momentos dos dados, a assimetria e a curtose, e possui uma $\\chi^{2}_{2;1-\\alpha}$ distribuição assintótica.\n",
    "\n",
    "A estatística do teste Jarque-Bera é dada pela equação abaixo:\n",
    "\n",
    "$S_{JB} = T\\bigg[\\frac{\\alpha_{1}^{2}}{6} + \\frac{\\big(\\alpha_{2} - 3\\big)^{2}}{24} \\bigg]$, onde $\\alpha_{1}$ é o coeficiente de assimetria e $\\alpha_{2}$ o coeficiente de curtose.\n",
    "\n",
    "Se $S_{JB} > \\chi^{2}_{2;1-\\alpha}$, devemos rejeitar $H_{0}$.\n",
    "\n",
    "Para o primeiro modelo o *p-value* teve um valor de 0.3746892, bem acima do nível de significância de 5% (que será o nosso padrão). Então podemos considerar que os resíduos do modelo 1 possuem uma distribuição normal."
   ]
  },
  {
   "cell_type": "code",
   "execution_count": 36,
   "metadata": {},
   "outputs": [
    {
     "name": "stdout",
     "output_type": "stream",
     "text": [
      "Estatística Jarque-Bera : [18.63102176]\n",
      "p-valor : [9.00171025e-05]\n",
      "Assimetria : [0.43755888]\n",
      "Curtose : [1.85794814]\n"
     ]
    }
   ],
   "source": [
    "test = jarque_bera(erros)\n",
    "print('Estatística Jarque-Bera :', test[0])\n",
    "print('p-valor :', test[1])\n",
    "print('Assimetria :', test[2])\n",
    "print('Curtose :',test[3])"
   ]
  },
  {
   "cell_type": "markdown",
   "metadata": {},
   "source": [
    "Para o modelo 2, o *p-value* foi um pouco maior (0.4257611) e também podemos considerar que seus resíduos são normais."
   ]
  },
  {
   "cell_type": "code",
   "execution_count": 37,
   "metadata": {},
   "outputs": [
    {
     "name": "stdout",
     "output_type": "stream",
     "text": [
      "Estatística Jarque-Bera : [18.23616279]\n",
      "p-valor : [0.00010966]\n",
      "Assimetria : [0.40443386]\n",
      "Curtose : [1.82868734]\n"
     ]
    }
   ],
   "source": [
    "test1 = jarque_bera(erros1)\n",
    "print('Estatística Jarque-Bera :', test1[0])\n",
    "print('p-valor :', test1[1])\n",
    "print('Assimetria :', test1[2])\n",
    "print('Curtose :',test1[3])"
   ]
  },
  {
   "cell_type": "markdown",
   "metadata": {},
   "source": [
    "## Conclusão\n",
    "\n",
    "Para concluirmos levando em consideração a métrica de *RMSE* o modelo 1 foi melhor e pode ser escolhido para gerar previsões."
   ]
  },
  {
   "cell_type": "code",
   "execution_count": 38,
   "metadata": {},
   "outputs": [
    {
     "data": {
      "text/plain": [
       "ARIMA(order=(1, 1, 4), scoring_args={}, suppress_warnings=True)"
      ]
     },
     "execution_count": 38,
     "metadata": {},
     "output_type": "execute_result"
    }
   ],
   "source": [
    "beststepwise.fit(data)"
   ]
  },
  {
   "cell_type": "markdown",
   "metadata": {},
   "source": [
    "Vamos criar 31 previsões para um futuro fora da séries original."
   ]
  },
  {
   "cell_type": "code",
   "execution_count": 39,
   "metadata": {},
   "outputs": [],
   "source": [
    "future_forecast2=beststepwise.predict(n_periods=31)"
   ]
  },
  {
   "cell_type": "markdown",
   "metadata": {},
   "source": [
    "Vamos transformar em um *dataframe* e indexar para o tempo que queremos no futuro."
   ]
  },
  {
   "cell_type": "code",
   "execution_count": 40,
   "metadata": {},
   "outputs": [],
   "source": [
    "future_forecast2=pd.DataFrame(future_forecast2,columns=['nova previsão'])"
   ]
  },
  {
   "cell_type": "markdown",
   "metadata": {},
   "source": [
    "Vamos observar essas novas previsões."
   ]
  },
  {
   "cell_type": "code",
   "execution_count": 41,
   "metadata": {},
   "outputs": [
    {
     "data": {
      "text/html": [
       "<div>\n",
       "<style scoped>\n",
       "    .dataframe tbody tr th:only-of-type {\n",
       "        vertical-align: middle;\n",
       "    }\n",
       "\n",
       "    .dataframe tbody tr th {\n",
       "        vertical-align: top;\n",
       "    }\n",
       "\n",
       "    .dataframe thead th {\n",
       "        text-align: right;\n",
       "    }\n",
       "</style>\n",
       "<table border=\"1\" class=\"dataframe\">\n",
       "  <thead>\n",
       "    <tr style=\"text-align: right;\">\n",
       "      <th></th>\n",
       "      <th>nova previsão</th>\n",
       "    </tr>\n",
       "  </thead>\n",
       "  <tbody>\n",
       "    <tr>\n",
       "      <th>0</th>\n",
       "      <td>619436.070458</td>\n",
       "    </tr>\n",
       "    <tr>\n",
       "      <th>1</th>\n",
       "      <td>619514.816051</td>\n",
       "    </tr>\n",
       "    <tr>\n",
       "      <th>2</th>\n",
       "      <td>619636.915304</td>\n",
       "    </tr>\n",
       "    <tr>\n",
       "      <th>3</th>\n",
       "      <td>619749.460977</td>\n",
       "    </tr>\n",
       "    <tr>\n",
       "      <th>4</th>\n",
       "      <td>619864.308133</td>\n",
       "    </tr>\n",
       "    <tr>\n",
       "      <th>5</th>\n",
       "      <td>619981.446981</td>\n",
       "    </tr>\n",
       "    <tr>\n",
       "      <th>6</th>\n",
       "      <td>620100.867773</td>\n",
       "    </tr>\n",
       "    <tr>\n",
       "      <th>7</th>\n",
       "      <td>620222.560799</td>\n",
       "    </tr>\n",
       "    <tr>\n",
       "      <th>8</th>\n",
       "      <td>620346.516394</td>\n",
       "    </tr>\n",
       "    <tr>\n",
       "      <th>9</th>\n",
       "      <td>620472.724932</td>\n",
       "    </tr>\n",
       "    <tr>\n",
       "      <th>10</th>\n",
       "      <td>620601.176827</td>\n",
       "    </tr>\n",
       "    <tr>\n",
       "      <th>11</th>\n",
       "      <td>620731.862537</td>\n",
       "    </tr>\n",
       "    <tr>\n",
       "      <th>12</th>\n",
       "      <td>620864.772557</td>\n",
       "    </tr>\n",
       "    <tr>\n",
       "      <th>13</th>\n",
       "      <td>620999.897425</td>\n",
       "    </tr>\n",
       "    <tr>\n",
       "      <th>14</th>\n",
       "      <td>621137.227718</td>\n",
       "    </tr>\n",
       "    <tr>\n",
       "      <th>15</th>\n",
       "      <td>621276.754055</td>\n",
       "    </tr>\n",
       "    <tr>\n",
       "      <th>16</th>\n",
       "      <td>621418.467091</td>\n",
       "    </tr>\n",
       "    <tr>\n",
       "      <th>17</th>\n",
       "      <td>621562.357525</td>\n",
       "    </tr>\n",
       "    <tr>\n",
       "      <th>18</th>\n",
       "      <td>621708.416093</td>\n",
       "    </tr>\n",
       "    <tr>\n",
       "      <th>19</th>\n",
       "      <td>621856.633571</td>\n",
       "    </tr>\n",
       "    <tr>\n",
       "      <th>20</th>\n",
       "      <td>622007.000775</td>\n",
       "    </tr>\n",
       "    <tr>\n",
       "      <th>21</th>\n",
       "      <td>622159.508558</td>\n",
       "    </tr>\n",
       "    <tr>\n",
       "      <th>22</th>\n",
       "      <td>622314.147815</td>\n",
       "    </tr>\n",
       "    <tr>\n",
       "      <th>23</th>\n",
       "      <td>622470.909478</td>\n",
       "    </tr>\n",
       "    <tr>\n",
       "      <th>24</th>\n",
       "      <td>622629.784516</td>\n",
       "    </tr>\n",
       "    <tr>\n",
       "      <th>25</th>\n",
       "      <td>622790.763940</td>\n",
       "    </tr>\n",
       "    <tr>\n",
       "      <th>26</th>\n",
       "      <td>622953.838796</td>\n",
       "    </tr>\n",
       "    <tr>\n",
       "      <th>27</th>\n",
       "      <td>623119.000171</td>\n",
       "    </tr>\n",
       "    <tr>\n",
       "      <th>28</th>\n",
       "      <td>623286.239186</td>\n",
       "    </tr>\n",
       "    <tr>\n",
       "      <th>29</th>\n",
       "      <td>623455.547004</td>\n",
       "    </tr>\n",
       "    <tr>\n",
       "      <th>30</th>\n",
       "      <td>623626.914824</td>\n",
       "    </tr>\n",
       "  </tbody>\n",
       "</table>\n",
       "</div>"
      ],
      "text/plain": [
       "    nova previsão\n",
       "0   619436.070458\n",
       "1   619514.816051\n",
       "2   619636.915304\n",
       "3   619749.460977\n",
       "4   619864.308133\n",
       "5   619981.446981\n",
       "6   620100.867773\n",
       "7   620222.560799\n",
       "8   620346.516394\n",
       "9   620472.724932\n",
       "10  620601.176827\n",
       "11  620731.862537\n",
       "12  620864.772557\n",
       "13  620999.897425\n",
       "14  621137.227718\n",
       "15  621276.754055\n",
       "16  621418.467091\n",
       "17  621562.357525\n",
       "18  621708.416093\n",
       "19  621856.633571\n",
       "20  622007.000775\n",
       "21  622159.508558\n",
       "22  622314.147815\n",
       "23  622470.909478\n",
       "24  622629.784516\n",
       "25  622790.763940\n",
       "26  622953.838796\n",
       "27  623119.000171\n",
       "28  623286.239186\n",
       "29  623455.547004\n",
       "30  623626.914824"
      ]
     },
     "execution_count": 41,
     "metadata": {},
     "output_type": "execute_result"
    }
   ],
   "source": [
    "future_forecast2.head(31)"
   ]
  },
  {
   "cell_type": "markdown",
   "metadata": {},
   "source": [
    "E agora vamos ver graficamente."
   ]
  },
  {
   "cell_type": "code",
   "execution_count": 42,
   "metadata": {},
   "outputs": [
    {
     "data": {
      "text/plain": [
       "<Figure size 1440x360 with 0 Axes>"
      ]
     },
     "metadata": {},
     "output_type": "display_data"
    },
    {
     "data": {
      "image/png": "[encoded data removed]",
      "text/plain": [
       "<Figure size 1440x360 with 1 Axes>"
      ]
     },
     "metadata": {
      "needs_background": "light"
     },
     "output_type": "display_data"
    }
   ],
   "source": [
    "plt.figure(figsize=(20,5))\n",
    "pd.concat([future_forecast2],axis=1).plot(figsize=(20,5))\n",
    "plt.xlabel('')\n",
    "plt.title('Previsões nos próximos 31 dias',size=15)\n",
    "plt.legend(['Previsões'])\n",
    "plt.show();"
   ]
  }
 ],
 "metadata": {
  "kernelspec": {
   "display_name": "Python 3 (ipykernel)",
   "language": "python",
   "name": "python3"
  },
  "language_info": {
   "codemirror_mode": {
    "name": "ipython",
    "version": 3
   },
   "file_extension": ".py",
   "mimetype": "text/x-python",
   "name": "python",
   "nbconvert_exporter": "python",
   "pygments_lexer": "ipython3",
   "version": "3.8.12"
  }
 },
 "nbformat": 4,
 "nbformat_minor": 2
}
