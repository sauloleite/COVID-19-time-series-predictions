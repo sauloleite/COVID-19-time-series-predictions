{
 "cells": [
  {
   "cell_type": "code",
   "execution_count": null,
   "id": "9b44a154",
   "metadata": {},
   "outputs": [],
   "source": [
    "import math\n",
    "import os\n",
    "import datetime\n",
    "import pandas\n",
    "from pandas import read_csv\n",
    "from pandas import Series\n",
    "from urllib.request import urlretrieve\n",
    "import matplotlib.pyplot as plt\n",
    "import numpy\n",
    "\n",
    "import keras\n",
    "import tensorflow.keras.backend as K\n",
    "from keras.models import Sequential\n",
    "from keras.layers import Dense, Dropout, LSTM\n",
    "from sklearn.preprocessing import MinMaxScaler\n",
    "from sklearn.metrics import mean_squared_error\n",
    "import seaborn as sns\n",
    "import matplotlib.pyplot as plt\n",
    "plt.style.use('ggplot')\n",
    "\n",
    "from statsmodels.tsa.arima.model import ARIMA\n",
    "from statsmodels.tsa.filters.hp_filter import hpfilter\n",
    "from statsmodels.tsa.seasonal import seasonal_decompose\n",
    "from statsmodels.tsa.holtwinters import SimpleExpSmoothing, Holt, ExponentialSmoothing\n",
    "from sklearn.metrics import mean_squared_error, mean_absolute_error\n"
   ]
  },
  {
   "cell_type": "code",
   "execution_count": null,
   "id": "5bddadab",
   "metadata": {},
   "outputs": [],
   "source": [
    "                # Normalizar o dataset\n",
    "                scaler = MinMaxScaler(feature_range=(0, 1))\n",
    "                dataset = scaler.fit_transform(dataset)\n",
    "                # dividir em conjuntos de treinamento e teste\n",
    "                train_size = int(len(dataset) * 0.67)\n",
    "                test_size = len(dataset) - train_size\n",
    "                train, test = dataset[0:train_size,:], dataset[train_size:len(dataset),:]\n",
    "                # remodelar em X = t e Y = t + 1\n",
    "                look_back = 1\n",
    "                trainX, trainY = create_dataset(train, look_back)\n",
    "                testX, testY = create_dataset(test, look_back)\n",
    "                # remodelar a entrada para ser [amostras, intervalos de tempo, recursos]\n",
    "                trainX = numpy.reshape(trainX, (trainX.shape[0], 1, trainX.shape[1]))\n",
    "                testX = numpy.reshape(testX, (testX.shape[0], 1, testX.shape[1]))"
   ]
  }
 ],
 "metadata": {
  "kernelspec": {
   "display_name": "Python 3 (ipykernel)",
   "language": "python",
   "name": "python3"
  },
  "language_info": {
   "codemirror_mode": {
    "name": "ipython",
    "version": 3
   },
   "file_extension": ".py",
   "mimetype": "text/x-python",
   "name": "python",
   "nbconvert_exporter": "python",
   "pygments_lexer": "ipython3",
   "version": "3.8.11"
  }
 },
 "nbformat": 4,
 "nbformat_minor": 5
}
