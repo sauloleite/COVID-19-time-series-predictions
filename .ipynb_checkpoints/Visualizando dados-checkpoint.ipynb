{
 "cells": [
  {
   "cell_type": "code",
   "execution_count": null,
   "id": "05e80455",
   "metadata": {},
   "outputs": [],
   "source": [
    "import math\n",
    "import os\n",
    "import datetime\n",
    "import pandas\n",
    "from pandas import read_csv\n",
    "from pandas import Series\n",
    "from urllib.request import urlretrieve\n",
    "import matplotlib.pyplot as plt\n",
    "import numpy\n",
    "\n",
    "import keras\n",
    "import tensorflow.keras.backend as K\n",
    "from keras.models import Sequential\n",
    "from keras.layers import Dense, Dropout, LSTM\n",
    "from sklearn.preprocessing import MinMaxScaler\n",
    "from sklearn.metrics import mean_squared_error\n",
    "import seaborn as sns\n",
    "import matplotlib.pyplot as plt\n",
    "plt.style.use('ggplot')\n",
    "\n",
    "from statsmodels.tsa.arima.model import ARIMA\n",
    "from statsmodels.tsa.filters.hp_filter import hpfilter\n",
    "from statsmodels.tsa.seasonal import seasonal_decompose\n",
    "from statsmodels.tsa.holtwinters import SimpleExpSmoothing, Holt, ExponentialSmoothing\n",
    "from sklearn.metrics import mean_squared_error, mean_absolute_error\n"
   ]
  },
  {
   "cell_type": "code",
   "execution_count": null,
   "id": "ee0feb89",
   "metadata": {},
   "outputs": [],
   "source": [
    "for i in range(len(country)):\n",
    "                if country[i] == 'Brasil':\n",
    "                    dataframe = read_csv('datasets/countries/casos_covid19_brazil.csv', usecols=[1], engine='python')\n",
    "                    dataset = dataframe.values\n",
    "                    dataset = dataset.astype('float32')\n",
    "                if country[i] == 'Índia':\n",
    "                    dataframe = read_csv('datasets/countries/casos_covid19_india.csv', usecols=[1], engine='python')\n",
    "                    dataset = dataframe.values\n",
    "                    dataset = dataset.astype('float32')\n",
    "                if country[i] == 'Itália':\n",
    "                    dataframe = read_csv('datasets/countries/casos_covid19_italy.csv', usecols=[1], engine='python')\n",
    "                    dataset = dataframe.values\n",
    "                    dataset = dataset.astype('float32')\n",
    "                if country[i] == 'EUA':\n",
    "                    dataframe = read_csv('datasets/countries/casos_covid19_us.csv', usecols=[1], engine='python')\n",
    "                    dataset = dataframe.values\n",
    "                    dataset = dataset.astype('float32')"
   ]
  }
 ],
 "metadata": {
  "kernelspec": {
   "display_name": "Python 3 (ipykernel)",
   "language": "python",
   "name": "python3"
  },
  "language_info": {
   "codemirror_mode": {
    "name": "ipython",
    "version": 3
   },
   "file_extension": ".py",
   "mimetype": "text/x-python",
   "name": "python",
   "nbconvert_exporter": "python",
   "pygments_lexer": "ipython3",
   "version": "3.8.11"
  }
 },
 "nbformat": 4,
 "nbformat_minor": 5
}
