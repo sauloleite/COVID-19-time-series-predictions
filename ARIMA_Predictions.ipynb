{
 "cells": [
  {
   "cell_type": "markdown",
   "metadata": {},
   "source": [
    "# AutoARIMA em Python (BIBLIOTECA *PMDARIMA*)\n",
    "\n",
    "Uma das metodologias mais conhecidas em séries temporais é a Box-Jenkins, que são um conjunto de procedimentos que são realizados em uma certa sequência até encontramos o melhor modelo ARIMA. Porém, ao invés de realizarmos as etapas dessa metodologia, podemos escolher o modelo de forma automática e para isso existe a função auto.arima que é muito usada no software estatístico R. \n",
    "\n",
    "O objetivo desse pequeno projeto é usar o autoarima do pacote pmdarima (que não é um pacote muito conhecido do python) para previsão de séries temporais. Uma das vantagens do autoarima é que não é necessário interpretar as funções de autocorrelação e autocorrelação parcial para escolher o parâmetros p, P, d, D, q e Q. Podemos definí-los e o autoarima irá fazer as combinações desses parâmetros e gerará os AIC's e escolhe-se então o modelo de menor AIC.\n",
    "\n",
    "Usaremos uma base de dados de uma série temporal de consumo de energia elétrica que pode ser obtida [aqui](https://www.kaggle.com/zero101010/consumo-eletricocsv). A série tem periodicidade mensal e vai do ano de 1985 até o ano de 2017.\n",
    "\n",
    "## Importando das bibliotecas"
   ]
  },
  {
   "cell_type": "code",
   "execution_count": 29,
   "metadata": {},
   "outputs": [],
   "source": [
    "import pandas as pd\n",
    "import numpy as np\n",
    "import seaborn as sns\n",
    "from sklearn.metrics import mean_squared_error\n",
    "from statsmodels.stats.stattools import jarque_bera\n",
    "import matplotlib.pyplot as plt\n",
    "%matplotlib inline\n",
    "\n",
    "from pmdarima.arima import auto_arima"
   ]
  },
  {
   "cell_type": "code",
   "execution_count": 30,
   "metadata": {},
   "outputs": [],
   "source": [
    "from matplotlib.pyplot import rcParams\n",
    "rcParams['figure.figsize']=15,6"
   ]
  },
  {
   "cell_type": "markdown",
   "metadata": {},
   "source": [
    "## Importando da base de dados\n",
    "\n",
    "Irei colocar os dados indexados no formato de tempo correto."
   ]
  },
  {
   "cell_type": "code",
   "execution_count": 3,
   "metadata": {},
   "outputs": [],
   "source": [
    "dateparse= lambda dates:pd.datetime.strptime(dates,'%m-%d-%Y')"
   ]
  },
  {
   "cell_type": "markdown",
   "metadata": {},
   "source": [
    "Importando os dados."
   ]
  },
  {
   "cell_type": "code",
   "execution_count": 4,
   "metadata": {},
   "outputs": [
    {
     "name": "stderr",
     "output_type": "stream",
     "text": [
      "C:\\Users\\saulo\\AppData\\Local\\Temp/ipykernel_15900/2418055997.py:1: FutureWarning: The pandas.datetime class is deprecated and will be removed from pandas in a future version. Import from datetime module instead.\n",
      "  dateparse= lambda dates:pd.datetime.strptime(dates,'%m-%d-%Y')\n"
     ]
    }
   ],
   "source": [
    "data=pd.read_csv('datasets/countries/casos_covid19_brazil_d.csv',parse_dates=['date'],index_col='date',date_parser=dateparse)"
   ]
  },
  {
   "cell_type": "markdown",
   "metadata": {},
   "source": [
    "Visualizando a base de dados."
   ]
  },
  {
   "cell_type": "code",
   "execution_count": 5,
   "metadata": {},
   "outputs": [
    {
     "data": {
      "text/html": [
       "<div>\n",
       "<style scoped>\n",
       "    .dataframe tbody tr th:only-of-type {\n",
       "        vertical-align: middle;\n",
       "    }\n",
       "\n",
       "    .dataframe tbody tr th {\n",
       "        vertical-align: top;\n",
       "    }\n",
       "\n",
       "    .dataframe thead th {\n",
       "        text-align: right;\n",
       "    }\n",
       "</style>\n",
       "<table border=\"1\" class=\"dataframe\">\n",
       "  <thead>\n",
       "    <tr style=\"text-align: right;\">\n",
       "      <th></th>\n",
       "      <th>Brazil</th>\n",
       "    </tr>\n",
       "    <tr>\n",
       "      <th>date</th>\n",
       "      <th></th>\n",
       "    </tr>\n",
       "  </thead>\n",
       "  <tbody>\n",
       "    <tr>\n",
       "      <th>2020-02-26</th>\n",
       "      <td>1.0</td>\n",
       "    </tr>\n",
       "    <tr>\n",
       "      <th>2020-02-27</th>\n",
       "      <td>1.0</td>\n",
       "    </tr>\n",
       "    <tr>\n",
       "      <th>2020-02-28</th>\n",
       "      <td>1.0</td>\n",
       "    </tr>\n",
       "    <tr>\n",
       "      <th>2020-02-29</th>\n",
       "      <td>2.0</td>\n",
       "    </tr>\n",
       "    <tr>\n",
       "      <th>2020-03-01</th>\n",
       "      <td>2.0</td>\n",
       "    </tr>\n",
       "    <tr>\n",
       "      <th>2020-03-02</th>\n",
       "      <td>2.0</td>\n",
       "    </tr>\n",
       "    <tr>\n",
       "      <th>2020-03-03</th>\n",
       "      <td>2.0</td>\n",
       "    </tr>\n",
       "    <tr>\n",
       "      <th>2020-03-04</th>\n",
       "      <td>4.0</td>\n",
       "    </tr>\n",
       "    <tr>\n",
       "      <th>2020-03-05</th>\n",
       "      <td>4.0</td>\n",
       "    </tr>\n",
       "    <tr>\n",
       "      <th>2020-03-06</th>\n",
       "      <td>13.0</td>\n",
       "    </tr>\n",
       "  </tbody>\n",
       "</table>\n",
       "</div>"
      ],
      "text/plain": [
       "            Brazil\n",
       "date              \n",
       "2020-02-26     1.0\n",
       "2020-02-27     1.0\n",
       "2020-02-28     1.0\n",
       "2020-02-29     2.0\n",
       "2020-03-01     2.0\n",
       "2020-03-02     2.0\n",
       "2020-03-03     2.0\n",
       "2020-03-04     4.0\n",
       "2020-03-05     4.0\n",
       "2020-03-06    13.0"
      ]
     },
     "execution_count": 5,
     "metadata": {},
     "output_type": "execute_result"
    }
   ],
   "source": [
    "data.head(10)"
   ]
  },
  {
   "cell_type": "markdown",
   "metadata": {},
   "source": [
    "Últimas observações da série."
   ]
  },
  {
   "cell_type": "code",
   "execution_count": 6,
   "metadata": {},
   "outputs": [
    {
     "data": {
      "text/html": [
       "<div>\n",
       "<style scoped>\n",
       "    .dataframe tbody tr th:only-of-type {\n",
       "        vertical-align: middle;\n",
       "    }\n",
       "\n",
       "    .dataframe tbody tr th {\n",
       "        vertical-align: top;\n",
       "    }\n",
       "\n",
       "    .dataframe thead th {\n",
       "        text-align: right;\n",
       "    }\n",
       "</style>\n",
       "<table border=\"1\" class=\"dataframe\">\n",
       "  <thead>\n",
       "    <tr style=\"text-align: right;\">\n",
       "      <th></th>\n",
       "      <th>Brazil</th>\n",
       "    </tr>\n",
       "    <tr>\n",
       "      <th>date</th>\n",
       "      <th></th>\n",
       "    </tr>\n",
       "  </thead>\n",
       "  <tbody>\n",
       "    <tr>\n",
       "      <th>2021-12-11</th>\n",
       "      <td>22177059.0</td>\n",
       "    </tr>\n",
       "    <tr>\n",
       "      <th>2021-12-12</th>\n",
       "      <td>22177059.0</td>\n",
       "    </tr>\n",
       "    <tr>\n",
       "      <th>2021-12-13</th>\n",
       "      <td>22177059.0</td>\n",
       "    </tr>\n",
       "    <tr>\n",
       "      <th>2021-12-14</th>\n",
       "      <td>22195775.0</td>\n",
       "    </tr>\n",
       "    <tr>\n",
       "      <th>2021-12-15</th>\n",
       "      <td>22201221.0</td>\n",
       "    </tr>\n",
       "    <tr>\n",
       "      <th>2021-12-16</th>\n",
       "      <td>22201221.0</td>\n",
       "    </tr>\n",
       "    <tr>\n",
       "      <th>2021-12-17</th>\n",
       "      <td>22204941.0</td>\n",
       "    </tr>\n",
       "    <tr>\n",
       "      <th>2021-12-18</th>\n",
       "      <td>22204941.0</td>\n",
       "    </tr>\n",
       "    <tr>\n",
       "      <th>2021-12-19</th>\n",
       "      <td>22213762.0</td>\n",
       "    </tr>\n",
       "    <tr>\n",
       "      <th>2021-12-20</th>\n",
       "      <td>22215856.0</td>\n",
       "    </tr>\n",
       "  </tbody>\n",
       "</table>\n",
       "</div>"
      ],
      "text/plain": [
       "                Brazil\n",
       "date                  \n",
       "2021-12-11  22177059.0\n",
       "2021-12-12  22177059.0\n",
       "2021-12-13  22177059.0\n",
       "2021-12-14  22195775.0\n",
       "2021-12-15  22201221.0\n",
       "2021-12-16  22201221.0\n",
       "2021-12-17  22204941.0\n",
       "2021-12-18  22204941.0\n",
       "2021-12-19  22213762.0\n",
       "2021-12-20  22215856.0"
      ]
     },
     "execution_count": 6,
     "metadata": {},
     "output_type": "execute_result"
    }
   ],
   "source": [
    "data.tail(10)"
   ]
  },
  {
   "cell_type": "markdown",
   "metadata": {},
   "source": [
    "Dimensão da base de dados : tempos 1 coluna com 397 observações."
   ]
  },
  {
   "cell_type": "code",
   "execution_count": 7,
   "metadata": {},
   "outputs": [
    {
     "data": {
      "text/plain": [
       "(664, 1)"
      ]
     },
     "execution_count": 7,
     "metadata": {},
     "output_type": "execute_result"
    }
   ],
   "source": [
    "data.shape"
   ]
  },
  {
   "cell_type": "markdown",
   "metadata": {},
   "source": [
    "Informações sobre a base de dados."
   ]
  },
  {
   "cell_type": "code",
   "execution_count": 8,
   "metadata": {},
   "outputs": [
    {
     "name": "stdout",
     "output_type": "stream",
     "text": [
      "<class 'pandas.core.frame.DataFrame'>\n",
      "DatetimeIndex: 664 entries, 2020-02-26 to 2021-12-20\n",
      "Data columns (total 1 columns):\n",
      " #   Column  Non-Null Count  Dtype  \n",
      "---  ------  --------------  -----  \n",
      " 0   Brazil  664 non-null    float64\n",
      "dtypes: float64(1)\n",
      "memory usage: 10.4 KB\n"
     ]
    }
   ],
   "source": [
    "data.info()"
   ]
  },
  {
   "cell_type": "markdown",
   "metadata": {},
   "source": [
    "Abaixo podemos ver a tabela estatística."
   ]
  },
  {
   "cell_type": "code",
   "execution_count": 9,
   "metadata": {},
   "outputs": [
    {
     "data": {
      "text/html": [
       "<div>\n",
       "<style scoped>\n",
       "    .dataframe tbody tr th:only-of-type {\n",
       "        vertical-align: middle;\n",
       "    }\n",
       "\n",
       "    .dataframe tbody tr th {\n",
       "        vertical-align: top;\n",
       "    }\n",
       "\n",
       "    .dataframe thead th {\n",
       "        text-align: right;\n",
       "    }\n",
       "</style>\n",
       "<table border=\"1\" class=\"dataframe\">\n",
       "  <thead>\n",
       "    <tr style=\"text-align: right;\">\n",
       "      <th></th>\n",
       "      <th>Brazil</th>\n",
       "    </tr>\n",
       "  </thead>\n",
       "  <tbody>\n",
       "    <tr>\n",
       "      <th>count</th>\n",
       "      <td>6.640000e+02</td>\n",
       "    </tr>\n",
       "    <tr>\n",
       "      <th>mean</th>\n",
       "      <td>1.031810e+07</td>\n",
       "    </tr>\n",
       "    <tr>\n",
       "      <th>std</th>\n",
       "      <td>7.975169e+06</td>\n",
       "    </tr>\n",
       "    <tr>\n",
       "      <th>min</th>\n",
       "      <td>1.000000e+00</td>\n",
       "    </tr>\n",
       "    <tr>\n",
       "      <th>25%</th>\n",
       "      <td>3.051958e+06</td>\n",
       "    </tr>\n",
       "    <tr>\n",
       "      <th>50%</th>\n",
       "      <td>8.785087e+06</td>\n",
       "    </tr>\n",
       "    <tr>\n",
       "      <th>75%</th>\n",
       "      <td>1.892247e+07</td>\n",
       "    </tr>\n",
       "    <tr>\n",
       "      <th>max</th>\n",
       "      <td>2.221586e+07</td>\n",
       "    </tr>\n",
       "  </tbody>\n",
       "</table>\n",
       "</div>"
      ],
      "text/plain": [
       "             Brazil\n",
       "count  6.640000e+02\n",
       "mean   1.031810e+07\n",
       "std    7.975169e+06\n",
       "min    1.000000e+00\n",
       "25%    3.051958e+06\n",
       "50%    8.785087e+06\n",
       "75%    1.892247e+07\n",
       "max    2.221586e+07"
      ]
     },
     "execution_count": 9,
     "metadata": {},
     "output_type": "execute_result"
    }
   ],
   "source": [
    "data.describe()"
   ]
  },
  {
   "cell_type": "markdown",
   "metadata": {},
   "source": [
    "Por fim, vamos visualizar graficamente a base de dados.\n",
    "\n",
    "Vemos que ela tem uma tendência, vai subindo e ao final se estabiliza e também deve-se notar a forte presença de saznalidade."
   ]
  },
  {
   "cell_type": "code",
   "execution_count": 10,
   "metadata": {},
   "outputs": [
    {
     "data": {
      "image/png": "[encoded data removed]",
      "text/plain": [
       "<Figure size 1080x432 with 1 Axes>"
      ]
     },
     "metadata": {
      "needs_background": "light"
     },
     "output_type": "display_data"
    }
   ],
   "source": [
    "data.plot()\n",
    "plt.xlabel('Meses',size=15)\n",
    "plt.ylabel('')\n",
    "plt.title('Casos de COVID no Brasil',size=15)\n",
    "plt.show()"
   ]
  },
  {
   "cell_type": "markdown",
   "metadata": {},
   "source": [
    "## Aplicando o AutoARIMA\n",
    "\n",
    "Escolherei os parâmetros *p, d, q, P, D* e *Q*:\n",
    "\n",
    "1) o *p* vai variar entre 1 e 6;\n",
    "\n",
    "2) o *q* vai variar entre 1 e 6;\n",
    "\n",
    "3) a sazonalidade será mensal (m=12);\n",
    "\n",
    "4) o *P* iniciará em 0 e o máximo, por padrão, será 2;\n",
    "\n",
    "5) o *Q* por padrão será 1 e o máximo, por padrão, será 2;\n",
    "\n",
    "6) o *d* será 1 e o máximo, por padrão, será 2;\n",
    "\n",
    "7) o *D* será 1, por padrão já é 1.\n",
    "\n",
    "Vamos agora aplicar o processamento do *autoARIMA*.\n",
    "\n",
    "Vamos atribuir a uma variável o *autoARIMA*, que gerará vários modelos ARIMA e os seus respectivos AIC's e BICS (critérios de informação)."
   ]
  },
  {
   "cell_type": "code",
   "execution_count": 11,
   "metadata": {},
   "outputs": [
    {
     "name": "stdout",
     "output_type": "stream",
     "text": [
      "Performing stepwise search to minimize aic\n",
      " ARIMA(1,1,1)(0,1,1)[12]             : AIC=14671.413, Time=0.50 sec\n",
      " ARIMA(0,1,0)(0,1,0)[12]             : AIC=14973.038, Time=0.04 sec\n",
      " ARIMA(1,1,0)(1,1,0)[12]             : AIC=14778.475, Time=0.20 sec\n",
      " ARIMA(0,1,1)(0,1,1)[12]             : AIC=14687.898, Time=0.24 sec\n",
      " ARIMA(1,1,1)(0,1,0)[12]             : AIC=14912.206, Time=0.12 sec\n",
      " ARIMA(1,1,1)(1,1,1)[12]             : AIC=inf, Time=1.73 sec\n",
      " ARIMA(1,1,1)(0,1,2)[12]             : AIC=inf, Time=5.61 sec\n",
      " ARIMA(1,1,1)(1,1,0)[12]             : AIC=14769.226, Time=0.45 sec\n",
      " ARIMA(1,1,1)(1,1,2)[12]             : AIC=inf, Time=7.79 sec\n",
      " ARIMA(1,1,0)(0,1,1)[12]             : AIC=14669.510, Time=0.36 sec\n",
      " ARIMA(1,1,0)(0,1,0)[12]             : AIC=14926.255, Time=0.05 sec\n",
      " ARIMA(1,1,0)(1,1,1)[12]             : AIC=14663.837, Time=0.44 sec\n",
      " ARIMA(1,1,0)(2,1,1)[12]             : AIC=14654.341, Time=1.36 sec\n",
      " ARIMA(1,1,0)(2,1,0)[12]             : AIC=14677.778, Time=0.82 sec\n",
      " ARIMA(1,1,0)(2,1,2)[12]             : AIC=14655.258, Time=1.90 sec\n",
      " ARIMA(1,1,0)(1,1,2)[12]             : AIC=14661.095, Time=2.38 sec\n",
      " ARIMA(0,1,0)(2,1,1)[12]             : AIC=14665.477, Time=0.81 sec\n",
      " ARIMA(2,1,0)(2,1,1)[12]             : AIC=14637.451, Time=1.74 sec\n",
      " ARIMA(2,1,0)(1,1,1)[12]             : AIC=14651.471, Time=0.70 sec\n",
      " ARIMA(2,1,0)(2,1,0)[12]             : AIC=14666.788, Time=1.09 sec\n",
      " ARIMA(2,1,0)(2,1,2)[12]             : AIC=14638.825, Time=2.41 sec\n",
      " ARIMA(2,1,0)(1,1,0)[12]             : AIC=14746.329, Time=0.39 sec\n",
      " ARIMA(2,1,0)(1,1,2)[12]             : AIC=14648.067, Time=3.18 sec\n",
      " ARIMA(3,1,0)(2,1,1)[12]             : AIC=14620.346, Time=3.28 sec\n",
      " ARIMA(3,1,0)(1,1,1)[12]             : AIC=14647.046, Time=0.95 sec\n",
      " ARIMA(3,1,0)(2,1,0)[12]             : AIC=14661.909, Time=1.60 sec\n",
      " ARIMA(3,1,0)(2,1,2)[12]             : AIC=14621.500, Time=4.73 sec\n",
      " ARIMA(3,1,0)(1,1,0)[12]             : AIC=14704.504, Time=0.52 sec\n",
      " ARIMA(3,1,0)(1,1,2)[12]             : AIC=14643.276, Time=3.94 sec\n",
      " ARIMA(4,1,0)(2,1,1)[12]             : AIC=14591.182, Time=4.47 sec\n",
      " ARIMA(4,1,0)(1,1,1)[12]             : AIC=inf, Time=1.43 sec\n",
      " ARIMA(4,1,0)(2,1,0)[12]             : AIC=14658.089, Time=2.44 sec\n",
      " ARIMA(4,1,0)(2,1,2)[12]             : AIC=inf, Time=5.18 sec\n",
      " ARIMA(4,1,0)(1,1,0)[12]             : AIC=14698.641, Time=0.75 sec\n",
      " ARIMA(4,1,0)(1,1,2)[12]             : AIC=inf, Time=5.46 sec\n",
      " ARIMA(5,1,0)(2,1,1)[12]             : AIC=inf, Time=5.58 sec\n",
      " ARIMA(4,1,1)(2,1,1)[12]             : AIC=inf, Time=12.83 sec\n",
      " ARIMA(3,1,1)(2,1,1)[12]             : AIC=inf, Time=6.95 sec\n",
      " ARIMA(5,1,1)(2,1,1)[12]             : AIC=14582.310, Time=10.04 sec\n",
      " ARIMA(5,1,1)(1,1,1)[12]             : AIC=inf, Time=2.92 sec\n",
      " ARIMA(5,1,1)(2,1,0)[12]             : AIC=14562.576, Time=8.03 sec\n",
      " ARIMA(5,1,1)(1,1,0)[12]             : AIC=14609.130, Time=2.31 sec\n",
      " ARIMA(4,1,1)(2,1,0)[12]             : AIC=14607.593, Time=7.56 sec\n",
      " ARIMA(5,1,0)(2,1,0)[12]             : AIC=14643.341, Time=3.25 sec\n",
      " ARIMA(6,1,1)(2,1,0)[12]             : AIC=14497.032, Time=5.21 sec\n",
      " ARIMA(6,1,1)(1,1,0)[12]             : AIC=14534.233, Time=2.05 sec\n",
      " ARIMA(6,1,1)(2,1,1)[12]             : AIC=inf, Time=10.90 sec\n",
      " ARIMA(6,1,1)(1,1,1)[12]             : AIC=inf, Time=4.11 sec\n",
      " ARIMA(6,1,0)(2,1,0)[12]             : AIC=14563.409, Time=3.47 sec\n",
      " ARIMA(6,1,2)(2,1,0)[12]             : AIC=14439.329, Time=15.28 sec\n",
      " ARIMA(6,1,2)(1,1,0)[12]             : AIC=14457.838, Time=5.39 sec\n",
      " ARIMA(6,1,2)(2,1,1)[12]             : AIC=inf, Time=15.72 sec\n",
      " ARIMA(6,1,2)(1,1,1)[12]             : AIC=inf, Time=5.85 sec\n",
      " ARIMA(5,1,2)(2,1,0)[12]             : AIC=14527.489, Time=13.83 sec\n",
      " ARIMA(6,1,3)(2,1,0)[12]             : AIC=14335.650, Time=15.79 sec\n",
      " ARIMA(6,1,3)(1,1,0)[12]             : AIC=14397.226, Time=5.12 sec\n",
      " ARIMA(6,1,3)(2,1,1)[12]             : AIC=inf, Time=15.92 sec\n",
      " ARIMA(6,1,3)(1,1,1)[12]             : AIC=inf, Time=6.23 sec\n",
      " ARIMA(5,1,3)(2,1,0)[12]             : AIC=14457.329, Time=14.39 sec\n",
      " ARIMA(6,1,4)(2,1,0)[12]             : AIC=14358.119, Time=15.44 sec\n",
      " ARIMA(5,1,4)(2,1,0)[12]             : AIC=14430.570, Time=13.98 sec\n",
      " ARIMA(6,1,3)(2,1,0)[12] intercept   : AIC=14337.066, Time=14.89 sec\n",
      "\n",
      "Best model:  ARIMA(6,1,3)(2,1,0)[12]          \n",
      "Total fit time: 312.134 seconds\n"
     ]
    }
   ],
   "source": [
    "stepwise=auto_arima(data,start_p=1,start_q=1,max_p=6,max_q=6,m=12,start_P=0,seasonal=True,d=1,D=1,trace=True,\n",
    "                    error_action='ignore',suppress_warnings=True,stepwise=True)"
   ]
  },
  {
   "cell_type": "markdown",
   "metadata": {},
   "source": [
    "O modelo que foi gerado é um *SARIMA*(1,1,1)x(2,1,2,12)."
   ]
  },
  {
   "cell_type": "code",
   "execution_count": 31,
   "metadata": {},
   "outputs": [
    {
     "data": {
      "text/plain": [
       "ARIMA(order=(6, 1, 3), scoring_args={}, seasonal_order=(2, 1, 0, 12),\n",
       "      suppress_warnings=True, with_intercept=False)"
      ]
     },
     "execution_count": 31,
     "metadata": {},
     "output_type": "execute_result"
    }
   ],
   "source": [
    "stepwise"
   ]
  },
  {
   "cell_type": "markdown",
   "metadata": {},
   "source": [
    "Esse foi o model com menor *AIC* gerado."
   ]
  },
  {
   "cell_type": "code",
   "execution_count": 32,
   "metadata": {},
   "outputs": [
    {
     "data": {
      "text/plain": [
       "9399.841787524281"
      ]
     },
     "execution_count": 32,
     "metadata": {},
     "output_type": "execute_result"
    }
   ],
   "source": [
    "stepwise.aic()"
   ]
  },
  {
   "cell_type": "markdown",
   "metadata": {},
   "source": [
    "Podemos gerar ainda mais modelos colocando o parâmetro *stepwise* com *False*."
   ]
  },
  {
   "cell_type": "code",
   "execution_count": 14,
   "metadata": {},
   "outputs": [
    {
     "name": "stdout",
     "output_type": "stream",
     "text": [
      " ARIMA(0,1,0)(0,1,0)[12]             : AIC=14973.038, Time=0.03 sec\n",
      " ARIMA(0,1,0)(0,1,1)[12]             : AIC=14767.914, Time=0.22 sec\n",
      " ARIMA(0,1,0)(0,1,2)[12]             : AIC=14772.830, Time=0.61 sec\n",
      " ARIMA(0,1,0)(1,1,0)[12]             : AIC=14860.912, Time=0.16 sec\n",
      " ARIMA(0,1,0)(1,1,1)[12]             : AIC=14757.160, Time=0.35 sec\n",
      " ARIMA(0,1,0)(1,1,2)[12]             : AIC=14756.646, Time=2.02 sec\n",
      " ARIMA(0,1,0)(2,1,0)[12]             : AIC=14673.181, Time=0.48 sec\n",
      " ARIMA(0,1,0)(2,1,1)[12]             : AIC=14665.477, Time=0.72 sec\n",
      " ARIMA(0,1,0)(2,1,2)[12]             : AIC=14635.357, Time=1.58 sec\n",
      " ARIMA(0,1,1)(0,1,0)[12]             : AIC=14910.354, Time=0.10 sec\n",
      " ARIMA(0,1,1)(0,1,1)[12]             : AIC=14687.898, Time=0.30 sec\n",
      " ARIMA(0,1,1)(0,1,2)[12]             : AIC=14682.442, Time=0.80 sec\n",
      " ARIMA(0,1,1)(1,1,0)[12]             : AIC=14772.916, Time=0.27 sec\n",
      " ARIMA(0,1,1)(1,1,1)[12]             : AIC=14685.930, Time=0.46 sec\n",
      " ARIMA(0,1,1)(1,1,2)[12]             : AIC=14680.310, Time=2.43 sec\n",
      " ARIMA(0,1,1)(2,1,0)[12]             : AIC=14682.486, Time=0.87 sec\n",
      " ARIMA(0,1,1)(2,1,1)[12]             : AIC=14669.548, Time=1.22 sec\n",
      " ARIMA(0,1,1)(2,1,2)[12]             : AIC=14666.164, Time=1.72 sec\n",
      " ARIMA(0,1,2)(0,1,0)[12]             : AIC=14912.674, Time=0.15 sec\n",
      " ARIMA(0,1,2)(0,1,1)[12]             : AIC=14680.306, Time=0.41 sec\n",
      " ARIMA(0,1,2)(0,1,2)[12]             : AIC=14670.336, Time=1.18 sec\n",
      " ARIMA(0,1,2)(1,1,0)[12]             : AIC=14765.425, Time=0.43 sec\n",
      " ARIMA(0,1,2)(1,1,1)[12]             : AIC=14673.870, Time=0.62 sec\n",
      " ARIMA(0,1,2)(1,1,2)[12]             : AIC=14671.270, Time=2.68 sec\n",
      " ARIMA(0,1,2)(2,1,0)[12]             : AIC=14685.929, Time=1.03 sec\n",
      " ARIMA(0,1,2)(2,1,1)[12]             : AIC=14667.295, Time=1.41 sec\n",
      " ARIMA(0,1,3)(0,1,0)[12]             : AIC=14881.485, Time=0.18 sec\n",
      " ARIMA(0,1,3)(0,1,1)[12]             : AIC=14695.730, Time=0.62 sec\n",
      " ARIMA(0,1,3)(0,1,2)[12]             : AIC=14685.768, Time=1.46 sec\n",
      " ARIMA(0,1,3)(1,1,0)[12]             : AIC=14766.376, Time=0.46 sec\n",
      " ARIMA(0,1,3)(1,1,1)[12]             : AIC=14689.180, Time=0.80 sec\n",
      " ARIMA(0,1,3)(2,1,0)[12]             : AIC=14700.768, Time=1.22 sec\n",
      " ARIMA(0,1,4)(0,1,0)[12]             : AIC=14884.710, Time=0.35 sec\n",
      " ARIMA(0,1,4)(0,1,1)[12]             : AIC=14695.826, Time=1.13 sec\n",
      " ARIMA(0,1,4)(1,1,0)[12]             : AIC=14766.891, Time=0.56 sec\n",
      " ARIMA(0,1,5)(0,1,0)[12]             : AIC=14859.345, Time=0.59 sec\n",
      " ARIMA(1,1,0)(0,1,0)[12]             : AIC=14926.255, Time=0.03 sec\n",
      " ARIMA(1,1,0)(0,1,1)[12]             : AIC=14669.510, Time=0.30 sec\n",
      " ARIMA(1,1,0)(0,1,2)[12]             : AIC=14660.438, Time=0.89 sec\n",
      " ARIMA(1,1,0)(1,1,0)[12]             : AIC=14778.475, Time=0.27 sec\n",
      " ARIMA(1,1,0)(1,1,1)[12]             : AIC=14663.837, Time=0.43 sec\n",
      " ARIMA(1,1,0)(1,1,2)[12]             : AIC=14661.095, Time=2.27 sec\n",
      " ARIMA(1,1,0)(2,1,0)[12]             : AIC=14677.778, Time=0.82 sec\n",
      " ARIMA(1,1,0)(2,1,1)[12]             : AIC=14654.341, Time=1.43 sec\n",
      " ARIMA(1,1,0)(2,1,2)[12]             : AIC=14655.258, Time=1.95 sec\n",
      " ARIMA(1,1,1)(0,1,0)[12]             : AIC=14912.206, Time=0.19 sec\n",
      " ARIMA(1,1,1)(0,1,1)[12]             : AIC=14671.413, Time=0.57 sec\n",
      " ARIMA(1,1,1)(0,1,2)[12]             : AIC=inf, Time=6.09 sec\n",
      " ARIMA(1,1,1)(1,1,0)[12]             : AIC=14769.226, Time=0.49 sec\n",
      " ARIMA(1,1,1)(1,1,1)[12]             : AIC=inf, Time=1.91 sec\n",
      " ARIMA(1,1,1)(1,1,2)[12]             : AIC=inf, Time=7.69 sec\n",
      " ARIMA(1,1,1)(2,1,0)[12]             : AIC=14679.728, Time=1.49 sec\n",
      " ARIMA(1,1,1)(2,1,1)[12]             : AIC=14581.809, Time=4.23 sec\n",
      " ARIMA(1,1,2)(0,1,0)[12]             : AIC=14898.965, Time=0.42 sec\n",
      " ARIMA(1,1,2)(0,1,1)[12]             : AIC=inf, Time=1.33 sec\n",
      " ARIMA(1,1,2)(0,1,2)[12]             : AIC=14458.351, Time=6.88 sec\n",
      " ARIMA(1,1,2)(1,1,0)[12]             : AIC=14762.295, Time=1.04 sec\n",
      " ARIMA(1,1,2)(1,1,1)[12]             : AIC=inf, Time=1.97 sec\n",
      " ARIMA(1,1,2)(2,1,0)[12]             : AIC=14634.158, Time=3.10 sec\n",
      " ARIMA(1,1,3)(0,1,0)[12]             : AIC=14874.902, Time=0.53 sec\n",
      " ARIMA(1,1,3)(0,1,1)[12]             : AIC=inf, Time=1.48 sec\n",
      " ARIMA(1,1,3)(1,1,0)[12]             : AIC=14735.269, Time=1.10 sec\n",
      " ARIMA(1,1,4)(0,1,0)[12]             : AIC=14835.825, Time=1.08 sec\n",
      " ARIMA(2,1,0)(0,1,0)[12]             : AIC=14893.058, Time=0.06 sec\n",
      " ARIMA(2,1,0)(0,1,1)[12]             : AIC=14657.954, Time=0.51 sec\n",
      " ARIMA(2,1,0)(0,1,2)[12]             : AIC=14647.390, Time=1.72 sec\n",
      " ARIMA(2,1,0)(1,1,0)[12]             : AIC=14746.329, Time=0.44 sec\n",
      " ARIMA(2,1,0)(1,1,1)[12]             : AIC=14651.471, Time=0.70 sec\n",
      " ARIMA(2,1,0)(1,1,2)[12]             : AIC=14648.067, Time=3.07 sec\n",
      " ARIMA(2,1,0)(2,1,0)[12]             : AIC=14666.788, Time=1.21 sec\n",
      " ARIMA(2,1,0)(2,1,1)[12]             : AIC=14637.451, Time=1.99 sec\n",
      " ARIMA(2,1,1)(0,1,0)[12]             : AIC=14871.768, Time=0.30 sec\n",
      " ARIMA(2,1,1)(0,1,1)[12]             : AIC=inf, Time=2.33 sec\n",
      " ARIMA(2,1,1)(0,1,2)[12]             : AIC=inf, Time=6.43 sec\n",
      " ARIMA(2,1,1)(1,1,0)[12]             : AIC=14723.779, Time=0.69 sec\n",
      " ARIMA(2,1,1)(1,1,1)[12]             : AIC=inf, Time=2.74 sec\n",
      " ARIMA(2,1,1)(2,1,0)[12]             : AIC=14635.695, Time=3.31 sec\n",
      " ARIMA(2,1,2)(0,1,0)[12]             : AIC=14677.249, Time=0.96 sec\n",
      " ARIMA(2,1,2)(0,1,1)[12]             : AIC=inf, Time=2.73 sec\n",
      " ARIMA(2,1,2)(1,1,0)[12]             : AIC=14546.581, Time=2.53 sec\n",
      " ARIMA(2,1,3)(0,1,0)[12]             : AIC=14655.925, Time=0.79 sec\n",
      " ARIMA(3,1,0)(0,1,0)[12]             : AIC=14877.329, Time=0.06 sec\n",
      " ARIMA(3,1,0)(0,1,1)[12]             : AIC=14653.296, Time=0.63 sec\n",
      " ARIMA(3,1,0)(0,1,2)[12]             : AIC=14642.760, Time=2.39 sec\n",
      " ARIMA(3,1,0)(1,1,0)[12]             : AIC=14704.504, Time=0.70 sec\n",
      " ARIMA(3,1,0)(1,1,1)[12]             : AIC=14647.046, Time=1.05 sec\n",
      " ARIMA(3,1,0)(2,1,0)[12]             : AIC=14661.909, Time=1.60 sec\n",
      " ARIMA(3,1,1)(0,1,0)[12]             : AIC=14868.185, Time=0.37 sec\n",
      " ARIMA(3,1,1)(0,1,1)[12]             : AIC=14655.867, Time=1.23 sec\n",
      " ARIMA(3,1,1)(1,1,0)[12]             : AIC=14705.157, Time=0.77 sec\n",
      " ARIMA(3,1,2)(0,1,0)[12]             : AIC=14663.394, Time=1.38 sec\n",
      " ARIMA(4,1,0)(0,1,0)[12]             : AIC=14862.513, Time=0.06 sec\n",
      " ARIMA(4,1,0)(0,1,1)[12]             : AIC=inf, Time=0.99 sec\n",
      " ARIMA(4,1,0)(1,1,0)[12]             : AIC=14698.641, Time=0.65 sec\n",
      " ARIMA(4,1,1)(0,1,0)[12]             : AIC=14859.957, Time=0.40 sec\n",
      " ARIMA(5,1,0)(0,1,0)[12]             : AIC=14837.156, Time=0.09 sec\n",
      "\n",
      "Best model:  ARIMA(1,1,2)(0,1,2)[12]          \n",
      "Total fit time: 124.692 seconds\n"
     ]
    }
   ],
   "source": [
    "stepwise1=auto_arima(data,start_p=1,start_q=1,max_p=6,max_q=6,m=12,start_P=0,seasonal=True,d=1,D=1,trace=True,\n",
    "                    error_action='ignore',suppress_warnings=True,stepwise=False)"
   ]
  },
  {
   "cell_type": "markdown",
   "metadata": {},
   "source": [
    "O modelo com menor *AIC* foi um pouco diferente do anterior, pois o componente sazonal *D* é 1 ao invés de 2."
   ]
  },
  {
   "cell_type": "code",
   "execution_count": 15,
   "metadata": {},
   "outputs": [
    {
     "data": {
      "text/plain": [
       "ARIMA(order=(1, 1, 2), scoring_args={}, seasonal_order=(0, 1, 2, 12),\n",
       "      suppress_warnings=True, with_intercept=False)"
      ]
     },
     "execution_count": 15,
     "metadata": {},
     "output_type": "execute_result"
    }
   ],
   "source": [
    "stepwise1"
   ]
  },
  {
   "cell_type": "markdown",
   "metadata": {},
   "source": [
    "O *AIC* desse modelo foi um pouco maior que o anterior."
   ]
  },
  {
   "cell_type": "code",
   "execution_count": 16,
   "metadata": {},
   "outputs": [
    {
     "data": {
      "text/plain": [
       "14458.35105614537"
      ]
     },
     "execution_count": 16,
     "metadata": {},
     "output_type": "execute_result"
    }
   ],
   "source": [
    "stepwise1.aic()"
   ]
  },
  {
   "cell_type": "markdown",
   "metadata": {},
   "source": [
    "## Separando os dados de treino e de teste\n",
    "\n",
    "Vamos agora usar o *autoARIMA* para gerar uma validação do modelo. Para isso iremos separar os dados em treino e teste. Os dados de treino serão usado para treinar o *autoARIMA* e os dados de teste para comparar com as preisões geradas. Vamos separar as 12 últimas observações para dados de teste.\n",
    "\n",
    "Irei colocar os dados de treino de janeiro de 1985 até janeiro de 2016 e os dados de teste será de fevereiro de 2016 em diante."
   ]
  },
  {
   "cell_type": "code",
   "execution_count": 21,
   "metadata": {},
   "outputs": [],
   "source": [
    "total = len(data)\n",
    "t = int(total*0.33)\n",
    "train=data.iloc[:-t]\n",
    "test=data.iloc[-t:]"
   ]
  },
  {
   "cell_type": "markdown",
   "metadata": {},
   "source": [
    "Vamos treinar os modelos que geramos."
   ]
  },
  {
   "cell_type": "code",
   "execution_count": 22,
   "metadata": {},
   "outputs": [
    {
     "data": {
      "text/plain": [
       "ARIMA(order=(1, 1, 2), scoring_args={}, seasonal_order=(0, 1, 2, 12),\n",
       "      suppress_warnings=True, with_intercept=False)"
      ]
     },
     "execution_count": 22,
     "metadata": {},
     "output_type": "execute_result"
    }
   ],
   "source": [
    "stepwise.fit(train)\n",
    "stepwise1.fit(train)"
   ]
  },
  {
   "cell_type": "markdown",
   "metadata": {},
   "source": [
    "Vamos gerar as previsões de cada modelo."
   ]
  },
  {
   "cell_type": "code",
   "execution_count": 57,
   "metadata": {},
   "outputs": [],
   "source": [
    "future_forecast=stepwise.predict(n_periods=len(test))\n",
    "future_forecast1=stepwise1.predict(n_periods=len(test))"
   ]
  },
  {
   "cell_type": "code",
   "execution_count": 58,
   "metadata": {},
   "outputs": [
    {
     "data": {
      "text/plain": [
       "[<matplotlib.lines.Line2D at 0x27288ccd310>]"
      ]
     },
     "execution_count": 58,
     "metadata": {},
     "output_type": "execute_result"
    },
    {
     "data": {
      "image/png": "[encoded data removed]",
      "text/plain": [
       "<Figure size 1080x432 with 1 Axes>"
      ]
     },
     "metadata": {
      "needs_background": "light"
     },
     "output_type": "display_data"
    }
   ],
   "source": [
    "plt.plot(future_forecast1)"
   ]
  },
  {
   "cell_type": "markdown",
   "metadata": {},
   "source": [
    "Transformando as previsões em um *dataframe*."
   ]
  },
  {
   "cell_type": "code",
   "execution_count": 59,
   "metadata": {},
   "outputs": [],
   "source": [
    "future_forecast=pd.DataFrame(future_forecast,index=test.index, columns=['previsão modelo 1'])\n",
    "future_forecast1=pd.DataFrame(future_forecast1,index=test.index, columns=['previsão modelo 2'])"
   ]
  },
  {
   "cell_type": "markdown",
   "metadata": {},
   "source": [
    "Visualizando o *dataset* de previsões."
   ]
  },
  {
   "cell_type": "code",
   "execution_count": 60,
   "metadata": {},
   "outputs": [
    {
     "data": {
      "text/html": [
       "<div>\n",
       "<style scoped>\n",
       "    .dataframe tbody tr th:only-of-type {\n",
       "        vertical-align: middle;\n",
       "    }\n",
       "\n",
       "    .dataframe tbody tr th {\n",
       "        vertical-align: top;\n",
       "    }\n",
       "\n",
       "    .dataframe thead th {\n",
       "        text-align: right;\n",
       "    }\n",
       "</style>\n",
       "<table border=\"1\" class=\"dataframe\">\n",
       "  <thead>\n",
       "    <tr style=\"text-align: right;\">\n",
       "      <th></th>\n",
       "      <th>previsão modelo 1</th>\n",
       "    </tr>\n",
       "    <tr>\n",
       "      <th>date</th>\n",
       "      <th></th>\n",
       "    </tr>\n",
       "  </thead>\n",
       "  <tbody>\n",
       "    <tr>\n",
       "      <th>2021-05-16</th>\n",
       "      <td>1.561977e+07</td>\n",
       "    </tr>\n",
       "    <tr>\n",
       "      <th>2021-05-17</th>\n",
       "      <td>1.566293e+07</td>\n",
       "    </tr>\n",
       "    <tr>\n",
       "      <th>2021-05-18</th>\n",
       "      <td>1.572763e+07</td>\n",
       "    </tr>\n",
       "    <tr>\n",
       "      <th>2021-05-19</th>\n",
       "      <td>1.580347e+07</td>\n",
       "    </tr>\n",
       "    <tr>\n",
       "      <th>2021-05-20</th>\n",
       "      <td>1.587674e+07</td>\n",
       "    </tr>\n",
       "    <tr>\n",
       "      <th>2021-05-21</th>\n",
       "      <td>1.595544e+07</td>\n",
       "    </tr>\n",
       "    <tr>\n",
       "      <th>2021-05-22</th>\n",
       "      <td>1.601668e+07</td>\n",
       "    </tr>\n",
       "    <tr>\n",
       "      <th>2021-05-23</th>\n",
       "      <td>1.606473e+07</td>\n",
       "    </tr>\n",
       "    <tr>\n",
       "      <th>2021-05-24</th>\n",
       "      <td>1.611025e+07</td>\n",
       "    </tr>\n",
       "    <tr>\n",
       "      <th>2021-05-25</th>\n",
       "      <td>1.616896e+07</td>\n",
       "    </tr>\n",
       "  </tbody>\n",
       "</table>\n",
       "</div>"
      ],
      "text/plain": [
       "            previsão modelo 1\n",
       "date                         \n",
       "2021-05-16       1.561977e+07\n",
       "2021-05-17       1.566293e+07\n",
       "2021-05-18       1.572763e+07\n",
       "2021-05-19       1.580347e+07\n",
       "2021-05-20       1.587674e+07\n",
       "2021-05-21       1.595544e+07\n",
       "2021-05-22       1.601668e+07\n",
       "2021-05-23       1.606473e+07\n",
       "2021-05-24       1.611025e+07\n",
       "2021-05-25       1.616896e+07"
      ]
     },
     "execution_count": 60,
     "metadata": {},
     "output_type": "execute_result"
    }
   ],
   "source": [
    "future_forecast.head(10)"
   ]
  },
  {
   "cell_type": "code",
   "execution_count": 61,
   "metadata": {},
   "outputs": [
    {
     "data": {
      "text/html": [
       "<div>\n",
       "<style scoped>\n",
       "    .dataframe tbody tr th:only-of-type {\n",
       "        vertical-align: middle;\n",
       "    }\n",
       "\n",
       "    .dataframe tbody tr th {\n",
       "        vertical-align: top;\n",
       "    }\n",
       "\n",
       "    .dataframe thead th {\n",
       "        text-align: right;\n",
       "    }\n",
       "</style>\n",
       "<table border=\"1\" class=\"dataframe\">\n",
       "  <thead>\n",
       "    <tr style=\"text-align: right;\">\n",
       "      <th></th>\n",
       "      <th>previsão modelo 2</th>\n",
       "    </tr>\n",
       "    <tr>\n",
       "      <th>date</th>\n",
       "      <th></th>\n",
       "    </tr>\n",
       "  </thead>\n",
       "  <tbody>\n",
       "    <tr>\n",
       "      <th>2021-05-16</th>\n",
       "      <td>1.564579e+07</td>\n",
       "    </tr>\n",
       "    <tr>\n",
       "      <th>2021-05-17</th>\n",
       "      <td>1.570868e+07</td>\n",
       "    </tr>\n",
       "    <tr>\n",
       "      <th>2021-05-18</th>\n",
       "      <td>1.577308e+07</td>\n",
       "    </tr>\n",
       "    <tr>\n",
       "      <th>2021-05-19</th>\n",
       "      <td>1.583715e+07</td>\n",
       "    </tr>\n",
       "    <tr>\n",
       "      <th>2021-05-20</th>\n",
       "      <td>1.589860e+07</td>\n",
       "    </tr>\n",
       "    <tr>\n",
       "      <th>2021-05-21</th>\n",
       "      <td>1.596551e+07</td>\n",
       "    </tr>\n",
       "    <tr>\n",
       "      <th>2021-05-22</th>\n",
       "      <td>1.603999e+07</td>\n",
       "    </tr>\n",
       "    <tr>\n",
       "      <th>2021-05-23</th>\n",
       "      <td>1.610233e+07</td>\n",
       "    </tr>\n",
       "    <tr>\n",
       "      <th>2021-05-24</th>\n",
       "      <td>1.616675e+07</td>\n",
       "    </tr>\n",
       "    <tr>\n",
       "      <th>2021-05-25</th>\n",
       "      <td>1.622403e+07</td>\n",
       "    </tr>\n",
       "  </tbody>\n",
       "</table>\n",
       "</div>"
      ],
      "text/plain": [
       "            previsão modelo 2\n",
       "date                         \n",
       "2021-05-16       1.564579e+07\n",
       "2021-05-17       1.570868e+07\n",
       "2021-05-18       1.577308e+07\n",
       "2021-05-19       1.583715e+07\n",
       "2021-05-20       1.589860e+07\n",
       "2021-05-21       1.596551e+07\n",
       "2021-05-22       1.603999e+07\n",
       "2021-05-23       1.610233e+07\n",
       "2021-05-24       1.616675e+07\n",
       "2021-05-25       1.622403e+07"
      ]
     },
     "execution_count": 61,
     "metadata": {},
     "output_type": "execute_result"
    }
   ],
   "source": [
    "future_forecast1.head(10)"
   ]
  },
  {
   "cell_type": "markdown",
   "metadata": {},
   "source": [
    "Comparando graficamente os valores reais com as previsões, vemos que os resultados das previsões parecem acompanhar bem o valores reais."
   ]
  },
  {
   "cell_type": "code",
   "execution_count": 62,
   "metadata": {},
   "outputs": [
    {
     "data": {
      "text/plain": [
       "<Figure size 1440x360 with 0 Axes>"
      ]
     },
     "metadata": {},
     "output_type": "display_data"
    },
    {
     "data": {
      "image/png": "[encoded data removed]",
      "text/plain": [
       "<Figure size 1440x360 with 1 Axes>"
      ]
     },
     "metadata": {
      "needs_background": "light"
     },
     "output_type": "display_data"
    }
   ],
   "source": [
    "plt.figure(figsize=(20,5))\n",
    "pd.concat([test,future_forecast,future_forecast1],axis=1).plot(figsize=(20,5))\n",
    "plt.xlabel('')\n",
    "plt.title('Previsões X Real',size=15)\n",
    "plt.legend(['Valor real','previsão 1','previsão 2'])\n",
    "plt.show();"
   ]
  },
  {
   "cell_type": "code",
   "execution_count": 63,
   "metadata": {},
   "outputs": [
    {
     "data": {
      "image/png": "[encoded data removed]",
      "text/plain": [
       "<Figure size 1440x360 with 1 Axes>"
      ]
     },
     "metadata": {
      "needs_background": "light"
     },
     "output_type": "display_data"
    }
   ],
   "source": [
    "pd.concat([data,future_forecast],axis=1).plot(linewidth=1,figsize=(20,5))\n",
    "plt.legend('')\n",
    "plt.xlabel('')\n",
    "plt.title('Previsões X Real',size=15)\n",
    "plt.show();"
   ]
  },
  {
   "cell_type": "code",
   "execution_count": 64,
   "metadata": {},
   "outputs": [
    {
     "data": {
      "image/png": "[encoded data removed]",
      "text/plain": [
       "<Figure size 1440x360 with 1 Axes>"
      ]
     },
     "metadata": {
      "needs_background": "light"
     },
     "output_type": "display_data"
    }
   ],
   "source": [
    "pd.concat([data,future_forecast1],axis=1).plot(linewidth=1, figsize=(20,5))\n",
    "plt.legend('')\n",
    "plt.xlabel('')\n",
    "plt.title('Previsões X Real',size=15)\n",
    "plt.show()"
   ]
  },
  {
   "cell_type": "markdown",
   "metadata": {},
   "source": [
    "## Sumário dos modelos\n",
    "\n",
    "Abaixo podemos conferir os sumários dos modelos com seus coeficientes, estatísticas e p-valores.\n",
    "\n",
    "Podemos ver que no sumário em *model* que no valor do *D* está [1,2], ou seja, já está informando a possibilidade de ser com *D* igual a 1 ou *D* igual a 2, mas o restante do sumário diz respeito ao modelo 1."
   ]
  },
  {
   "cell_type": "code",
   "execution_count": 65,
   "metadata": {},
   "outputs": [
    {
     "data": {
      "text/html": [
       "<table class=\"simpletable\">\n",
       "<caption>SARIMAX Results</caption>\n",
       "<tr>\n",
       "  <th>Dep. Variable:</th>                  <td>y</td>                <th>  No. Observations:  </th>    <td>445</td>   \n",
       "</tr>\n",
       "<tr>\n",
       "  <th>Model:</th>           <td>SARIMAX(6, 1, 3)x(2, 1, [], 12)</td> <th>  Log Likelihood     </th> <td>-4687.921</td>\n",
       "</tr>\n",
       "<tr>\n",
       "  <th>Date:</th>                   <td>Sun, 02 Jan 2022</td>         <th>  AIC                </th> <td>9399.842</td> \n",
       "</tr>\n",
       "<tr>\n",
       "  <th>Time:</th>                       <td>03:45:54</td>             <th>  BIC                </th> <td>9448.663</td> \n",
       "</tr>\n",
       "<tr>\n",
       "  <th>Sample:</th>                         <td>0</td>                <th>  HQIC               </th> <td>9419.116</td> \n",
       "</tr>\n",
       "<tr>\n",
       "  <th></th>                             <td> - 445</td>              <th>                     </th>     <td> </td>    \n",
       "</tr>\n",
       "<tr>\n",
       "  <th>Covariance Type:</th>               <td>opg</td>               <th>                     </th>     <td> </td>    \n",
       "</tr>\n",
       "</table>\n",
       "<table class=\"simpletable\">\n",
       "<tr>\n",
       "      <td></td>        <th>coef</th>     <th>std err</th>      <th>z</th>      <th>P>|z|</th>  <th>[0.025</th>    <th>0.975]</th>  \n",
       "</tr>\n",
       "<tr>\n",
       "  <th>ar.L1</th>    <td>    1.2773</td> <td>    0.163</td> <td>    7.843</td> <td> 0.000</td> <td>    0.958</td> <td>    1.596</td>\n",
       "</tr>\n",
       "<tr>\n",
       "  <th>ar.L2</th>    <td>   -0.9217</td> <td>    0.213</td> <td>   -4.332</td> <td> 0.000</td> <td>   -1.339</td> <td>   -0.505</td>\n",
       "</tr>\n",
       "<tr>\n",
       "  <th>ar.L3</th>    <td>    0.3043</td> <td>    0.160</td> <td>    1.897</td> <td> 0.058</td> <td>   -0.010</td> <td>    0.619</td>\n",
       "</tr>\n",
       "<tr>\n",
       "  <th>ar.L4</th>    <td>   -0.0749</td> <td>    0.130</td> <td>   -0.574</td> <td> 0.566</td> <td>   -0.330</td> <td>    0.181</td>\n",
       "</tr>\n",
       "<tr>\n",
       "  <th>ar.L5</th>    <td>    0.0109</td> <td>    0.132</td> <td>    0.083</td> <td> 0.934</td> <td>   -0.247</td> <td>    0.269</td>\n",
       "</tr>\n",
       "<tr>\n",
       "  <th>ar.L6</th>    <td>    0.3133</td> <td>    0.107</td> <td>    2.928</td> <td> 0.003</td> <td>    0.104</td> <td>    0.523</td>\n",
       "</tr>\n",
       "<tr>\n",
       "  <th>ma.L1</th>    <td>   -1.2486</td> <td>    0.162</td> <td>   -7.724</td> <td> 0.000</td> <td>   -1.565</td> <td>   -0.932</td>\n",
       "</tr>\n",
       "<tr>\n",
       "  <th>ma.L2</th>    <td>    1.0246</td> <td>    0.192</td> <td>    5.340</td> <td> 0.000</td> <td>    0.649</td> <td>    1.401</td>\n",
       "</tr>\n",
       "<tr>\n",
       "  <th>ma.L3</th>    <td>   -0.2454</td> <td>    0.134</td> <td>   -1.826</td> <td> 0.068</td> <td>   -0.509</td> <td>    0.018</td>\n",
       "</tr>\n",
       "<tr>\n",
       "  <th>ar.S.L12</th> <td>   -0.7519</td> <td>    0.068</td> <td>  -11.129</td> <td> 0.000</td> <td>   -0.884</td> <td>   -0.620</td>\n",
       "</tr>\n",
       "<tr>\n",
       "  <th>ar.S.L24</th> <td>   -0.2791</td> <td>    0.063</td> <td>   -4.425</td> <td> 0.000</td> <td>   -0.403</td> <td>   -0.155</td>\n",
       "</tr>\n",
       "<tr>\n",
       "  <th>sigma2</th>   <td> 2.167e+08</td> <td> 1.78e-09</td> <td> 1.22e+17</td> <td> 0.000</td> <td> 2.17e+08</td> <td> 2.17e+08</td>\n",
       "</tr>\n",
       "</table>\n",
       "<table class=\"simpletable\">\n",
       "<tr>\n",
       "  <th>Ljung-Box (L1) (Q):</th>     <td>0.01</td> <th>  Jarque-Bera (JB):  </th> <td>55.53</td>\n",
       "</tr>\n",
       "<tr>\n",
       "  <th>Prob(Q):</th>                <td>0.91</td> <th>  Prob(JB):          </th> <td>0.00</td> \n",
       "</tr>\n",
       "<tr>\n",
       "  <th>Heteroskedasticity (H):</th> <td>6.53</td> <th>  Skew:              </th> <td>0.02</td> \n",
       "</tr>\n",
       "<tr>\n",
       "  <th>Prob(H) (two-sided):</th>    <td>0.00</td> <th>  Kurtosis:          </th> <td>4.76</td> \n",
       "</tr>\n",
       "</table><br/><br/>Warnings:<br/>[1] Covariance matrix calculated using the outer product of gradients (complex-step).<br/>[2] Covariance matrix is singular or near-singular, with condition number 1.41e+33. Standard errors may be unstable."
      ],
      "text/plain": [
       "<class 'statsmodels.iolib.summary.Summary'>\n",
       "\"\"\"\n",
       "                                      SARIMAX Results                                      \n",
       "===========================================================================================\n",
       "Dep. Variable:                                   y   No. Observations:                  445\n",
       "Model:             SARIMAX(6, 1, 3)x(2, 1, [], 12)   Log Likelihood               -4687.921\n",
       "Date:                             Sun, 02 Jan 2022   AIC                           9399.842\n",
       "Time:                                     03:45:54   BIC                           9448.663\n",
       "Sample:                                          0   HQIC                          9419.116\n",
       "                                             - 445                                         \n",
       "Covariance Type:                               opg                                         \n",
       "==============================================================================\n",
       "                 coef    std err          z      P>|z|      [0.025      0.975]\n",
       "------------------------------------------------------------------------------\n",
       "ar.L1          1.2773      0.163      7.843      0.000       0.958       1.596\n",
       "ar.L2         -0.9217      0.213     -4.332      0.000      -1.339      -0.505\n",
       "ar.L3          0.3043      0.160      1.897      0.058      -0.010       0.619\n",
       "ar.L4         -0.0749      0.130     -0.574      0.566      -0.330       0.181\n",
       "ar.L5          0.0109      0.132      0.083      0.934      -0.247       0.269\n",
       "ar.L6          0.3133      0.107      2.928      0.003       0.104       0.523\n",
       "ma.L1         -1.2486      0.162     -7.724      0.000      -1.565      -0.932\n",
       "ma.L2          1.0246      0.192      5.340      0.000       0.649       1.401\n",
       "ma.L3         -0.2454      0.134     -1.826      0.068      -0.509       0.018\n",
       "ar.S.L12      -0.7519      0.068    -11.129      0.000      -0.884      -0.620\n",
       "ar.S.L24      -0.2791      0.063     -4.425      0.000      -0.403      -0.155\n",
       "sigma2      2.167e+08   1.78e-09   1.22e+17      0.000    2.17e+08    2.17e+08\n",
       "===================================================================================\n",
       "Ljung-Box (L1) (Q):                   0.01   Jarque-Bera (JB):                55.53\n",
       "Prob(Q):                              0.91   Prob(JB):                         0.00\n",
       "Heteroskedasticity (H):               6.53   Skew:                             0.02\n",
       "Prob(H) (two-sided):                  0.00   Kurtosis:                         4.76\n",
       "===================================================================================\n",
       "\n",
       "Warnings:\n",
       "[1] Covariance matrix calculated using the outer product of gradients (complex-step).\n",
       "[2] Covariance matrix is singular or near-singular, with condition number 1.41e+33. Standard errors may be unstable.\n",
       "\"\"\""
      ]
     },
     "execution_count": 65,
     "metadata": {},
     "output_type": "execute_result"
    }
   ],
   "source": [
    "stepwise.summary()"
   ]
  },
  {
   "cell_type": "markdown",
   "metadata": {},
   "source": [
    "Simário do modelo 2."
   ]
  },
  {
   "cell_type": "code",
   "execution_count": 66,
   "metadata": {},
   "outputs": [
    {
     "data": {
      "text/html": [
       "<table class=\"simpletable\">\n",
       "<caption>SARIMAX Results</caption>\n",
       "<tr>\n",
       "  <th>Dep. Variable:</th>                  <td>y</td>               <th>  No. Observations:  </th>    <td>445</td>   \n",
       "</tr>\n",
       "<tr>\n",
       "  <th>Model:</th>           <td>SARIMAX(1, 1, 2)x(0, 1, 2, 12)</td> <th>  Log Likelihood     </th> <td>-4808.815</td>\n",
       "</tr>\n",
       "<tr>\n",
       "  <th>Date:</th>                   <td>Sun, 02 Jan 2022</td>        <th>  AIC                </th> <td>9629.630</td> \n",
       "</tr>\n",
       "<tr>\n",
       "  <th>Time:</th>                       <td>03:45:57</td>            <th>  BIC                </th> <td>9654.040</td> \n",
       "</tr>\n",
       "<tr>\n",
       "  <th>Sample:</th>                         <td>0</td>               <th>  HQIC               </th> <td>9639.267</td> \n",
       "</tr>\n",
       "<tr>\n",
       "  <th></th>                             <td> - 445</td>             <th>                     </th>     <td> </td>    \n",
       "</tr>\n",
       "<tr>\n",
       "  <th>Covariance Type:</th>               <td>opg</td>              <th>                     </th>     <td> </td>    \n",
       "</tr>\n",
       "</table>\n",
       "<table class=\"simpletable\">\n",
       "<tr>\n",
       "      <td></td>        <th>coef</th>     <th>std err</th>      <th>z</th>      <th>P>|z|</th>  <th>[0.025</th>    <th>0.975]</th>  \n",
       "</tr>\n",
       "<tr>\n",
       "  <th>ar.L1</th>    <td>    0.9964</td> <td>    0.008</td> <td>  122.081</td> <td> 0.000</td> <td>    0.980</td> <td>    1.012</td>\n",
       "</tr>\n",
       "<tr>\n",
       "  <th>ma.L1</th>    <td>   -0.6169</td> <td>    0.057</td> <td>  -10.797</td> <td> 0.000</td> <td>   -0.729</td> <td>   -0.505</td>\n",
       "</tr>\n",
       "<tr>\n",
       "  <th>ma.L2</th>    <td>   -0.2456</td> <td>    0.066</td> <td>   -3.745</td> <td> 0.000</td> <td>   -0.374</td> <td>   -0.117</td>\n",
       "</tr>\n",
       "<tr>\n",
       "  <th>ma.S.L12</th> <td>   -1.1812</td> <td>    0.088</td> <td>  -13.390</td> <td> 0.000</td> <td>   -1.354</td> <td>   -1.008</td>\n",
       "</tr>\n",
       "<tr>\n",
       "  <th>ma.S.L24</th> <td>    0.2522</td> <td>    0.095</td> <td>    2.662</td> <td> 0.008</td> <td>    0.067</td> <td>    0.438</td>\n",
       "</tr>\n",
       "<tr>\n",
       "  <th>sigma2</th>   <td>  4.42e+08</td> <td>  5.8e-11</td> <td> 7.62e+18</td> <td> 0.000</td> <td> 4.42e+08</td> <td> 4.42e+08</td>\n",
       "</tr>\n",
       "</table>\n",
       "<table class=\"simpletable\">\n",
       "<tr>\n",
       "  <th>Ljung-Box (L1) (Q):</th>     <td>0.04</td> <th>  Jarque-Bera (JB):  </th> <td>42.94</td>\n",
       "</tr>\n",
       "<tr>\n",
       "  <th>Prob(Q):</th>                <td>0.83</td> <th>  Prob(JB):          </th> <td>0.00</td> \n",
       "</tr>\n",
       "<tr>\n",
       "  <th>Heteroskedasticity (H):</th> <td>7.19</td> <th>  Skew:              </th> <td>-0.17</td>\n",
       "</tr>\n",
       "<tr>\n",
       "  <th>Prob(H) (two-sided):</th>    <td>0.00</td> <th>  Kurtosis:          </th> <td>4.51</td> \n",
       "</tr>\n",
       "</table><br/><br/>Warnings:<br/>[1] Covariance matrix calculated using the outer product of gradients (complex-step).<br/>[2] Covariance matrix is singular or near-singular, with condition number 1.97e+34. Standard errors may be unstable."
      ],
      "text/plain": [
       "<class 'statsmodels.iolib.summary.Summary'>\n",
       "\"\"\"\n",
       "                                     SARIMAX Results                                      \n",
       "==========================================================================================\n",
       "Dep. Variable:                                  y   No. Observations:                  445\n",
       "Model:             SARIMAX(1, 1, 2)x(0, 1, 2, 12)   Log Likelihood               -4808.815\n",
       "Date:                            Sun, 02 Jan 2022   AIC                           9629.630\n",
       "Time:                                    03:45:57   BIC                           9654.040\n",
       "Sample:                                         0   HQIC                          9639.267\n",
       "                                            - 445                                         \n",
       "Covariance Type:                              opg                                         \n",
       "==============================================================================\n",
       "                 coef    std err          z      P>|z|      [0.025      0.975]\n",
       "------------------------------------------------------------------------------\n",
       "ar.L1          0.9964      0.008    122.081      0.000       0.980       1.012\n",
       "ma.L1         -0.6169      0.057    -10.797      0.000      -0.729      -0.505\n",
       "ma.L2         -0.2456      0.066     -3.745      0.000      -0.374      -0.117\n",
       "ma.S.L12      -1.1812      0.088    -13.390      0.000      -1.354      -1.008\n",
       "ma.S.L24       0.2522      0.095      2.662      0.008       0.067       0.438\n",
       "sigma2       4.42e+08    5.8e-11   7.62e+18      0.000    4.42e+08    4.42e+08\n",
       "===================================================================================\n",
       "Ljung-Box (L1) (Q):                   0.04   Jarque-Bera (JB):                42.94\n",
       "Prob(Q):                              0.83   Prob(JB):                         0.00\n",
       "Heteroskedasticity (H):               7.19   Skew:                            -0.17\n",
       "Prob(H) (two-sided):                  0.00   Kurtosis:                         4.51\n",
       "===================================================================================\n",
       "\n",
       "Warnings:\n",
       "[1] Covariance matrix calculated using the outer product of gradients (complex-step).\n",
       "[2] Covariance matrix is singular or near-singular, with condition number 1.97e+34. Standard errors may be unstable.\n",
       "\"\"\""
      ]
     },
     "execution_count": 66,
     "metadata": {},
     "output_type": "execute_result"
    }
   ],
   "source": [
    "stepwise1.summary()"
   ]
  },
  {
   "cell_type": "markdown",
   "metadata": {},
   "source": [
    "## Análise dos resíduos\n",
    "\n",
    "Uma das principais etapas é a avaliação dos resíduos. Primeiramente vamos olhar o *rmse* que é umas das principais métricas para análise dos erros, onde ele compara valores reais com os preditos. Aqui é interessante que o resultado seja o mais próximo possível de zero.\n",
    "\n",
    "Podemos ver que o modelo com melhor desempenho foi o modelo 1."
   ]
  },
  {
   "cell_type": "code",
   "execution_count": 67,
   "metadata": {},
   "outputs": [
    {
     "name": "stdout",
     "output_type": "stream",
     "text": [
      "RMSE do modelo 1: 3205603.725\n",
      "\n",
      "RMSE do modelo 2: 3985257.336\n"
     ]
    }
   ],
   "source": [
    "print(\"RMSE do modelo 1: %.3f\" % np.sqrt(mean_squared_error(test, future_forecast)))\n",
    "print('')\n",
    "print(\"RMSE do modelo 2: %.3f\" % np.sqrt(mean_squared_error(test, future_forecast1)))"
   ]
  },
  {
   "cell_type": "markdown",
   "metadata": {},
   "source": [
    "Calculando os erros de cada um dos modelos."
   ]
  },
  {
   "cell_type": "code",
   "execution_count": 68,
   "metadata": {},
   "outputs": [],
   "source": [
    "erros=pd.DataFrame(np.array(future_forecast.values.tolist())-np.array(test.values.tolist()))\n",
    "\n",
    "erros1=pd.DataFrame(np.array(future_forecast1.values.tolist())-np.array(test.values.tolist()))"
   ]
  },
  {
   "cell_type": "markdown",
   "metadata": {},
   "source": [
    "Vamos ver graficamente a distribuião dos resíduos dos modelos: são bem semelhantes e se assemelham com uma distribuição normal."
   ]
  },
  {
   "cell_type": "code",
   "execution_count": 69,
   "metadata": {},
   "outputs": [
    {
     "name": "stderr",
     "output_type": "stream",
     "text": [
      "C:\\ProgramData\\Anaconda3\\lib\\site-packages\\seaborn\\distributions.py:2619: FutureWarning: `distplot` is a deprecated function and will be removed in a future version. Please adapt your code to use either `displot` (a figure-level function with similar flexibility) or `histplot` (an axes-level function for histograms).\n",
      "  warnings.warn(msg, FutureWarning)\n",
      "C:\\ProgramData\\Anaconda3\\lib\\site-packages\\seaborn\\distributions.py:2619: FutureWarning: `distplot` is a deprecated function and will be removed in a future version. Please adapt your code to use either `displot` (a figure-level function with similar flexibility) or `histplot` (an axes-level function for histograms).\n",
      "  warnings.warn(msg, FutureWarning)\n"
     ]
    },
    {
     "data": {
      "image/png": "[encoded data removed]",
      "text/plain": [
       "<Figure size 1440x360 with 2 Axes>"
      ]
     },
     "metadata": {
      "needs_background": "light"
     },
     "output_type": "display_data"
    }
   ],
   "source": [
    "fig, ax = plt.subplots(1,2,figsize=(20,5))\n",
    "sns.distplot(erros,ax=ax[0])\n",
    "sns.distplot(erros1,ax=ax[1], color='red');"
   ]
  },
  {
   "cell_type": "markdown",
   "metadata": {},
   "source": [
    "Podemos usar também a função *plot_diagnostic* para gerar os resíduos, o histograma dos resíduos, o gráfico QQ e o correlograma dos resíduos.\n",
    "\n",
    "Para o modelo *stepwise* podemos ver que os resíduos apresentam estar flutuando em torno do valor de zero e o seu histograma apresenta possuir um formato de sino. Vemos que o *KDE* do histograma está bem próximo do *KDE* de uma distribuição normal. No gráfio QQplot os valores estão, em sua maioria, em cima da linha vermelha, o que é uma evidência para normalidade; e por fim o correlograma não apresentou resultados estatisticamente significativo, rejeitando, então, a presença de autocorrelação serial."
   ]
  },
  {
   "cell_type": "code",
   "execution_count": 70,
   "metadata": {},
   "outputs": [
    {
     "name": "stderr",
     "output_type": "stream",
     "text": [
      "C:\\ProgramData\\Anaconda3\\lib\\site-packages\\statsmodels\\graphics\\gofplots.py:993: UserWarning: marker is redundantly defined by the 'marker' keyword argument and the fmt string \"bo\" (-> marker='o'). The keyword argument will take precedence.\n",
      "  ax.plot(x, y, fmt, **plot_style)\n"
     ]
    },
    {
     "data": {
      "image/png": "[encoded data removed]",
      "text/plain": [
       "<Figure size 720x432 with 4 Axes>"
      ]
     },
     "metadata": {
      "needs_background": "light"
     },
     "output_type": "display_data"
    }
   ],
   "source": [
    "stepwise.plot_diagnostics(figsize=(10,6));"
   ]
  },
  {
   "cell_type": "markdown",
   "metadata": {},
   "source": [
    "Assim como o modelo *stepwise* o modelo *stepwise1* apresenta resultados semelhantes."
   ]
  },
  {
   "cell_type": "code",
   "execution_count": 71,
   "metadata": {},
   "outputs": [
    {
     "name": "stderr",
     "output_type": "stream",
     "text": [
      "C:\\ProgramData\\Anaconda3\\lib\\site-packages\\statsmodels\\graphics\\gofplots.py:993: UserWarning: marker is redundantly defined by the 'marker' keyword argument and the fmt string \"bo\" (-> marker='o'). The keyword argument will take precedence.\n",
      "  ax.plot(x, y, fmt, **plot_style)\n"
     ]
    },
    {
     "data": {
      "image/png": "[encoded data removed]",
      "text/plain": [
       "<Figure size 720x432 with 4 Axes>"
      ]
     },
     "metadata": {
      "needs_background": "light"
     },
     "output_type": "display_data"
    }
   ],
   "source": [
    "stepwise1.plot_diagnostics(figsize=(10,6));"
   ]
  },
  {
   "cell_type": "markdown",
   "metadata": {},
   "source": [
    "### Teste de normalidade dos resíduos\n",
    "\n",
    "Para sabermos se a distribuição dos resíduos é ou não normal precisaremos realizar um teste estatístico chamado Teste de Normalidade *Jarque-Bera*. O teste Jarque-Bera testa se a distribuição dos dados é uma distribuição normal ($H_{0}$) em comparação com uma hipótese alternativa ($H_{1}$) em que os dados seguem alguma outra distribuição. A estatística do teste é baseada em dois momentos dos dados, a assimetria e a curtose, e possui uma $\\chi^{2}_{2;1-\\alpha}$ distribuição assintótica.\n",
    "\n",
    "A estatística do teste Jarque-Bera é dada pela equação abaixo:\n",
    "\n",
    "$S_{JB} = T\\bigg[\\frac{\\alpha_{1}^{2}}{6} + \\frac{\\big(\\alpha_{2} - 3\\big)^{2}}{24} \\bigg]$, onde $\\alpha_{1}$ é o coeficiente de assimetria e $\\alpha_{2}$ o coeficiente de curtose.\n",
    "\n",
    "Se $S_{JB} > \\chi^{2}_{2;1-\\alpha}$, devemos rejeitar $H_{0}$.\n",
    "\n",
    "Para o primeiro modelo o *p-value* teve um valor de 0.3746892, bem acima do nível de significância de 5% (que será o nosso padrão). Então podemos considerar que os resíduos do modelo 1 possuem uma distribuição normal."
   ]
  },
  {
   "cell_type": "code",
   "execution_count": 72,
   "metadata": {},
   "outputs": [
    {
     "name": "stdout",
     "output_type": "stream",
     "text": [
      "Estatística Jarque-Bera : [22.18616105]\n",
      "p-valor : [1.52172558e-05]\n",
      "Assimetria : [0.59362869]\n",
      "Curtose : [1.98916864]\n"
     ]
    }
   ],
   "source": [
    "test = jarque_bera(erros)\n",
    "print('Estatística Jarque-Bera :', test[0])\n",
    "print('p-valor :', test[1])\n",
    "print('Assimetria :', test[2])\n",
    "print('Curtose :',test[3])"
   ]
  },
  {
   "cell_type": "markdown",
   "metadata": {},
   "source": [
    "Para o modelo 2, o *p-value* foi um pouco maior (0.4257611) e também podemos considerar que seus resíduos são normais."
   ]
  },
  {
   "cell_type": "code",
   "execution_count": 73,
   "metadata": {},
   "outputs": [
    {
     "name": "stdout",
     "output_type": "stream",
     "text": [
      "Estatística Jarque-Bera : [21.54643697]\n",
      "p-valor : [2.09532146e-05]\n",
      "Assimetria : [0.57333082]\n",
      "Curtose : [1.97705306]\n"
     ]
    }
   ],
   "source": [
    "test1 = jarque_bera(erros1)\n",
    "print('Estatística Jarque-Bera :', test1[0])\n",
    "print('p-valor :', test1[1])\n",
    "print('Assimetria :', test1[2])\n",
    "print('Curtose :',test1[3])"
   ]
  },
  {
   "cell_type": "markdown",
   "metadata": {},
   "source": [
    "## Conclusão\n",
    "\n",
    "Para concluirmos levando em consideração a métrica de *RMSE* o modelo 1 foi melhor e pode ser escolhido para gerar previsões."
   ]
  },
  {
   "cell_type": "code",
   "execution_count": 74,
   "metadata": {},
   "outputs": [
    {
     "data": {
      "text/plain": [
       "ARIMA(order=(6, 1, 3), scoring_args={}, seasonal_order=(2, 1, 0, 12),\n",
       "      suppress_warnings=True, with_intercept=False)"
      ]
     },
     "execution_count": 74,
     "metadata": {},
     "output_type": "execute_result"
    }
   ],
   "source": [
    "stepwise.fit(data)"
   ]
  },
  {
   "cell_type": "markdown",
   "metadata": {},
   "source": [
    "Vamos criar 24 previsões para um futuro fora da séries original."
   ]
  },
  {
   "cell_type": "code",
   "execution_count": 75,
   "metadata": {},
   "outputs": [],
   "source": [
    "future_forecast2=stepwise.predict(n_periods=len(test))"
   ]
  },
  {
   "cell_type": "markdown",
   "metadata": {},
   "source": [
    "Vamos transformar em um *dataframe* e indexar para o tempo que queremos no futuro."
   ]
  },
  {
   "cell_type": "code",
   "execution_count": null,
   "metadata": {},
   "outputs": [],
   "source": [
    "future_forecast2=pd.DataFrame(future_forecast2, \n",
    "                              index=pd.date_range(start='2021-12-21',\n",
    "                                                  end='2023-12-21', freq='MS'),columns=['nova previsão'])"
   ]
  },
  {
   "cell_type": "markdown",
   "metadata": {},
   "source": [
    "Vamos observar essas novas previsões."
   ]
  },
  {
   "cell_type": "code",
   "execution_count": null,
   "metadata": {},
   "outputs": [],
   "source": [
    "future_forecast2.head(24)"
   ]
  },
  {
   "cell_type": "markdown",
   "metadata": {},
   "source": [
    "E agora vamos ver graficamente."
   ]
  },
  {
   "cell_type": "code",
   "execution_count": null,
   "metadata": {},
   "outputs": [],
   "source": [
    "plt.figure(figsize=(20,5))\n",
    "pd.concat([data,future_forecast2],axis=1).plot(figsize=(20,5))\n",
    "plt.xlabel('')\n",
    "plt.title('Série total e novas previsões',size=15)\n",
    "plt.legend(['Série total','Previsões'])\n",
    "plt.show();"
   ]
  }
 ],
 "metadata": {
  "kernelspec": {
   "display_name": "Python 3",
   "language": "python",
   "name": "python3"
  },
  "language_info": {
   "codemirror_mode": {
    "name": "ipython",
    "version": 3
   },
   "file_extension": ".py",
   "mimetype": "text/x-python",
   "name": "python",
   "nbconvert_exporter": "python",
   "pygments_lexer": "ipython3",
   "version": "3.8.11"
  }
 },
 "nbformat": 4,
 "nbformat_minor": 2
}
