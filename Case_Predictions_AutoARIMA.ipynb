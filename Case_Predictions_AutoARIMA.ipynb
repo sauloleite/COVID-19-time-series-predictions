{
 "cells": [
  {
   "cell_type": "markdown",
   "metadata": {},
   "source": [
    "# AutoARIMA em Python (BIBLIOTECA *PMDARIMA*)\n",
    "\n",
    "Uma das metodologias mais conhecidas em séries temporais é a Box-Jenkins, que são um conjunto de procedimentos que são realizados em uma certa sequência até encontramos o melhor modelo ARIMA. Porém, ao invés de realizarmos as etapas dessa metodologia, podemos escolher o modelo de forma automática e para isso existe a função auto.arima que é muito usada no software estatístico R. \n",
    "\n",
    "O objetivo desse pequeno projeto é usar o autoarima do pacote pmdarima (que não é um pacote muito conhecido do python) para previsão de séries temporais. Uma das vantagens do autoarima é que não é necessário interpretar as funções de autocorrelação e autocorrelação parcial para escolher o parâmetros p, P, d, D, q e Q. Podemos definí-los e o autoarima irá fazer as combinações desses parâmetros e gerará os AIC's e escolhe-se então o modelo de menor AIC.\n",
    "\n",
    "Usaremos uma base de dados de uma série temporal de consumo de energia elétrica que pode ser obtida [aqui](https://www.kaggle.com/zero101010/consumo-eletricocsv). A série tem periodicidade mensal e vai do ano de 1985 até o ano de 2017.\n",
    "\n",
    "## Importando das bibliotecas"
   ]
  },
  {
   "cell_type": "code",
   "execution_count": 95,
   "metadata": {},
   "outputs": [],
   "source": [
    "import pandas as pd\n",
    "import numpy as np\n",
    "import seaborn as sns\n",
    "from sklearn.metrics import mean_squared_error\n",
    "from statsmodels.stats.stattools import jarque_bera\n",
    "import matplotlib.pyplot as plt\n",
    "%matplotlib inline\n",
    "\n",
    "from pmdarima.arima import auto_arima"
   ]
  },
  {
   "cell_type": "code",
   "execution_count": 96,
   "metadata": {},
   "outputs": [],
   "source": [
    "from matplotlib.pyplot import rcParams\n",
    "rcParams['figure.figsize']=15,6"
   ]
  },
  {
   "cell_type": "markdown",
   "metadata": {},
   "source": [
    "## Importando da base de dados\n",
    "\n",
    "Irei colocar os dados indexados no formato de tempo correto."
   ]
  },
  {
   "cell_type": "code",
   "execution_count": 97,
   "metadata": {},
   "outputs": [],
   "source": [
    "dateparse= lambda dates:pd.datetime.strptime(dates,'%m-%d-%Y')"
   ]
  },
  {
   "cell_type": "markdown",
   "metadata": {},
   "source": [
    "Importando os dados."
   ]
  },
  {
   "cell_type": "code",
   "execution_count": 98,
   "metadata": {},
   "outputs": [],
   "source": [
    "data=pd.read_csv(\"datasets/countries/casos_covid19_brazil_date.csv\",encoding='utf-8',index_col='date')"
   ]
  },
  {
   "cell_type": "markdown",
   "metadata": {},
   "source": [
    "Visualizando a base de dados."
   ]
  },
  {
   "cell_type": "code",
   "execution_count": 99,
   "metadata": {},
   "outputs": [
    {
     "data": {
      "text/html": [
       "<div>\n",
       "<style scoped>\n",
       "    .dataframe tbody tr th:only-of-type {\n",
       "        vertical-align: middle;\n",
       "    }\n",
       "\n",
       "    .dataframe tbody tr th {\n",
       "        vertical-align: top;\n",
       "    }\n",
       "\n",
       "    .dataframe thead th {\n",
       "        text-align: right;\n",
       "    }\n",
       "</style>\n",
       "<table border=\"1\" class=\"dataframe\">\n",
       "  <thead>\n",
       "    <tr style=\"text-align: right;\">\n",
       "      <th></th>\n",
       "      <th>Brazil</th>\n",
       "    </tr>\n",
       "    <tr>\n",
       "      <th>date</th>\n",
       "      <th></th>\n",
       "    </tr>\n",
       "  </thead>\n",
       "  <tbody>\n",
       "    <tr>\n",
       "      <th>2/26/20</th>\n",
       "      <td>1.0</td>\n",
       "    </tr>\n",
       "    <tr>\n",
       "      <th>2/27/20</th>\n",
       "      <td>1.0</td>\n",
       "    </tr>\n",
       "    <tr>\n",
       "      <th>2/28/20</th>\n",
       "      <td>1.0</td>\n",
       "    </tr>\n",
       "    <tr>\n",
       "      <th>2/29/20</th>\n",
       "      <td>2.0</td>\n",
       "    </tr>\n",
       "    <tr>\n",
       "      <th>3/1/20</th>\n",
       "      <td>2.0</td>\n",
       "    </tr>\n",
       "    <tr>\n",
       "      <th>3/2/20</th>\n",
       "      <td>2.0</td>\n",
       "    </tr>\n",
       "    <tr>\n",
       "      <th>3/3/20</th>\n",
       "      <td>2.0</td>\n",
       "    </tr>\n",
       "    <tr>\n",
       "      <th>3/4/20</th>\n",
       "      <td>4.0</td>\n",
       "    </tr>\n",
       "    <tr>\n",
       "      <th>3/5/20</th>\n",
       "      <td>4.0</td>\n",
       "    </tr>\n",
       "    <tr>\n",
       "      <th>3/6/20</th>\n",
       "      <td>13.0</td>\n",
       "    </tr>\n",
       "  </tbody>\n",
       "</table>\n",
       "</div>"
      ],
      "text/plain": [
       "         Brazil\n",
       "date           \n",
       "2/26/20     1.0\n",
       "2/27/20     1.0\n",
       "2/28/20     1.0\n",
       "2/29/20     2.0\n",
       "3/1/20      2.0\n",
       "3/2/20      2.0\n",
       "3/3/20      2.0\n",
       "3/4/20      4.0\n",
       "3/5/20      4.0\n",
       "3/6/20     13.0"
      ]
     },
     "execution_count": 99,
     "metadata": {},
     "output_type": "execute_result"
    }
   ],
   "source": [
    "data.head(10)"
   ]
  },
  {
   "cell_type": "markdown",
   "metadata": {},
   "source": [
    "Últimas observações da série."
   ]
  },
  {
   "cell_type": "code",
   "execution_count": 100,
   "metadata": {},
   "outputs": [
    {
     "data": {
      "text/html": [
       "<div>\n",
       "<style scoped>\n",
       "    .dataframe tbody tr th:only-of-type {\n",
       "        vertical-align: middle;\n",
       "    }\n",
       "\n",
       "    .dataframe tbody tr th {\n",
       "        vertical-align: top;\n",
       "    }\n",
       "\n",
       "    .dataframe thead th {\n",
       "        text-align: right;\n",
       "    }\n",
       "</style>\n",
       "<table border=\"1\" class=\"dataframe\">\n",
       "  <thead>\n",
       "    <tr style=\"text-align: right;\">\n",
       "      <th></th>\n",
       "      <th>Brazil</th>\n",
       "    </tr>\n",
       "    <tr>\n",
       "      <th>date</th>\n",
       "      <th></th>\n",
       "    </tr>\n",
       "  </thead>\n",
       "  <tbody>\n",
       "    <tr>\n",
       "      <th>12/22/21</th>\n",
       "      <td>22227169.0</td>\n",
       "    </tr>\n",
       "    <tr>\n",
       "      <th>12/23/21</th>\n",
       "      <td>22230943.0</td>\n",
       "    </tr>\n",
       "    <tr>\n",
       "      <th>12/24/21</th>\n",
       "      <td>22234623.0</td>\n",
       "    </tr>\n",
       "    <tr>\n",
       "      <th>12/25/21</th>\n",
       "      <td>22238297.0</td>\n",
       "    </tr>\n",
       "    <tr>\n",
       "      <th>12/26/21</th>\n",
       "      <td>22243266.0</td>\n",
       "    </tr>\n",
       "    <tr>\n",
       "      <th>12/27/21</th>\n",
       "      <td>22250218.0</td>\n",
       "    </tr>\n",
       "    <tr>\n",
       "      <th>12/28/21</th>\n",
       "      <td>22259270.0</td>\n",
       "    </tr>\n",
       "    <tr>\n",
       "      <th>12/29/21</th>\n",
       "      <td>22269031.0</td>\n",
       "    </tr>\n",
       "    <tr>\n",
       "      <th>12/30/21</th>\n",
       "      <td>22281649.0</td>\n",
       "    </tr>\n",
       "    <tr>\n",
       "      <th>12/31/21</th>\n",
       "      <td>22291839.0</td>\n",
       "    </tr>\n",
       "  </tbody>\n",
       "</table>\n",
       "</div>"
      ],
      "text/plain": [
       "              Brazil\n",
       "date                \n",
       "12/22/21  22227169.0\n",
       "12/23/21  22230943.0\n",
       "12/24/21  22234623.0\n",
       "12/25/21  22238297.0\n",
       "12/26/21  22243266.0\n",
       "12/27/21  22250218.0\n",
       "12/28/21  22259270.0\n",
       "12/29/21  22269031.0\n",
       "12/30/21  22281649.0\n",
       "12/31/21  22291839.0"
      ]
     },
     "execution_count": 100,
     "metadata": {},
     "output_type": "execute_result"
    }
   ],
   "source": [
    "data.tail(10)"
   ]
  },
  {
   "cell_type": "markdown",
   "metadata": {},
   "source": [
    "Dimensão da base de dados : tempos 1 coluna com 675 observações."
   ]
  },
  {
   "cell_type": "code",
   "execution_count": 101,
   "metadata": {},
   "outputs": [
    {
     "data": {
      "text/plain": [
       "(675, 1)"
      ]
     },
     "execution_count": 101,
     "metadata": {},
     "output_type": "execute_result"
    }
   ],
   "source": [
    "data.shape"
   ]
  },
  {
   "cell_type": "markdown",
   "metadata": {},
   "source": [
    "Informações sobre a base de dados."
   ]
  },
  {
   "cell_type": "code",
   "execution_count": 102,
   "metadata": {},
   "outputs": [
    {
     "name": "stdout",
     "output_type": "stream",
     "text": [
      "<class 'pandas.core.frame.DataFrame'>\n",
      "Index: 675 entries, 2/26/20 to 12/31/21\n",
      "Data columns (total 1 columns):\n",
      " #   Column  Non-Null Count  Dtype  \n",
      "---  ------  --------------  -----  \n",
      " 0   Brazil  675 non-null    float64\n",
      "dtypes: float64(1)\n",
      "memory usage: 10.5+ KB\n"
     ]
    }
   ],
   "source": [
    "data.info()"
   ]
  },
  {
   "cell_type": "markdown",
   "metadata": {},
   "source": [
    "Abaixo podemos ver a tabela estatística."
   ]
  },
  {
   "cell_type": "code",
   "execution_count": 103,
   "metadata": {},
   "outputs": [
    {
     "data": {
      "text/html": [
       "<div>\n",
       "<style scoped>\n",
       "    .dataframe tbody tr th:only-of-type {\n",
       "        vertical-align: middle;\n",
       "    }\n",
       "\n",
       "    .dataframe tbody tr th {\n",
       "        vertical-align: top;\n",
       "    }\n",
       "\n",
       "    .dataframe thead th {\n",
       "        text-align: right;\n",
       "    }\n",
       "</style>\n",
       "<table border=\"1\" class=\"dataframe\">\n",
       "  <thead>\n",
       "    <tr style=\"text-align: right;\">\n",
       "      <th></th>\n",
       "      <th>Brazil</th>\n",
       "    </tr>\n",
       "  </thead>\n",
       "  <tbody>\n",
       "    <tr>\n",
       "      <th>count</th>\n",
       "      <td>6.750000e+02</td>\n",
       "    </tr>\n",
       "    <tr>\n",
       "      <th>mean</th>\n",
       "      <td>1.051255e+07</td>\n",
       "    </tr>\n",
       "    <tr>\n",
       "      <th>std</th>\n",
       "      <td>8.053011e+06</td>\n",
       "    </tr>\n",
       "    <tr>\n",
       "      <th>min</th>\n",
       "      <td>1.000000e+00</td>\n",
       "    </tr>\n",
       "    <tr>\n",
       "      <th>25%</th>\n",
       "      <td>3.194830e+06</td>\n",
       "    </tr>\n",
       "    <tr>\n",
       "      <th>50%</th>\n",
       "      <td>9.058687e+06</td>\n",
       "    </tr>\n",
       "    <tr>\n",
       "      <th>75%</th>\n",
       "      <td>1.928531e+07</td>\n",
       "    </tr>\n",
       "    <tr>\n",
       "      <th>max</th>\n",
       "      <td>2.229184e+07</td>\n",
       "    </tr>\n",
       "  </tbody>\n",
       "</table>\n",
       "</div>"
      ],
      "text/plain": [
       "             Brazil\n",
       "count  6.750000e+02\n",
       "mean   1.051255e+07\n",
       "std    8.053011e+06\n",
       "min    1.000000e+00\n",
       "25%    3.194830e+06\n",
       "50%    9.058687e+06\n",
       "75%    1.928531e+07\n",
       "max    2.229184e+07"
      ]
     },
     "execution_count": 103,
     "metadata": {},
     "output_type": "execute_result"
    }
   ],
   "source": [
    "data.describe()"
   ]
  },
  {
   "cell_type": "markdown",
   "metadata": {},
   "source": [
    "Por fim, vamos visualizar graficamente a base de dados.\n"
   ]
  },
  {
   "cell_type": "code",
   "execution_count": 104,
   "metadata": {},
   "outputs": [
    {
     "data": {
      "image/png": "[encoded data removed]",
      "text/plain": [
       "<Figure size 1080x432 with 1 Axes>"
      ]
     },
     "metadata": {
      "needs_background": "light"
     },
     "output_type": "display_data"
    }
   ],
   "source": [
    "data.plot()\n",
    "plt.xlabel('Meses',size=15)\n",
    "plt.ylabel('')\n",
    "plt.title('Casos confirmados de COVID19 no Brasil',size=15)\n",
    "plt.show()"
   ]
  },
  {
   "cell_type": "markdown",
   "metadata": {},
   "source": [
    "## Aplicando o AutoARIMA\n",
    "\n",
    "Escolherei os parâmetros *p, d, q, P, D* e *Q*:\n",
    "\n",
    "1) o *p* vai variar entre 1 e 6;\n",
    "\n",
    "2) o *q* vai variar entre 1 e 6;\n",
    "\n",
    "3) a sazonalidade será mensal (m=23);\n",
    "\n",
    "4) o *P* iniciará em 0 e o máximo, por padrão, será 2;\n",
    "\n",
    "5) o *Q* por padrão será 1 e o máximo, por padrão, será 2;\n",
    "\n",
    "6) o *d* será 1 e o máximo, por padrão, será 2;\n",
    "\n",
    "7) o *D* será 1, por padrão já é 1.\n",
    "\n",
    "Vamos agora aplicar o processamento do *autoARIMA*.\n",
    "\n",
    "Vamos atribuir a uma variável o *autoARIMA*, que gerará vários modelos ARIMA e os seus respectivos AIC's e BICS (critérios de informação)."
   ]
  },
  {
   "cell_type": "code",
   "execution_count": 105,
   "metadata": {},
   "outputs": [
    {
     "name": "stdout",
     "output_type": "stream",
     "text": [
      "Performing stepwise search to minimize aic\n",
      " ARIMA(1,1,1)(0,1,1)[12]             : AIC=14908.783, Time=0.46 sec\n",
      " ARIMA(0,1,0)(0,1,0)[12]             : AIC=15215.844, Time=0.03 sec\n",
      " ARIMA(1,1,0)(1,1,0)[12]             : AIC=15017.689, Time=0.24 sec\n",
      " ARIMA(0,1,1)(0,1,1)[12]             : AIC=14925.483, Time=0.26 sec\n",
      " ARIMA(1,1,1)(0,1,0)[12]             : AIC=15153.940, Time=0.16 sec\n",
      " ARIMA(1,1,1)(1,1,1)[12]             : AIC=inf, Time=1.86 sec\n",
      " ARIMA(1,1,1)(0,1,2)[12]             : AIC=inf, Time=5.77 sec\n",
      " ARIMA(1,1,1)(1,1,0)[12]             : AIC=15008.247, Time=0.38 sec\n",
      " ARIMA(1,1,1)(1,1,2)[12]             : AIC=inf, Time=4.92 sec\n",
      " ARIMA(1,1,0)(0,1,1)[12]             : AIC=14906.885, Time=0.31 sec\n",
      " ARIMA(1,1,0)(0,1,0)[12]             : AIC=15168.255, Time=0.04 sec\n",
      " ARIMA(1,1,0)(1,1,1)[12]             : AIC=14901.000, Time=0.41 sec\n",
      " ARIMA(1,1,0)(2,1,1)[12]             : AIC=14891.225, Time=1.43 sec\n",
      " ARIMA(1,1,0)(2,1,0)[12]             : AIC=14915.179, Time=0.84 sec\n",
      " ARIMA(1,1,0)(2,1,2)[12]             : AIC=14892.116, Time=1.95 sec\n",
      " ARIMA(1,1,0)(1,1,2)[12]             : AIC=14822.500, Time=6.73 sec\n",
      " ARIMA(1,1,0)(0,1,2)[12]             : AIC=14897.474, Time=1.00 sec\n",
      " ARIMA(0,1,0)(1,1,2)[12]             : AIC=14994.996, Time=1.66 sec\n",
      " ARIMA(2,1,0)(1,1,2)[12]             : AIC=14884.799, Time=3.02 sec\n",
      " ARIMA(0,1,1)(1,1,2)[12]             : AIC=14917.635, Time=2.94 sec\n",
      " ARIMA(2,1,1)(1,1,2)[12]             : AIC=inf, Time=9.61 sec\n",
      " ARIMA(1,1,0)(1,1,2)[12] intercept   : AIC=14900.041, Time=2.66 sec\n",
      "\n",
      "Best model:  ARIMA(1,1,0)(1,1,2)[12]          \n",
      "Total fit time: 46.718 seconds\n"
     ]
    }
   ],
   "source": [
    "stepwise=auto_arima(data,start_p=1,start_q=1,max_p=6,max_q=6,m=23,start_P=0,seasonal=True,d=1,D=1,trace=True,\n",
    "                    error_action='ignore',suppress_warnings=True,stepwise=True)"
   ]
  },
  {
   "cell_type": "markdown",
   "metadata": {},
   "source": [
    "O modelo que foi gerado é um *SARIMA*(1,1,1)x(2,1,2,12)."
   ]
  },
  {
   "cell_type": "code",
   "execution_count": 106,
   "metadata": {},
   "outputs": [
    {
     "data": {
      "text/plain": [
       "ARIMA(order=(1, 1, 0), scoring_args={}, seasonal_order=(1, 1, 2, 12),\n",
       "      suppress_warnings=True, with_intercept=False)"
      ]
     },
     "execution_count": 106,
     "metadata": {},
     "output_type": "execute_result"
    }
   ],
   "source": [
    "stepwise"
   ]
  },
  {
   "cell_type": "markdown",
   "metadata": {},
   "source": [
    "Esse foi o model com menor *AIC* gerado."
   ]
  },
  {
   "cell_type": "code",
   "execution_count": 107,
   "metadata": {},
   "outputs": [
    {
     "data": {
      "text/plain": [
       "14822.499737856397"
      ]
     },
     "execution_count": 107,
     "metadata": {},
     "output_type": "execute_result"
    }
   ],
   "source": [
    "stepwise.aic()"
   ]
  },
  {
   "cell_type": "markdown",
   "metadata": {},
   "source": [
    "Podemos gerar ainda mais modelos colocando o parâmetro *stepwise* com *False*."
   ]
  },
  {
   "cell_type": "code",
   "execution_count": 108,
   "metadata": {},
   "outputs": [
    {
     "name": "stdout",
     "output_type": "stream",
     "text": [
      " ARIMA(0,1,0)(0,1,0)[12]             : AIC=15215.844, Time=0.04 sec\n",
      " ARIMA(0,1,0)(0,1,1)[12]             : AIC=15006.573, Time=0.22 sec\n",
      " ARIMA(0,1,0)(0,1,2)[12]             : AIC=15011.212, Time=0.62 sec\n",
      " ARIMA(0,1,0)(1,1,0)[12]             : AIC=15101.537, Time=0.13 sec\n",
      " ARIMA(0,1,0)(1,1,1)[12]             : AIC=14995.629, Time=0.34 sec\n",
      " ARIMA(0,1,0)(1,1,2)[12]             : AIC=14994.996, Time=1.74 sec\n",
      " ARIMA(0,1,0)(2,1,0)[12]             : AIC=14910.414, Time=0.54 sec\n",
      " ARIMA(0,1,0)(2,1,1)[12]             : AIC=14902.436, Time=0.81 sec\n",
      " ARIMA(0,1,0)(2,1,2)[12]             : AIC=14871.836, Time=1.83 sec\n",
      " ARIMA(0,1,1)(0,1,0)[12]             : AIC=15152.093, Time=0.11 sec\n",
      " ARIMA(0,1,1)(0,1,1)[12]             : AIC=14925.483, Time=0.31 sec\n",
      " ARIMA(0,1,1)(0,1,2)[12]             : AIC=14919.849, Time=1.02 sec\n",
      " ARIMA(0,1,1)(1,1,0)[12]             : AIC=15012.041, Time=0.31 sec\n",
      " ARIMA(0,1,1)(1,1,1)[12]             : AIC=14923.421, Time=0.49 sec\n",
      " ARIMA(0,1,1)(1,1,2)[12]             : AIC=14917.635, Time=3.00 sec\n",
      " ARIMA(0,1,1)(2,1,0)[12]             : AIC=14919.960, Time=0.94 sec\n",
      " ARIMA(0,1,1)(2,1,1)[12]             : AIC=14906.712, Time=1.35 sec\n",
      " ARIMA(0,1,1)(2,1,2)[12]             : AIC=14903.247, Time=1.97 sec\n",
      " ARIMA(0,1,2)(0,1,0)[12]             : AIC=15154.409, Time=0.17 sec\n",
      " ARIMA(0,1,2)(0,1,1)[12]             : AIC=14917.772, Time=0.44 sec\n",
      " ARIMA(0,1,2)(0,1,2)[12]             : AIC=14907.466, Time=1.18 sec\n",
      " ARIMA(0,1,2)(1,1,0)[12]             : AIC=15004.362, Time=0.38 sec\n",
      " ARIMA(0,1,2)(1,1,1)[12]             : AIC=14911.116, Time=0.63 sec\n",
      " ARIMA(0,1,2)(1,1,2)[12]             : AIC=14908.362, Time=2.91 sec\n",
      " ARIMA(0,1,2)(2,1,0)[12]             : AIC=14923.406, Time=1.06 sec\n",
      " ARIMA(0,1,2)(2,1,1)[12]             : AIC=14904.352, Time=1.45 sec\n",
      " ARIMA(0,1,3)(0,1,0)[12]             : AIC=15122.794, Time=0.22 sec\n",
      " ARIMA(0,1,3)(0,1,1)[12]             : AIC=14933.392, Time=0.62 sec\n",
      " ARIMA(0,1,3)(0,1,2)[12]             : AIC=14923.097, Time=1.52 sec\n",
      " ARIMA(0,1,3)(1,1,0)[12]             : AIC=15005.340, Time=0.47 sec\n",
      " ARIMA(0,1,3)(1,1,1)[12]             : AIC=14926.618, Time=0.86 sec\n",
      " ARIMA(0,1,3)(2,1,0)[12]             : AIC=14938.441, Time=1.42 sec\n",
      " ARIMA(0,1,4)(0,1,0)[12]             : AIC=15126.032, Time=0.36 sec\n",
      " ARIMA(0,1,4)(0,1,1)[12]             : AIC=14933.523, Time=1.16 sec\n",
      " ARIMA(0,1,4)(1,1,0)[12]             : AIC=15005.738, Time=0.61 sec\n",
      " ARIMA(0,1,5)(0,1,0)[12]             : AIC=15100.039, Time=0.61 sec\n",
      " ARIMA(1,1,0)(0,1,0)[12]             : AIC=15168.255, Time=0.03 sec\n",
      " ARIMA(1,1,0)(0,1,1)[12]             : AIC=14906.885, Time=0.31 sec\n",
      " ARIMA(1,1,0)(0,1,2)[12]             : AIC=14897.474, Time=0.94 sec\n",
      " ARIMA(1,1,0)(1,1,0)[12]             : AIC=15017.689, Time=0.28 sec\n",
      " ARIMA(1,1,0)(1,1,1)[12]             : AIC=14901.000, Time=0.49 sec\n",
      " ARIMA(1,1,0)(1,1,2)[12]             : AIC=14822.500, Time=6.79 sec\n",
      " ARIMA(1,1,0)(2,1,0)[12]             : AIC=14915.179, Time=0.88 sec\n",
      " ARIMA(1,1,0)(2,1,1)[12]             : AIC=14891.225, Time=1.77 sec\n",
      " ARIMA(1,1,0)(2,1,2)[12]             : AIC=14892.116, Time=1.99 sec\n",
      " ARIMA(1,1,1)(0,1,0)[12]             : AIC=15153.940, Time=0.19 sec\n",
      " ARIMA(1,1,1)(0,1,1)[12]             : AIC=14908.783, Time=0.50 sec\n",
      " ARIMA(1,1,1)(0,1,2)[12]             : AIC=inf, Time=7.60 sec\n",
      " ARIMA(1,1,1)(1,1,0)[12]             : AIC=15008.247, Time=0.70 sec\n",
      " ARIMA(1,1,1)(1,1,1)[12]             : AIC=inf, Time=1.95 sec\n",
      " ARIMA(1,1,1)(1,1,2)[12]             : AIC=inf, Time=6.85 sec\n",
      " ARIMA(1,1,1)(2,1,0)[12]             : AIC=14917.111, Time=1.61 sec\n",
      " ARIMA(1,1,1)(2,1,1)[12]             : AIC=14817.775, Time=4.65 sec\n",
      " ARIMA(1,1,2)(0,1,0)[12]             : AIC=15140.427, Time=0.51 sec\n",
      " ARIMA(1,1,2)(0,1,1)[12]             : AIC=inf, Time=1.36 sec\n",
      " ARIMA(1,1,2)(0,1,2)[12]             : AIC=inf, Time=4.41 sec\n",
      " ARIMA(1,1,2)(1,1,0)[12]             : AIC=15001.215, Time=1.40 sec\n",
      " ARIMA(1,1,2)(1,1,1)[12]             : AIC=inf, Time=1.73 sec\n",
      " ARIMA(1,1,2)(2,1,0)[12]             : AIC=14870.855, Time=2.98 sec\n",
      " ARIMA(1,1,3)(0,1,0)[12]             : AIC=15116.134, Time=0.54 sec\n",
      " ARIMA(1,1,3)(0,1,1)[12]             : AIC=inf, Time=2.79 sec\n",
      " ARIMA(1,1,3)(1,1,0)[12]             : AIC=14973.579, Time=1.09 sec\n",
      " ARIMA(1,1,4)(0,1,0)[12]             : AIC=15076.632, Time=1.11 sec\n",
      " ARIMA(2,1,0)(0,1,0)[12]             : AIC=15134.493, Time=0.05 sec\n",
      " ARIMA(2,1,0)(0,1,1)[12]             : AIC=14895.117, Time=0.54 sec\n",
      " ARIMA(2,1,0)(0,1,2)[12]             : AIC=14884.191, Time=1.82 sec\n",
      " ARIMA(2,1,0)(1,1,0)[12]             : AIC=14984.962, Time=0.43 sec\n",
      " ARIMA(2,1,0)(1,1,1)[12]             : AIC=14888.418, Time=0.70 sec\n",
      " ARIMA(2,1,0)(1,1,2)[12]             : AIC=14884.799, Time=3.03 sec\n",
      " ARIMA(2,1,0)(2,1,0)[12]             : AIC=14903.961, Time=1.36 sec\n",
      " ARIMA(2,1,0)(2,1,1)[12]             : AIC=14873.993, Time=2.22 sec\n",
      " ARIMA(2,1,1)(0,1,0)[12]             : AIC=15112.790, Time=0.29 sec\n",
      " ARIMA(2,1,1)(0,1,1)[12]             : AIC=inf, Time=3.08 sec\n",
      " ARIMA(2,1,1)(0,1,2)[12]             : AIC=inf, Time=6.41 sec\n",
      " ARIMA(2,1,1)(1,1,0)[12]             : AIC=14961.958, Time=0.75 sec\n",
      " ARIMA(2,1,1)(1,1,1)[12]             : AIC=inf, Time=1.69 sec\n",
      " ARIMA(2,1,1)(2,1,0)[12]             : AIC=14872.421, Time=3.51 sec\n",
      " ARIMA(2,1,2)(0,1,0)[12]             : AIC=14915.038, Time=0.92 sec\n",
      " ARIMA(2,1,2)(0,1,1)[12]             : AIC=inf, Time=2.86 sec\n",
      " ARIMA(2,1,2)(1,1,0)[12]             : AIC=14781.680, Time=2.00 sec\n",
      " ARIMA(2,1,3)(0,1,0)[12]             : AIC=14893.278, Time=0.62 sec\n",
      " ARIMA(3,1,0)(0,1,0)[12]             : AIC=15118.461, Time=0.06 sec\n",
      " ARIMA(3,1,0)(0,1,1)[12]             : AIC=14890.390, Time=0.71 sec\n",
      " ARIMA(3,1,0)(0,1,2)[12]             : AIC=14879.536, Time=2.31 sec\n",
      " ARIMA(3,1,0)(1,1,0)[12]             : AIC=14942.320, Time=0.57 sec\n",
      " ARIMA(3,1,0)(1,1,1)[12]             : AIC=14883.894, Time=1.08 sec\n",
      " ARIMA(3,1,0)(2,1,0)[12]             : AIC=14898.934, Time=2.20 sec\n",
      " ARIMA(3,1,1)(0,1,0)[12]             : AIC=15109.102, Time=0.60 sec\n",
      " ARIMA(3,1,1)(0,1,1)[12]             : AIC=14892.906, Time=1.56 sec\n",
      " ARIMA(3,1,1)(1,1,0)[12]             : AIC=14942.948, Time=0.80 sec\n",
      " ARIMA(3,1,2)(0,1,0)[12]             : AIC=14900.953, Time=1.46 sec\n",
      " ARIMA(4,1,0)(0,1,0)[12]             : AIC=15103.266, Time=0.07 sec\n",
      " ARIMA(4,1,0)(0,1,1)[12]             : AIC=inf, Time=0.99 sec\n",
      " ARIMA(4,1,0)(1,1,0)[12]             : AIC=14936.288, Time=0.68 sec\n",
      " ARIMA(4,1,1)(0,1,0)[12]             : AIC=15100.645, Time=0.39 sec\n",
      " ARIMA(5,1,0)(0,1,0)[12]             : AIC=15077.612, Time=0.85 sec\n",
      "\n",
      "Best model:  ARIMA(2,1,2)(1,1,0)[12]          \n",
      "Total fit time: 134.016 seconds\n"
     ]
    }
   ],
   "source": [
    "stepwise1=auto_arima(data,start_p=1,start_q=1,max_p=6,max_q=6,m=12,start_P=0,seasonal=True,d=1,D=1,trace=True,\n",
    "                    error_action='ignore',suppress_warnings=True,stepwise=False)"
   ]
  },
  {
   "cell_type": "markdown",
   "metadata": {},
   "source": [
    "O modelo com menor *AIC* foi um pouco diferente do anterior, pois o componente sazonal *D* é 1 ao invés de 2."
   ]
  },
  {
   "cell_type": "code",
   "execution_count": 109,
   "metadata": {},
   "outputs": [
    {
     "data": {
      "text/plain": [
       "ARIMA(order=(2, 1, 2), scoring_args={}, seasonal_order=(1, 1, 0, 12),\n",
       "      suppress_warnings=True, with_intercept=False)"
      ]
     },
     "execution_count": 109,
     "metadata": {},
     "output_type": "execute_result"
    }
   ],
   "source": [
    "stepwise1"
   ]
  },
  {
   "cell_type": "markdown",
   "metadata": {},
   "source": [
    "O *AIC* desse modelo foi um pouco maior que o anterior."
   ]
  },
  {
   "cell_type": "code",
   "execution_count": 110,
   "metadata": {},
   "outputs": [
    {
     "data": {
      "text/plain": [
       "14781.679864498466"
      ]
     },
     "execution_count": 110,
     "metadata": {},
     "output_type": "execute_result"
    }
   ],
   "source": [
    "stepwise1.aic()"
   ]
  },
  {
   "cell_type": "markdown",
   "metadata": {},
   "source": [
    "## Separando os dados de treino e de teste\n",
    "\n",
    "Vamos agora usar o *autoARIMA* para gerar uma validação do modelo. Para isso iremos separar os dados em treino e teste. Os dados de treino serão usado para treinar o *autoARIMA* e os dados de teste para comparar com as preisões geradas. Vamos separar as 12 últimas observações para dados de teste.\n",
    "\n",
    "Irei colocar os dados de treino de janeiro de 1985 até janeiro de 2016 e os dados de teste será de fevereiro de 2016 em diante."
   ]
  },
  {
   "cell_type": "code",
   "execution_count": 111,
   "metadata": {},
   "outputs": [],
   "source": [
    "total = len(data)\n",
    "t = int(total*0.33)\n",
    "train=data.iloc[:-t]\n",
    "test=data.iloc[-t:]"
   ]
  },
  {
   "cell_type": "markdown",
   "metadata": {},
   "source": [
    "Vamos treinar os modelos que geramos."
   ]
  },
  {
   "cell_type": "code",
   "execution_count": 112,
   "metadata": {},
   "outputs": [
    {
     "data": {
      "text/plain": [
       "ARIMA(order=(2, 1, 2), scoring_args={}, seasonal_order=(1, 1, 0, 12),\n",
       "      suppress_warnings=True, with_intercept=False)"
      ]
     },
     "execution_count": 112,
     "metadata": {},
     "output_type": "execute_result"
    }
   ],
   "source": [
    "stepwise.fit(train)\n",
    "stepwise1.fit(train)"
   ]
  },
  {
   "cell_type": "markdown",
   "metadata": {},
   "source": [
    "Vamos gerar as previsões de cada modelo."
   ]
  },
  {
   "cell_type": "code",
   "execution_count": 113,
   "metadata": {},
   "outputs": [],
   "source": [
    "future_forecast=stepwise.predict(len(test))\n",
    "future_forecast1=stepwise1.predict(len(test))"
   ]
  },
  {
   "cell_type": "markdown",
   "metadata": {},
   "source": [
    "Transformando as previsões em um *dataframe*."
   ]
  },
  {
   "cell_type": "code",
   "execution_count": 114,
   "metadata": {},
   "outputs": [],
   "source": [
    "future_forecast=pd.DataFrame(future_forecast,index=test.index, columns=['previsão modelo 1'])\n",
    "future_forecast1=pd.DataFrame(future_forecast1,index=test.index, columns=['previsão modelo 2'])"
   ]
  },
  {
   "cell_type": "markdown",
   "metadata": {},
   "source": [
    "Visualizando o *dataset* de previsões."
   ]
  },
  {
   "cell_type": "code",
   "execution_count": 115,
   "metadata": {},
   "outputs": [
    {
     "data": {
      "text/html": [
       "<div>\n",
       "<style scoped>\n",
       "    .dataframe tbody tr th:only-of-type {\n",
       "        vertical-align: middle;\n",
       "    }\n",
       "\n",
       "    .dataframe tbody tr th {\n",
       "        vertical-align: top;\n",
       "    }\n",
       "\n",
       "    .dataframe thead th {\n",
       "        text-align: right;\n",
       "    }\n",
       "</style>\n",
       "<table border=\"1\" class=\"dataframe\">\n",
       "  <thead>\n",
       "    <tr style=\"text-align: right;\">\n",
       "      <th></th>\n",
       "      <th>previsão modelo 1</th>\n",
       "    </tr>\n",
       "    <tr>\n",
       "      <th>date</th>\n",
       "      <th></th>\n",
       "    </tr>\n",
       "  </thead>\n",
       "  <tbody>\n",
       "    <tr>\n",
       "      <th>5/24/21</th>\n",
       "      <td>1.613603e+07</td>\n",
       "    </tr>\n",
       "    <tr>\n",
       "      <th>5/25/21</th>\n",
       "      <td>1.618838e+07</td>\n",
       "    </tr>\n",
       "    <tr>\n",
       "      <th>5/26/21</th>\n",
       "      <td>1.624660e+07</td>\n",
       "    </tr>\n",
       "    <tr>\n",
       "      <th>5/27/21</th>\n",
       "      <td>1.630637e+07</td>\n",
       "    </tr>\n",
       "    <tr>\n",
       "      <th>5/28/21</th>\n",
       "      <td>1.636650e+07</td>\n",
       "    </tr>\n",
       "    <tr>\n",
       "      <th>5/29/21</th>\n",
       "      <td>1.642997e+07</td>\n",
       "    </tr>\n",
       "    <tr>\n",
       "      <th>5/30/21</th>\n",
       "      <td>1.649827e+07</td>\n",
       "    </tr>\n",
       "    <tr>\n",
       "      <th>5/31/21</th>\n",
       "      <td>1.656428e+07</td>\n",
       "    </tr>\n",
       "    <tr>\n",
       "      <th>6/1/21</th>\n",
       "      <td>1.662122e+07</td>\n",
       "    </tr>\n",
       "    <tr>\n",
       "      <th>6/2/21</th>\n",
       "      <td>1.667962e+07</td>\n",
       "    </tr>\n",
       "  </tbody>\n",
       "</table>\n",
       "</div>"
      ],
      "text/plain": [
       "         previsão modelo 1\n",
       "date                      \n",
       "5/24/21       1.613603e+07\n",
       "5/25/21       1.618838e+07\n",
       "5/26/21       1.624660e+07\n",
       "5/27/21       1.630637e+07\n",
       "5/28/21       1.636650e+07\n",
       "5/29/21       1.642997e+07\n",
       "5/30/21       1.649827e+07\n",
       "5/31/21       1.656428e+07\n",
       "6/1/21        1.662122e+07\n",
       "6/2/21        1.667962e+07"
      ]
     },
     "execution_count": 115,
     "metadata": {},
     "output_type": "execute_result"
    }
   ],
   "source": [
    "future_forecast.head(10)"
   ]
  },
  {
   "cell_type": "code",
   "execution_count": 116,
   "metadata": {},
   "outputs": [
    {
     "data": {
      "text/html": [
       "<div>\n",
       "<style scoped>\n",
       "    .dataframe tbody tr th:only-of-type {\n",
       "        vertical-align: middle;\n",
       "    }\n",
       "\n",
       "    .dataframe tbody tr th {\n",
       "        vertical-align: top;\n",
       "    }\n",
       "\n",
       "    .dataframe thead th {\n",
       "        text-align: right;\n",
       "    }\n",
       "</style>\n",
       "<table border=\"1\" class=\"dataframe\">\n",
       "  <thead>\n",
       "    <tr style=\"text-align: right;\">\n",
       "      <th></th>\n",
       "      <th>previsão modelo 2</th>\n",
       "    </tr>\n",
       "    <tr>\n",
       "      <th>date</th>\n",
       "      <th></th>\n",
       "    </tr>\n",
       "  </thead>\n",
       "  <tbody>\n",
       "    <tr>\n",
       "      <th>5/24/21</th>\n",
       "      <td>1.612537e+07</td>\n",
       "    </tr>\n",
       "    <tr>\n",
       "      <th>5/25/21</th>\n",
       "      <td>1.617896e+07</td>\n",
       "    </tr>\n",
       "    <tr>\n",
       "      <th>5/26/21</th>\n",
       "      <td>1.623931e+07</td>\n",
       "    </tr>\n",
       "    <tr>\n",
       "      <th>5/27/21</th>\n",
       "      <td>1.630762e+07</td>\n",
       "    </tr>\n",
       "    <tr>\n",
       "      <th>5/28/21</th>\n",
       "      <td>1.639442e+07</td>\n",
       "    </tr>\n",
       "    <tr>\n",
       "      <th>5/29/21</th>\n",
       "      <td>1.645379e+07</td>\n",
       "    </tr>\n",
       "    <tr>\n",
       "      <th>5/30/21</th>\n",
       "      <td>1.650854e+07</td>\n",
       "    </tr>\n",
       "    <tr>\n",
       "      <th>5/31/21</th>\n",
       "      <td>1.656057e+07</td>\n",
       "    </tr>\n",
       "    <tr>\n",
       "      <th>6/1/21</th>\n",
       "      <td>1.661747e+07</td>\n",
       "    </tr>\n",
       "    <tr>\n",
       "      <th>6/2/21</th>\n",
       "      <td>1.668080e+07</td>\n",
       "    </tr>\n",
       "  </tbody>\n",
       "</table>\n",
       "</div>"
      ],
      "text/plain": [
       "         previsão modelo 2\n",
       "date                      \n",
       "5/24/21       1.612537e+07\n",
       "5/25/21       1.617896e+07\n",
       "5/26/21       1.623931e+07\n",
       "5/27/21       1.630762e+07\n",
       "5/28/21       1.639442e+07\n",
       "5/29/21       1.645379e+07\n",
       "5/30/21       1.650854e+07\n",
       "5/31/21       1.656057e+07\n",
       "6/1/21        1.661747e+07\n",
       "6/2/21        1.668080e+07"
      ]
     },
     "execution_count": 116,
     "metadata": {},
     "output_type": "execute_result"
    }
   ],
   "source": [
    "future_forecast1.head(10)"
   ]
  },
  {
   "cell_type": "markdown",
   "metadata": {},
   "source": [
    "Comparando graficamente os valores reais com as previsões, vemos que os resultados das previsões parecem acompanhar bem o valores reais."
   ]
  },
  {
   "cell_type": "code",
   "execution_count": 117,
   "metadata": {},
   "outputs": [
    {
     "data": {
      "text/plain": [
       "<Figure size 1440x360 with 0 Axes>"
      ]
     },
     "metadata": {},
     "output_type": "display_data"
    },
    {
     "data": {
      "image/png": "[encoded data removed]",
      "text/plain": [
       "<Figure size 1440x360 with 1 Axes>"
      ]
     },
     "metadata": {
      "needs_background": "light"
     },
     "output_type": "display_data"
    }
   ],
   "source": [
    "plt.figure(figsize=(20,5))\n",
    "pd.concat([test,future_forecast,future_forecast1],axis=1).plot(figsize=(20,5))\n",
    "plt.xlabel('')\n",
    "plt.title('Previsões X Real',size=15)\n",
    "plt.legend(['Valor real','previsão 1','previsão 2'])\n",
    "plt.show();"
   ]
  },
  {
   "cell_type": "code",
   "execution_count": 118,
   "metadata": {},
   "outputs": [
    {
     "data": {
      "image/png": "[encoded data removed]",
      "text/plain": [
       "<Figure size 1440x360 with 1 Axes>"
      ]
     },
     "metadata": {
      "needs_background": "light"
     },
     "output_type": "display_data"
    }
   ],
   "source": [
    "pd.concat([data,future_forecast],axis=1).plot(linewidth=1,figsize=(20,5))\n",
    "plt.legend('')\n",
    "plt.xlabel('')\n",
    "plt.title('Previsões X Real',size=15)\n",
    "plt.show();"
   ]
  },
  {
   "cell_type": "code",
   "execution_count": 119,
   "metadata": {},
   "outputs": [
    {
     "data": {
      "image/png": "[encoded data removed]",
      "text/plain": [
       "<Figure size 1440x360 with 1 Axes>"
      ]
     },
     "metadata": {
      "needs_background": "light"
     },
     "output_type": "display_data"
    }
   ],
   "source": [
    "pd.concat([data,future_forecast1],axis=1).plot(linewidth=1, figsize=(20,5))\n",
    "plt.legend('')\n",
    "plt.xlabel('')\n",
    "plt.title('Previsões X Real',size=15)\n",
    "plt.show();"
   ]
  },
  {
   "cell_type": "markdown",
   "metadata": {},
   "source": [
    "## Sumário dos modelos\n",
    "\n",
    "Abaixo podemos conferir os sumários dos modelos com seus coeficientes, estatísticas e p-valores.\n",
    "\n",
    "Podemos ver que no sumário em *model* que no valor do *D* está [1,2], ou seja, já está informando a possibilidade de ser com *D* igual a 1 ou *D* igual a 2, mas o restante do sumário diz respeito ao modelo 1."
   ]
  },
  {
   "cell_type": "code",
   "execution_count": 120,
   "metadata": {},
   "outputs": [
    {
     "data": {
      "text/html": [
       "<table class=\"simpletable\">\n",
       "<caption>SARIMAX Results</caption>\n",
       "<tr>\n",
       "  <th>Dep. Variable:</th>                    <td>y</td>                  <th>  No. Observations:  </th>    <td>453</td>   \n",
       "</tr>\n",
       "<tr>\n",
       "  <th>Model:</th>           <td>SARIMAX(1, 1, 0)x(1, 1, [1, 2], 12)</td> <th>  Log Likelihood     </th> <td>-4928.823</td>\n",
       "</tr>\n",
       "<tr>\n",
       "  <th>Date:</th>                     <td>Sat, 22 Jan 2022</td>           <th>  AIC                </th> <td>9867.645</td> \n",
       "</tr>\n",
       "<tr>\n",
       "  <th>Time:</th>                         <td>17:35:16</td>               <th>  BIC                </th> <td>9888.079</td> \n",
       "</tr>\n",
       "<tr>\n",
       "  <th>Sample:</th>                           <td>0</td>                  <th>  HQIC               </th> <td>9875.707</td> \n",
       "</tr>\n",
       "<tr>\n",
       "  <th></th>                               <td> - 453</td>                <th>                     </th>     <td> </td>    \n",
       "</tr>\n",
       "<tr>\n",
       "  <th>Covariance Type:</th>                 <td>opg</td>                 <th>                     </th>     <td> </td>    \n",
       "</tr>\n",
       "</table>\n",
       "<table class=\"simpletable\">\n",
       "<tr>\n",
       "      <td></td>        <th>coef</th>     <th>std err</th>      <th>z</th>      <th>P>|z|</th>  <th>[0.025</th>    <th>0.975]</th>  \n",
       "</tr>\n",
       "<tr>\n",
       "  <th>ar.L1</th>    <td>    0.5631</td> <td>    0.059</td> <td>    9.616</td> <td> 0.000</td> <td>    0.448</td> <td>    0.678</td>\n",
       "</tr>\n",
       "<tr>\n",
       "  <th>ar.S.L12</th> <td>    0.1320</td> <td>    0.443</td> <td>    0.298</td> <td> 0.766</td> <td>   -0.737</td> <td>    1.001</td>\n",
       "</tr>\n",
       "<tr>\n",
       "  <th>ma.S.L12</th> <td>   -1.0981</td> <td>    0.422</td> <td>   -2.599</td> <td> 0.009</td> <td>   -1.926</td> <td>   -0.270</td>\n",
       "</tr>\n",
       "<tr>\n",
       "  <th>ma.S.L24</th> <td>    0.3071</td> <td>    0.343</td> <td>    0.897</td> <td> 0.370</td> <td>   -0.364</td> <td>    0.978</td>\n",
       "</tr>\n",
       "<tr>\n",
       "  <th>sigma2</th>   <td> 4.838e+08</td> <td> 7.03e-10</td> <td> 6.88e+17</td> <td> 0.000</td> <td> 4.84e+08</td> <td> 4.84e+08</td>\n",
       "</tr>\n",
       "</table>\n",
       "<table class=\"simpletable\">\n",
       "<tr>\n",
       "  <th>Ljung-Box (L1) (Q):</th>     <td>1.52</td> <th>  Jarque-Bera (JB):  </th> <td>55.00</td>\n",
       "</tr>\n",
       "<tr>\n",
       "  <th>Prob(Q):</th>                <td>0.22</td> <th>  Prob(JB):          </th> <td>0.00</td> \n",
       "</tr>\n",
       "<tr>\n",
       "  <th>Heteroskedasticity (H):</th> <td>5.18</td> <th>  Skew:              </th> <td>0.05</td> \n",
       "</tr>\n",
       "<tr>\n",
       "  <th>Prob(H) (two-sided):</th>    <td>0.00</td> <th>  Kurtosis:          </th> <td>4.73</td> \n",
       "</tr>\n",
       "</table><br/><br/>Warnings:<br/>[1] Covariance matrix calculated using the outer product of gradients (complex-step).<br/>[2] Covariance matrix is singular or near-singular, with condition number 2.73e+34. Standard errors may be unstable."
      ],
      "text/plain": [
       "<class 'statsmodels.iolib.summary.Summary'>\n",
       "\"\"\"\n",
       "                                        SARIMAX Results                                        \n",
       "===============================================================================================\n",
       "Dep. Variable:                                       y   No. Observations:                  453\n",
       "Model:             SARIMAX(1, 1, 0)x(1, 1, [1, 2], 12)   Log Likelihood               -4928.823\n",
       "Date:                                 Sat, 22 Jan 2022   AIC                           9867.645\n",
       "Time:                                         17:35:16   BIC                           9888.079\n",
       "Sample:                                              0   HQIC                          9875.707\n",
       "                                                 - 453                                         \n",
       "Covariance Type:                                   opg                                         \n",
       "==============================================================================\n",
       "                 coef    std err          z      P>|z|      [0.025      0.975]\n",
       "------------------------------------------------------------------------------\n",
       "ar.L1          0.5631      0.059      9.616      0.000       0.448       0.678\n",
       "ar.S.L12       0.1320      0.443      0.298      0.766      -0.737       1.001\n",
       "ma.S.L12      -1.0981      0.422     -2.599      0.009      -1.926      -0.270\n",
       "ma.S.L24       0.3071      0.343      0.897      0.370      -0.364       0.978\n",
       "sigma2      4.838e+08   7.03e-10   6.88e+17      0.000    4.84e+08    4.84e+08\n",
       "===================================================================================\n",
       "Ljung-Box (L1) (Q):                   1.52   Jarque-Bera (JB):                55.00\n",
       "Prob(Q):                              0.22   Prob(JB):                         0.00\n",
       "Heteroskedasticity (H):               5.18   Skew:                             0.05\n",
       "Prob(H) (two-sided):                  0.00   Kurtosis:                         4.73\n",
       "===================================================================================\n",
       "\n",
       "Warnings:\n",
       "[1] Covariance matrix calculated using the outer product of gradients (complex-step).\n",
       "[2] Covariance matrix is singular or near-singular, with condition number 2.73e+34. Standard errors may be unstable.\n",
       "\"\"\""
      ]
     },
     "execution_count": 120,
     "metadata": {},
     "output_type": "execute_result"
    }
   ],
   "source": [
    "stepwise.summary()"
   ]
  },
  {
   "cell_type": "markdown",
   "metadata": {},
   "source": [
    "Simário do modelo 2."
   ]
  },
  {
   "cell_type": "code",
   "execution_count": 121,
   "metadata": {},
   "outputs": [
    {
     "data": {
      "text/html": [
       "<table class=\"simpletable\">\n",
       "<caption>SARIMAX Results</caption>\n",
       "<tr>\n",
       "  <th>Dep. Variable:</th>                  <td>y</td>                <th>  No. Observations:  </th>    <td>453</td>   \n",
       "</tr>\n",
       "<tr>\n",
       "  <th>Model:</th>           <td>SARIMAX(2, 1, 2)x(1, 1, [], 12)</td> <th>  Log Likelihood     </th> <td>-4874.520</td>\n",
       "</tr>\n",
       "<tr>\n",
       "  <th>Date:</th>                   <td>Sat, 22 Jan 2022</td>         <th>  AIC                </th> <td>9761.041</td> \n",
       "</tr>\n",
       "<tr>\n",
       "  <th>Time:</th>                       <td>17:35:16</td>             <th>  BIC                </th> <td>9785.561</td> \n",
       "</tr>\n",
       "<tr>\n",
       "  <th>Sample:</th>                         <td>0</td>                <th>  HQIC               </th> <td>9770.714</td> \n",
       "</tr>\n",
       "<tr>\n",
       "  <th></th>                             <td> - 453</td>              <th>                     </th>     <td> </td>    \n",
       "</tr>\n",
       "<tr>\n",
       "  <th>Covariance Type:</th>               <td>opg</td>               <th>                     </th>     <td> </td>    \n",
       "</tr>\n",
       "</table>\n",
       "<table class=\"simpletable\">\n",
       "<tr>\n",
       "      <td></td>        <th>coef</th>     <th>std err</th>      <th>z</th>      <th>P>|z|</th>  <th>[0.025</th>    <th>0.975]</th>  \n",
       "</tr>\n",
       "<tr>\n",
       "  <th>ar.L1</th>    <td>    1.2210</td> <td>    0.022</td> <td>   56.192</td> <td> 0.000</td> <td>    1.178</td> <td>    1.264</td>\n",
       "</tr>\n",
       "<tr>\n",
       "  <th>ar.L2</th>    <td>   -0.9755</td> <td>    0.020</td> <td>  -48.513</td> <td> 0.000</td> <td>   -1.015</td> <td>   -0.936</td>\n",
       "</tr>\n",
       "<tr>\n",
       "  <th>ma.L1</th>    <td>   -0.9944</td> <td>    0.032</td> <td>  -30.926</td> <td> 0.000</td> <td>   -1.057</td> <td>   -0.931</td>\n",
       "</tr>\n",
       "<tr>\n",
       "  <th>ma.L2</th>    <td>    0.9386</td> <td>    0.036</td> <td>   26.039</td> <td> 0.000</td> <td>    0.868</td> <td>    1.009</td>\n",
       "</tr>\n",
       "<tr>\n",
       "  <th>ar.S.L12</th> <td>   -0.6005</td> <td>    0.075</td> <td>   -8.025</td> <td> 0.000</td> <td>   -0.747</td> <td>   -0.454</td>\n",
       "</tr>\n",
       "<tr>\n",
       "  <th>sigma2</th>   <td> 4.083e+08</td> <td> 2.89e-11</td> <td> 1.41e+19</td> <td> 0.000</td> <td> 4.08e+08</td> <td> 4.08e+08</td>\n",
       "</tr>\n",
       "</table>\n",
       "<table class=\"simpletable\">\n",
       "<tr>\n",
       "  <th>Ljung-Box (L1) (Q):</th>     <td>0.24</td> <th>  Jarque-Bera (JB):  </th> <td>29.69</td>\n",
       "</tr>\n",
       "<tr>\n",
       "  <th>Prob(Q):</th>                <td>0.62</td> <th>  Prob(JB):          </th> <td>0.00</td> \n",
       "</tr>\n",
       "<tr>\n",
       "  <th>Heteroskedasticity (H):</th> <td>4.57</td> <th>  Skew:              </th> <td>-0.12</td>\n",
       "</tr>\n",
       "<tr>\n",
       "  <th>Prob(H) (two-sided):</th>    <td>0.00</td> <th>  Kurtosis:          </th> <td>4.25</td> \n",
       "</tr>\n",
       "</table><br/><br/>Warnings:<br/>[1] Covariance matrix calculated using the outer product of gradients (complex-step).<br/>[2] Covariance matrix is singular or near-singular, with condition number 1.48e+35. Standard errors may be unstable."
      ],
      "text/plain": [
       "<class 'statsmodels.iolib.summary.Summary'>\n",
       "\"\"\"\n",
       "                                      SARIMAX Results                                      \n",
       "===========================================================================================\n",
       "Dep. Variable:                                   y   No. Observations:                  453\n",
       "Model:             SARIMAX(2, 1, 2)x(1, 1, [], 12)   Log Likelihood               -4874.520\n",
       "Date:                             Sat, 22 Jan 2022   AIC                           9761.041\n",
       "Time:                                     17:35:16   BIC                           9785.561\n",
       "Sample:                                          0   HQIC                          9770.714\n",
       "                                             - 453                                         \n",
       "Covariance Type:                               opg                                         \n",
       "==============================================================================\n",
       "                 coef    std err          z      P>|z|      [0.025      0.975]\n",
       "------------------------------------------------------------------------------\n",
       "ar.L1          1.2210      0.022     56.192      0.000       1.178       1.264\n",
       "ar.L2         -0.9755      0.020    -48.513      0.000      -1.015      -0.936\n",
       "ma.L1         -0.9944      0.032    -30.926      0.000      -1.057      -0.931\n",
       "ma.L2          0.9386      0.036     26.039      0.000       0.868       1.009\n",
       "ar.S.L12      -0.6005      0.075     -8.025      0.000      -0.747      -0.454\n",
       "sigma2      4.083e+08   2.89e-11   1.41e+19      0.000    4.08e+08    4.08e+08\n",
       "===================================================================================\n",
       "Ljung-Box (L1) (Q):                   0.24   Jarque-Bera (JB):                29.69\n",
       "Prob(Q):                              0.62   Prob(JB):                         0.00\n",
       "Heteroskedasticity (H):               4.57   Skew:                            -0.12\n",
       "Prob(H) (two-sided):                  0.00   Kurtosis:                         4.25\n",
       "===================================================================================\n",
       "\n",
       "Warnings:\n",
       "[1] Covariance matrix calculated using the outer product of gradients (complex-step).\n",
       "[2] Covariance matrix is singular or near-singular, with condition number 1.48e+35. Standard errors may be unstable.\n",
       "\"\"\""
      ]
     },
     "execution_count": 121,
     "metadata": {},
     "output_type": "execute_result"
    }
   ],
   "source": [
    "stepwise1.summary()"
   ]
  },
  {
   "cell_type": "markdown",
   "metadata": {},
   "source": [
    "## Análise dos resíduos\n",
    "\n",
    "Uma das principais etapas é a avaliação dos resíduos. Primeiramente vamos olhar o *rmse* que é umas das principais métricas para análise dos erros, onde ele compara valores reais com os preditos. Aqui é interessante que o resultado seja o mais próximo possível de zero.\n",
    "\n",
    "Podemos ver que o modelo com melhor desempenho foi o modelo 1."
   ]
  },
  {
   "cell_type": "code",
   "execution_count": 122,
   "metadata": {},
   "outputs": [
    {
     "name": "stdout",
     "output_type": "stream",
     "text": [
      "RMSE do modelo 1: 3571975.764\n",
      "\n",
      "RMSE do modelo 2: 3581340.438\n"
     ]
    }
   ],
   "source": [
    "print(\"RMSE do modelo 1: %.3f\" % np.sqrt(mean_squared_error(test, future_forecast)))\n",
    "print('')\n",
    "print(\"RMSE do modelo 2: %.3f\" % np.sqrt(mean_squared_error(test, future_forecast1)))"
   ]
  },
  {
   "cell_type": "markdown",
   "metadata": {},
   "source": [
    "Calculando os erros de cada um dos modelos."
   ]
  },
  {
   "cell_type": "code",
   "execution_count": 123,
   "metadata": {},
   "outputs": [],
   "source": [
    "erros=pd.DataFrame(np.array(future_forecast.values.tolist())-np.array(test.values.tolist()))\n",
    "\n",
    "erros1=pd.DataFrame(np.array(future_forecast1.values.tolist())-np.array(test.values.tolist()))"
   ]
  },
  {
   "cell_type": "markdown",
   "metadata": {},
   "source": [
    "Vamos ver graficamente a distribuião dos resíduos dos modelos: são bem semelhantes e se assemelham com uma distribuição normal."
   ]
  },
  {
   "cell_type": "code",
   "execution_count": 124,
   "metadata": {},
   "outputs": [
    {
     "name": "stderr",
     "output_type": "stream",
     "text": [
      "C:\\ProgramData\\Anaconda3\\lib\\site-packages\\seaborn\\distributions.py:2619: FutureWarning: `distplot` is a deprecated function and will be removed in a future version. Please adapt your code to use either `displot` (a figure-level function with similar flexibility) or `histplot` (an axes-level function for histograms).\n",
      "  warnings.warn(msg, FutureWarning)\n",
      "C:\\ProgramData\\Anaconda3\\lib\\site-packages\\seaborn\\distributions.py:2619: FutureWarning: `distplot` is a deprecated function and will be removed in a future version. Please adapt your code to use either `displot` (a figure-level function with similar flexibility) or `histplot` (an axes-level function for histograms).\n",
      "  warnings.warn(msg, FutureWarning)\n"
     ]
    },
    {
     "data": {
      "image/png": "[encoded data removed]",
      "text/plain": [
       "<Figure size 1440x360 with 2 Axes>"
      ]
     },
     "metadata": {
      "needs_background": "light"
     },
     "output_type": "display_data"
    }
   ],
   "source": [
    "fig, ax = plt.subplots(1,2,figsize=(20,5))\n",
    "sns.distplot(erros,ax=ax[0])\n",
    "sns.distplot(erros1,ax=ax[1], color='red');"
   ]
  },
  {
   "cell_type": "markdown",
   "metadata": {},
   "source": [
    "Podemos usar também a função *plot_diagnostic* para gerar os resíduos, o histograma dos resíduos, o gráfico QQ e o correlograma dos resíduos.\n",
    "\n",
    "Para o modelo *stepwise* podemos ver que os resíduos apresentam estar flutuando em torno do valor de zero e o seu histograma apresenta possuir um formato de sino. Vemos que o *KDE* do histograma está bem próximo do *KDE* de uma distribuição normal. No gráfio QQplot os valores estão, em sua maioria, em cima da linha vermelha, o que é uma evidência para normalidade; e por fim o correlograma não apresentou resultados estatisticamente significativo, rejeitando, então, a presença de autocorrelação serial."
   ]
  },
  {
   "cell_type": "code",
   "execution_count": 125,
   "metadata": {},
   "outputs": [
    {
     "name": "stderr",
     "output_type": "stream",
     "text": [
      "C:\\ProgramData\\Anaconda3\\lib\\site-packages\\statsmodels\\graphics\\gofplots.py:993: UserWarning: marker is redundantly defined by the 'marker' keyword argument and the fmt string \"bo\" (-> marker='o'). The keyword argument will take precedence.\n",
      "  ax.plot(x, y, fmt, **plot_style)\n"
     ]
    },
    {
     "data": {
      "image/png": "[encoded data removed]",
      "text/plain": [
       "<Figure size 720x432 with 4 Axes>"
      ]
     },
     "metadata": {
      "needs_background": "light"
     },
     "output_type": "display_data"
    }
   ],
   "source": [
    "stepwise.plot_diagnostics(figsize=(10,6));"
   ]
  },
  {
   "cell_type": "markdown",
   "metadata": {},
   "source": [
    "Assim como o modelo *stepwise* o modelo *stepwise1* apresenta resultados semelhantes."
   ]
  },
  {
   "cell_type": "code",
   "execution_count": 126,
   "metadata": {},
   "outputs": [
    {
     "name": "stderr",
     "output_type": "stream",
     "text": [
      "C:\\ProgramData\\Anaconda3\\lib\\site-packages\\statsmodels\\graphics\\gofplots.py:993: UserWarning: marker is redundantly defined by the 'marker' keyword argument and the fmt string \"bo\" (-> marker='o'). The keyword argument will take precedence.\n",
      "  ax.plot(x, y, fmt, **plot_style)\n"
     ]
    },
    {
     "data": {
      "image/png": "[encoded data removed]",
      "text/plain": [
       "<Figure size 720x432 with 4 Axes>"
      ]
     },
     "metadata": {
      "needs_background": "light"
     },
     "output_type": "display_data"
    }
   ],
   "source": [
    "stepwise1.plot_diagnostics(figsize=(10,6));"
   ]
  },
  {
   "cell_type": "markdown",
   "metadata": {},
   "source": [
    "### Teste de normalidade dos resíduos\n",
    "\n",
    "Para sabermos se a distribuição dos resíduos é ou não normal precisaremos realizar um teste estatístico chamado Teste de Normalidade *Jarque-Bera*. O teste Jarque-Bera testa se a distribuição dos dados é uma distribuição normal ($H_{0}$) em comparação com uma hipótese alternativa ($H_{1}$) em que os dados seguem alguma outra distribuição. A estatística do teste é baseada em dois momentos dos dados, a assimetria e a curtose, e possui uma $\\chi^{2}_{2;1-\\alpha}$ distribuição assintótica.\n",
    "\n",
    "A estatística do teste Jarque-Bera é dada pela equação abaixo:\n",
    "\n",
    "$S_{JB} = T\\bigg[\\frac{\\alpha_{1}^{2}}{6} + \\frac{\\big(\\alpha_{2} - 3\\big)^{2}}{24} \\bigg]$, onde $\\alpha_{1}$ é o coeficiente de assimetria e $\\alpha_{2}$ o coeficiente de curtose.\n",
    "\n",
    "Se $S_{JB} > \\chi^{2}_{2;1-\\alpha}$, devemos rejeitar $H_{0}$.\n",
    "\n",
    "Para o primeiro modelo o *p-value* teve um valor de 0.3746892, bem acima do nível de significância de 5% (que será o nosso padrão). Então podemos considerar que os resíduos do modelo 1 possuem uma distribuição normal."
   ]
  },
  {
   "cell_type": "code",
   "execution_count": 127,
   "metadata": {},
   "outputs": [
    {
     "name": "stdout",
     "output_type": "stream",
     "text": [
      "Estatística Jarque-Bera : [20.83652342]\n",
      "p-valor : [2.98817775e-05]\n",
      "Assimetria : [0.52360467]\n",
      "Curtose : [1.92484897]\n"
     ]
    }
   ],
   "source": [
    "test = jarque_bera(erros)\n",
    "print('Estatística Jarque-Bera :', test[0])\n",
    "print('p-valor :', test[1])\n",
    "print('Assimetria :', test[2])\n",
    "print('Curtose :',test[3])"
   ]
  },
  {
   "cell_type": "markdown",
   "metadata": {},
   "source": [
    "Para o modelo 2, o *p-value* foi um pouco maior (0.4257611) e também podemos considerar que seus resíduos são normais."
   ]
  },
  {
   "cell_type": "code",
   "execution_count": 128,
   "metadata": {},
   "outputs": [
    {
     "name": "stdout",
     "output_type": "stream",
     "text": [
      "Estatística Jarque-Bera : [20.83119624]\n",
      "p-valor : [2.99614765e-05]\n",
      "Assimetria : [0.52319061]\n",
      "Curtose : [1.92431065]\n"
     ]
    }
   ],
   "source": [
    "test1 = jarque_bera(erros1)\n",
    "print('Estatística Jarque-Bera :', test1[0])\n",
    "print('p-valor :', test1[1])\n",
    "print('Assimetria :', test1[2])\n",
    "print('Curtose :',test1[3])"
   ]
  },
  {
   "cell_type": "markdown",
   "metadata": {},
   "source": [
    "## Conclusão\n",
    "\n",
    "Para concluirmos levando em consideração a métrica de *RMSE* o modelo 1 foi melhor e pode ser escolhido para gerar previsões."
   ]
  },
  {
   "cell_type": "code",
   "execution_count": 129,
   "metadata": {},
   "outputs": [
    {
     "data": {
      "text/plain": [
       "ARIMA(order=(1, 1, 0), scoring_args={}, seasonal_order=(1, 1, 2, 12),\n",
       "      suppress_warnings=True, with_intercept=False)"
      ]
     },
     "execution_count": 129,
     "metadata": {},
     "output_type": "execute_result"
    }
   ],
   "source": [
    "stepwise.fit(data)"
   ]
  },
  {
   "cell_type": "markdown",
   "metadata": {},
   "source": [
    "Vamos criar 31 previsões para um futuro fora da séries original."
   ]
  },
  {
   "cell_type": "code",
   "execution_count": 136,
   "metadata": {},
   "outputs": [],
   "source": [
    "future_forecast2=stepwise.predict(n_periods=31)"
   ]
  },
  {
   "cell_type": "markdown",
   "metadata": {},
   "source": [
    "Vamos transformar em um *dataframe* e indexar para o tempo que queremos no futuro."
   ]
  },
  {
   "cell_type": "code",
   "execution_count": 137,
   "metadata": {},
   "outputs": [],
   "source": [
    "future_forecast2=pd.DataFrame(future_forecast2,columns=['nova previsão'])"
   ]
  },
  {
   "cell_type": "markdown",
   "metadata": {},
   "source": [
    "Vamos observar essas novas previsões."
   ]
  },
  {
   "cell_type": "code",
   "execution_count": 139,
   "metadata": {},
   "outputs": [
    {
     "data": {
      "text/html": [
       "<div>\n",
       "<style scoped>\n",
       "    .dataframe tbody tr th:only-of-type {\n",
       "        vertical-align: middle;\n",
       "    }\n",
       "\n",
       "    .dataframe tbody tr th {\n",
       "        vertical-align: top;\n",
       "    }\n",
       "\n",
       "    .dataframe thead th {\n",
       "        text-align: right;\n",
       "    }\n",
       "</style>\n",
       "<table border=\"1\" class=\"dataframe\">\n",
       "  <thead>\n",
       "    <tr style=\"text-align: right;\">\n",
       "      <th></th>\n",
       "      <th>nova previsão</th>\n",
       "    </tr>\n",
       "  </thead>\n",
       "  <tbody>\n",
       "    <tr>\n",
       "      <th>0</th>\n",
       "      <td>2.229967e+07</td>\n",
       "    </tr>\n",
       "    <tr>\n",
       "      <th>1</th>\n",
       "      <td>2.230737e+07</td>\n",
       "    </tr>\n",
       "    <tr>\n",
       "      <th>2</th>\n",
       "      <td>2.231142e+07</td>\n",
       "    </tr>\n",
       "    <tr>\n",
       "      <th>3</th>\n",
       "      <td>2.231796e+07</td>\n",
       "    </tr>\n",
       "    <tr>\n",
       "      <th>4</th>\n",
       "      <td>2.232402e+07</td>\n",
       "    </tr>\n",
       "    <tr>\n",
       "      <th>5</th>\n",
       "      <td>2.233116e+07</td>\n",
       "    </tr>\n",
       "    <tr>\n",
       "      <th>6</th>\n",
       "      <td>2.234051e+07</td>\n",
       "    </tr>\n",
       "    <tr>\n",
       "      <th>7</th>\n",
       "      <td>2.234799e+07</td>\n",
       "    </tr>\n",
       "    <tr>\n",
       "      <th>8</th>\n",
       "      <td>2.235327e+07</td>\n",
       "    </tr>\n",
       "    <tr>\n",
       "      <th>9</th>\n",
       "      <td>2.236015e+07</td>\n",
       "    </tr>\n",
       "    <tr>\n",
       "      <th>10</th>\n",
       "      <td>2.236702e+07</td>\n",
       "    </tr>\n",
       "    <tr>\n",
       "      <th>11</th>\n",
       "      <td>2.237650e+07</td>\n",
       "    </tr>\n",
       "    <tr>\n",
       "      <th>12</th>\n",
       "      <td>2.238325e+07</td>\n",
       "    </tr>\n",
       "    <tr>\n",
       "      <th>13</th>\n",
       "      <td>2.239043e+07</td>\n",
       "    </tr>\n",
       "    <tr>\n",
       "      <th>14</th>\n",
       "      <td>2.239342e+07</td>\n",
       "    </tr>\n",
       "    <tr>\n",
       "      <th>15</th>\n",
       "      <td>2.239655e+07</td>\n",
       "    </tr>\n",
       "    <tr>\n",
       "      <th>16</th>\n",
       "      <td>2.240179e+07</td>\n",
       "    </tr>\n",
       "    <tr>\n",
       "      <th>17</th>\n",
       "      <td>2.240790e+07</td>\n",
       "    </tr>\n",
       "    <tr>\n",
       "      <th>18</th>\n",
       "      <td>2.241756e+07</td>\n",
       "    </tr>\n",
       "    <tr>\n",
       "      <th>19</th>\n",
       "      <td>2.242432e+07</td>\n",
       "    </tr>\n",
       "    <tr>\n",
       "      <th>20</th>\n",
       "      <td>2.242918e+07</td>\n",
       "    </tr>\n",
       "    <tr>\n",
       "      <th>21</th>\n",
       "      <td>2.243570e+07</td>\n",
       "    </tr>\n",
       "    <tr>\n",
       "      <th>22</th>\n",
       "      <td>2.244240e+07</td>\n",
       "    </tr>\n",
       "    <tr>\n",
       "      <th>23</th>\n",
       "      <td>2.245196e+07</td>\n",
       "    </tr>\n",
       "    <tr>\n",
       "      <th>24</th>\n",
       "      <td>2.245836e+07</td>\n",
       "    </tr>\n",
       "    <tr>\n",
       "      <th>25</th>\n",
       "      <td>2.246538e+07</td>\n",
       "    </tr>\n",
       "    <tr>\n",
       "      <th>26</th>\n",
       "      <td>2.246789e+07</td>\n",
       "    </tr>\n",
       "    <tr>\n",
       "      <th>27</th>\n",
       "      <td>2.246931e+07</td>\n",
       "    </tr>\n",
       "    <tr>\n",
       "      <th>28</th>\n",
       "      <td>2.247415e+07</td>\n",
       "    </tr>\n",
       "    <tr>\n",
       "      <th>29</th>\n",
       "      <td>2.247975e+07</td>\n",
       "    </tr>\n",
       "    <tr>\n",
       "      <th>30</th>\n",
       "      <td>2.248957e+07</td>\n",
       "    </tr>\n",
       "  </tbody>\n",
       "</table>\n",
       "</div>"
      ],
      "text/plain": [
       "    nova previsão\n",
       "0    2.229967e+07\n",
       "1    2.230737e+07\n",
       "2    2.231142e+07\n",
       "3    2.231796e+07\n",
       "4    2.232402e+07\n",
       "5    2.233116e+07\n",
       "6    2.234051e+07\n",
       "7    2.234799e+07\n",
       "8    2.235327e+07\n",
       "9    2.236015e+07\n",
       "10   2.236702e+07\n",
       "11   2.237650e+07\n",
       "12   2.238325e+07\n",
       "13   2.239043e+07\n",
       "14   2.239342e+07\n",
       "15   2.239655e+07\n",
       "16   2.240179e+07\n",
       "17   2.240790e+07\n",
       "18   2.241756e+07\n",
       "19   2.242432e+07\n",
       "20   2.242918e+07\n",
       "21   2.243570e+07\n",
       "22   2.244240e+07\n",
       "23   2.245196e+07\n",
       "24   2.245836e+07\n",
       "25   2.246538e+07\n",
       "26   2.246789e+07\n",
       "27   2.246931e+07\n",
       "28   2.247415e+07\n",
       "29   2.247975e+07\n",
       "30   2.248957e+07"
      ]
     },
     "execution_count": 139,
     "metadata": {},
     "output_type": "execute_result"
    }
   ],
   "source": [
    "future_forecast2.head(31)"
   ]
  },
  {
   "cell_type": "markdown",
   "metadata": {},
   "source": [
    "E agora vamos ver graficamente."
   ]
  },
  {
   "cell_type": "code",
   "execution_count": 140,
   "metadata": {},
   "outputs": [
    {
     "data": {
      "text/plain": [
       "<Figure size 1440x360 with 0 Axes>"
      ]
     },
     "metadata": {},
     "output_type": "display_data"
    },
    {
     "data": {
      "image/png": "[encoded data removed]",
      "text/plain": [
       "<Figure size 1440x360 with 1 Axes>"
      ]
     },
     "metadata": {
      "needs_background": "light"
     },
     "output_type": "display_data"
    }
   ],
   "source": [
    "plt.figure(figsize=(20,5))\n",
    "pd.concat([future_forecast2],axis=1).plot(figsize=(20,5))\n",
    "plt.xlabel('')\n",
    "plt.title('Previsões nos próximos 31 dias',size=15)\n",
    "plt.legend(['Previsões'])\n",
    "plt.show();"
   ]
  }
 ],
 "metadata": {
  "kernelspec": {
   "display_name": "Python 3",
   "language": "python",
   "name": "python3"
  },
  "language_info": {
   "codemirror_mode": {
    "name": "ipython",
    "version": 3
   },
   "file_extension": ".py",
   "mimetype": "text/x-python",
   "name": "python",
   "nbconvert_exporter": "python",
   "pygments_lexer": "ipython3",
   "version": "3.8.11"
  }
 },
 "nbformat": 4,
 "nbformat_minor": 2
}
