{
 "cells": [
  {
   "cell_type": "markdown",
   "metadata": {},
   "source": [
    "# AutoARIMA em Python (BIBLIOTECA *PMDARIMA*)\n",
    "\n",
    "Uma das metodologias mais conhecidas em séries temporais é a Box-Jenkins, que são um conjunto de procedimentos que são realizados em uma certa sequência até encontramos o melhor modelo ARIMA. Porém, ao invés de realizarmos as etapas dessa metodologia, podemos escolher o modelo de forma automática e para isso existe a função auto.arima que é muito usada no software estatístico R. \n",
    "\n",
    "O objetivo desse pequeno projeto é usar o autoarima do pacote pmdarima (que não é um pacote muito conhecido do python) para previsão de séries temporais. Uma das vantagens do autoarima é que não é necessário interpretar as funções de autocorrelação e autocorrelação parcial para escolher o parâmetros p, P, d, D, q e Q. Podemos definí-los e o autoarima irá fazer as combinações desses parâmetros e gerará os AIC's e escolhe-se então o modelo de menor AIC.\n",
    "\n",
    "Usaremos uma base de dados de uma série temporal de consumo de energia elétrica que pode ser obtida [aqui](https://www.kaggle.com/zero101010/consumo-eletricocsv). A série tem periodicidade mensal e vai do ano de 1985 até o ano de 2017.\n",
    "\n",
    "## Importando das bibliotecas"
   ]
  },
  {
   "cell_type": "code",
   "execution_count": 40,
   "metadata": {},
   "outputs": [],
   "source": [
    "import pandas as pd\n",
    "import numpy as np\n",
    "import seaborn as sns\n",
    "from sklearn.metrics import mean_squared_error\n",
    "from statsmodels.stats.stattools import jarque_bera\n",
    "import matplotlib.pyplot as plt\n",
    "%matplotlib inline\n",
    "\n",
    "from pmdarima.arima import auto_arima"
   ]
  },
  {
   "cell_type": "code",
   "execution_count": 41,
   "metadata": {},
   "outputs": [],
   "source": [
    "from matplotlib.pyplot import rcParams\n",
    "rcParams['figure.figsize']=15,6"
   ]
  },
  {
   "cell_type": "markdown",
   "metadata": {},
   "source": [
    "## Importando da base de dados\n",
    "\n",
    "Irei colocar os dados indexados no formato de tempo correto."
   ]
  },
  {
   "cell_type": "code",
   "execution_count": 42,
   "metadata": {},
   "outputs": [],
   "source": [
    "dateparse= lambda dates:pd.datetime.strptime(dates,'%m-%d-%Y')"
   ]
  },
  {
   "cell_type": "markdown",
   "metadata": {},
   "source": [
    "Importando os dados."
   ]
  },
  {
   "cell_type": "code",
   "execution_count": 43,
   "metadata": {},
   "outputs": [],
   "source": [
    "data=pd.read_csv(\"datasets/countries/mortes_covid19_brazil_date.csv\",encoding='utf-8',index_col='date')"
   ]
  },
  {
   "cell_type": "markdown",
   "metadata": {},
   "source": [
    "Visualizando a base de dados."
   ]
  },
  {
   "cell_type": "code",
   "execution_count": 44,
   "metadata": {},
   "outputs": [
    {
     "data": {
      "text/html": [
       "<div>\n",
       "<style scoped>\n",
       "    .dataframe tbody tr th:only-of-type {\n",
       "        vertical-align: middle;\n",
       "    }\n",
       "\n",
       "    .dataframe tbody tr th {\n",
       "        vertical-align: top;\n",
       "    }\n",
       "\n",
       "    .dataframe thead th {\n",
       "        text-align: right;\n",
       "    }\n",
       "</style>\n",
       "<table border=\"1\" class=\"dataframe\">\n",
       "  <thead>\n",
       "    <tr style=\"text-align: right;\">\n",
       "      <th></th>\n",
       "      <th>Brazil</th>\n",
       "    </tr>\n",
       "    <tr>\n",
       "      <th>date</th>\n",
       "      <th></th>\n",
       "    </tr>\n",
       "  </thead>\n",
       "  <tbody>\n",
       "    <tr>\n",
       "      <th>3/17/20</th>\n",
       "      <td>1</td>\n",
       "    </tr>\n",
       "    <tr>\n",
       "      <th>3/18/20</th>\n",
       "      <td>3</td>\n",
       "    </tr>\n",
       "    <tr>\n",
       "      <th>3/19/20</th>\n",
       "      <td>6</td>\n",
       "    </tr>\n",
       "    <tr>\n",
       "      <th>3/20/20</th>\n",
       "      <td>11</td>\n",
       "    </tr>\n",
       "    <tr>\n",
       "      <th>3/21/20</th>\n",
       "      <td>15</td>\n",
       "    </tr>\n",
       "    <tr>\n",
       "      <th>3/22/20</th>\n",
       "      <td>25</td>\n",
       "    </tr>\n",
       "    <tr>\n",
       "      <th>3/23/20</th>\n",
       "      <td>34</td>\n",
       "    </tr>\n",
       "    <tr>\n",
       "      <th>3/24/20</th>\n",
       "      <td>46</td>\n",
       "    </tr>\n",
       "    <tr>\n",
       "      <th>3/25/20</th>\n",
       "      <td>59</td>\n",
       "    </tr>\n",
       "    <tr>\n",
       "      <th>3/26/20</th>\n",
       "      <td>77</td>\n",
       "    </tr>\n",
       "  </tbody>\n",
       "</table>\n",
       "</div>"
      ],
      "text/plain": [
       "         Brazil\n",
       "date           \n",
       "3/17/20       1\n",
       "3/18/20       3\n",
       "3/19/20       6\n",
       "3/20/20      11\n",
       "3/21/20      15\n",
       "3/22/20      25\n",
       "3/23/20      34\n",
       "3/24/20      46\n",
       "3/25/20      59\n",
       "3/26/20      77"
      ]
     },
     "execution_count": 44,
     "metadata": {},
     "output_type": "execute_result"
    }
   ],
   "source": [
    "data.head(10)"
   ]
  },
  {
   "cell_type": "markdown",
   "metadata": {},
   "source": [
    "Últimas observações da série."
   ]
  },
  {
   "cell_type": "code",
   "execution_count": 45,
   "metadata": {},
   "outputs": [
    {
     "data": {
      "text/html": [
       "<div>\n",
       "<style scoped>\n",
       "    .dataframe tbody tr th:only-of-type {\n",
       "        vertical-align: middle;\n",
       "    }\n",
       "\n",
       "    .dataframe tbody tr th {\n",
       "        vertical-align: top;\n",
       "    }\n",
       "\n",
       "    .dataframe thead th {\n",
       "        text-align: right;\n",
       "    }\n",
       "</style>\n",
       "<table border=\"1\" class=\"dataframe\">\n",
       "  <thead>\n",
       "    <tr style=\"text-align: right;\">\n",
       "      <th></th>\n",
       "      <th>Brazil</th>\n",
       "    </tr>\n",
       "    <tr>\n",
       "      <th>date</th>\n",
       "      <th></th>\n",
       "    </tr>\n",
       "  </thead>\n",
       "  <tbody>\n",
       "    <tr>\n",
       "      <th>12/22/21</th>\n",
       "      <td>618366</td>\n",
       "    </tr>\n",
       "    <tr>\n",
       "      <th>12/23/21</th>\n",
       "      <td>618492</td>\n",
       "    </tr>\n",
       "    <tr>\n",
       "      <th>12/24/21</th>\n",
       "      <td>618655</td>\n",
       "    </tr>\n",
       "    <tr>\n",
       "      <th>12/25/21</th>\n",
       "      <td>618686</td>\n",
       "    </tr>\n",
       "    <tr>\n",
       "      <th>12/26/21</th>\n",
       "      <td>618732</td>\n",
       "    </tr>\n",
       "    <tr>\n",
       "      <th>12/27/21</th>\n",
       "      <td>618797</td>\n",
       "    </tr>\n",
       "    <tr>\n",
       "      <th>12/28/21</th>\n",
       "      <td>618978</td>\n",
       "    </tr>\n",
       "    <tr>\n",
       "      <th>12/29/21</th>\n",
       "      <td>619095</td>\n",
       "    </tr>\n",
       "    <tr>\n",
       "      <th>12/30/21</th>\n",
       "      <td>619249</td>\n",
       "    </tr>\n",
       "    <tr>\n",
       "      <th>12/31/21</th>\n",
       "      <td>619334</td>\n",
       "    </tr>\n",
       "  </tbody>\n",
       "</table>\n",
       "</div>"
      ],
      "text/plain": [
       "          Brazil\n",
       "date            \n",
       "12/22/21  618366\n",
       "12/23/21  618492\n",
       "12/24/21  618655\n",
       "12/25/21  618686\n",
       "12/26/21  618732\n",
       "12/27/21  618797\n",
       "12/28/21  618978\n",
       "12/29/21  619095\n",
       "12/30/21  619249\n",
       "12/31/21  619334"
      ]
     },
     "execution_count": 45,
     "metadata": {},
     "output_type": "execute_result"
    }
   ],
   "source": [
    "data.tail(10)"
   ]
  },
  {
   "cell_type": "markdown",
   "metadata": {},
   "source": [
    "Dimensão da base de dados : tempos 1 coluna com 397 observações."
   ]
  },
  {
   "cell_type": "code",
   "execution_count": 46,
   "metadata": {},
   "outputs": [
    {
     "data": {
      "text/plain": [
       "(655, 1)"
      ]
     },
     "execution_count": 46,
     "metadata": {},
     "output_type": "execute_result"
    }
   ],
   "source": [
    "data.shape"
   ]
  },
  {
   "cell_type": "markdown",
   "metadata": {},
   "source": [
    "Informações sobre a base de dados."
   ]
  },
  {
   "cell_type": "code",
   "execution_count": 47,
   "metadata": {},
   "outputs": [
    {
     "name": "stdout",
     "output_type": "stream",
     "text": [
      "<class 'pandas.core.frame.DataFrame'>\n",
      "Index: 655 entries, 3/17/20 to 12/31/21\n",
      "Data columns (total 1 columns):\n",
      " #   Column  Non-Null Count  Dtype\n",
      "---  ------  --------------  -----\n",
      " 0   Brazil  655 non-null    int64\n",
      "dtypes: int64(1)\n",
      "memory usage: 10.2+ KB\n"
     ]
    }
   ],
   "source": [
    "data.info()"
   ]
  },
  {
   "cell_type": "markdown",
   "metadata": {},
   "source": [
    "Abaixo podemos ver a tabela estatística."
   ]
  },
  {
   "cell_type": "code",
   "execution_count": 48,
   "metadata": {},
   "outputs": [
    {
     "data": {
      "text/html": [
       "<div>\n",
       "<style scoped>\n",
       "    .dataframe tbody tr th:only-of-type {\n",
       "        vertical-align: middle;\n",
       "    }\n",
       "\n",
       "    .dataframe tbody tr th {\n",
       "        vertical-align: top;\n",
       "    }\n",
       "\n",
       "    .dataframe thead th {\n",
       "        text-align: right;\n",
       "    }\n",
       "</style>\n",
       "<table border=\"1\" class=\"dataframe\">\n",
       "  <thead>\n",
       "    <tr style=\"text-align: right;\">\n",
       "      <th></th>\n",
       "      <th>Brazil</th>\n",
       "    </tr>\n",
       "  </thead>\n",
       "  <tbody>\n",
       "    <tr>\n",
       "      <th>count</th>\n",
       "      <td>655.000000</td>\n",
       "    </tr>\n",
       "    <tr>\n",
       "      <th>mean</th>\n",
       "      <td>300281.007634</td>\n",
       "    </tr>\n",
       "    <tr>\n",
       "      <th>std</th>\n",
       "      <td>218671.709673</td>\n",
       "    </tr>\n",
       "    <tr>\n",
       "      <th>min</th>\n",
       "      <td>1.000000</td>\n",
       "    </tr>\n",
       "    <tr>\n",
       "      <th>25%</th>\n",
       "      <td>119248.500000</td>\n",
       "    </tr>\n",
       "    <tr>\n",
       "      <th>50%</th>\n",
       "      <td>231684.000000</td>\n",
       "    </tr>\n",
       "    <tr>\n",
       "      <th>75%</th>\n",
       "      <td>545232.000000</td>\n",
       "    </tr>\n",
       "    <tr>\n",
       "      <th>max</th>\n",
       "      <td>619334.000000</td>\n",
       "    </tr>\n",
       "  </tbody>\n",
       "</table>\n",
       "</div>"
      ],
      "text/plain": [
       "              Brazil\n",
       "count     655.000000\n",
       "mean   300281.007634\n",
       "std    218671.709673\n",
       "min         1.000000\n",
       "25%    119248.500000\n",
       "50%    231684.000000\n",
       "75%    545232.000000\n",
       "max    619334.000000"
      ]
     },
     "execution_count": 48,
     "metadata": {},
     "output_type": "execute_result"
    }
   ],
   "source": [
    "data.describe()"
   ]
  },
  {
   "cell_type": "markdown",
   "metadata": {},
   "source": [
    "Por fim, vamos visualizar graficamente a base de dados.\n",
    "\n",
    "Vemos que ela tem uma tendência, vai subindo e ao final se estabiliza e também deve-se notar a forte presença de saznalidade."
   ]
  },
  {
   "cell_type": "code",
   "execution_count": 49,
   "metadata": {},
   "outputs": [
    {
     "data": {
      "image/png": "[encoded data removed]",
      "text/plain": [
       "<Figure size 1080x432 with 1 Axes>"
      ]
     },
     "metadata": {
      "needs_background": "light"
     },
     "output_type": "display_data"
    }
   ],
   "source": [
    "data.plot()\n",
    "plt.xlabel('Meses',size=15)\n",
    "plt.ylabel('')\n",
    "plt.title('Mortes por COVID19 no Brasil',size=15)\n",
    "plt.show()"
   ]
  },
  {
   "cell_type": "markdown",
   "metadata": {},
   "source": [
    "## Aplicando o AutoARIMA\n",
    "\n",
    "Escolherei os parâmetros *p, d, q, P, D* e *Q*:\n",
    "\n",
    "1) o *p* vai variar entre 1 e 6;\n",
    "\n",
    "2) o *q* vai variar entre 1 e 6;\n",
    "\n",
    "3) a sazonalidade será mensal (m=12);\n",
    "\n",
    "4) o *P* iniciará em 0 e o máximo, por padrão, será 2;\n",
    "\n",
    "5) o *Q* por padrão será 1 e o máximo, por padrão, será 2;\n",
    "\n",
    "6) o *d* será 1 e o máximo, por padrão, será 2;\n",
    "\n",
    "7) o *D* será 1, por padrão já é 1.\n",
    "\n",
    "Vamos agora aplicar o processamento do *autoARIMA*.\n",
    "\n",
    "Vamos atribuir a uma variável o *autoARIMA*, que gerará vários modelos ARIMA e os seus respectivos AIC's e BICS (critérios de informação)."
   ]
  },
  {
   "cell_type": "code",
   "execution_count": 50,
   "metadata": {},
   "outputs": [
    {
     "name": "stdout",
     "output_type": "stream",
     "text": [
      "Performing stepwise search to minimize aic\n",
      " ARIMA(1,1,1)(0,1,1)[12]             : AIC=inf, Time=1.17 sec\n",
      " ARIMA(0,1,0)(0,1,0)[12]             : AIC=10091.313, Time=0.09 sec\n",
      " ARIMA(1,1,0)(1,1,0)[12]             : AIC=9793.490, Time=0.29 sec\n",
      " ARIMA(0,1,1)(0,1,1)[12]             : AIC=9600.985, Time=0.43 sec\n",
      " ARIMA(0,1,1)(0,1,0)[12]             : AIC=9789.188, Time=0.11 sec\n",
      " ARIMA(0,1,1)(1,1,1)[12]             : AIC=9602.985, Time=0.67 sec\n",
      " ARIMA(0,1,1)(0,1,2)[12]             : AIC=9602.985, Time=1.31 sec\n",
      " ARIMA(0,1,1)(1,1,0)[12]             : AIC=9680.931, Time=0.32 sec\n",
      " ARIMA(0,1,1)(1,1,2)[12]             : AIC=inf, Time=5.67 sec\n",
      " ARIMA(0,1,0)(0,1,1)[12]             : AIC=9964.275, Time=0.29 sec\n",
      " ARIMA(0,1,2)(0,1,1)[12]             : AIC=9554.249, Time=0.81 sec\n",
      " ARIMA(0,1,2)(0,1,0)[12]             : AIC=9789.076, Time=0.17 sec\n",
      " ARIMA(0,1,2)(1,1,1)[12]             : AIC=9545.802, Time=0.94 sec\n",
      " ARIMA(0,1,2)(1,1,0)[12]             : AIC=9631.943, Time=0.52 sec\n",
      " ARIMA(0,1,2)(2,1,1)[12]             : AIC=inf, Time=4.46 sec\n",
      " ARIMA(0,1,2)(1,1,2)[12]             : AIC=9547.713, Time=4.20 sec\n",
      " ARIMA(0,1,2)(0,1,2)[12]             : AIC=9547.695, Time=3.20 sec\n",
      " ARIMA(0,1,2)(2,1,0)[12]             : AIC=9570.070, Time=1.83 sec\n",
      " ARIMA(0,1,2)(2,1,2)[12]             : AIC=9529.746, Time=7.16 sec\n",
      " ARIMA(0,1,1)(2,1,2)[12]             : AIC=9574.071, Time=6.14 sec\n",
      " ARIMA(1,1,2)(2,1,2)[12]             : AIC=inf, Time=8.93 sec\n",
      " ARIMA(0,1,3)(2,1,2)[12]             : AIC=inf, Time=9.52 sec\n",
      " ARIMA(1,1,1)(2,1,2)[12]             : AIC=9575.824, Time=7.91 sec\n",
      " ARIMA(1,1,3)(2,1,2)[12]             : AIC=inf, Time=10.52 sec\n",
      " ARIMA(0,1,2)(2,1,2)[12] intercept   : AIC=9531.667, Time=9.21 sec\n",
      "\n",
      "Best model:  ARIMA(0,1,2)(2,1,2)[12]          \n",
      "Total fit time: 85.877 seconds\n"
     ]
    }
   ],
   "source": [
    "stepwise=auto_arima(data,start_p=1,start_q=1,max_p=6,max_q=6,m=22,start_P=0,seasonal=True,d=1,D=1,trace=True,\n",
    "                    error_action='ignore',suppress_warnings=True,stepwise=True)"
   ]
  },
  {
   "cell_type": "markdown",
   "metadata": {},
   "source": [
    "O modelo que foi gerado é um *SARIMA*(1,1,1)x(2,1,2,12)."
   ]
  },
  {
   "cell_type": "code",
   "execution_count": 51,
   "metadata": {},
   "outputs": [
    {
     "data": {
      "text/plain": [
       "ARIMA(order=(0, 1, 2), scoring_args={}, seasonal_order=(2, 1, 2, 12),\n",
       "      suppress_warnings=True, with_intercept=False)"
      ]
     },
     "execution_count": 51,
     "metadata": {},
     "output_type": "execute_result"
    }
   ],
   "source": [
    "stepwise"
   ]
  },
  {
   "cell_type": "markdown",
   "metadata": {},
   "source": [
    "Esse foi o model com menor *AIC* gerado."
   ]
  },
  {
   "cell_type": "code",
   "execution_count": 52,
   "metadata": {},
   "outputs": [
    {
     "data": {
      "text/plain": [
       "9529.745671394145"
      ]
     },
     "execution_count": 52,
     "metadata": {},
     "output_type": "execute_result"
    }
   ],
   "source": [
    "stepwise.aic()"
   ]
  },
  {
   "cell_type": "markdown",
   "metadata": {},
   "source": [
    "Podemos gerar ainda mais modelos colocando o parâmetro *stepwise* com *False*."
   ]
  },
  {
   "cell_type": "code",
   "execution_count": 53,
   "metadata": {},
   "outputs": [
    {
     "name": "stdout",
     "output_type": "stream",
     "text": [
      " ARIMA(0,1,0)(0,1,0)[23]             : AIC=10049.473, Time=0.09 sec\n",
      " ARIMA(0,1,0)(0,1,1)[23]             : AIC=10000.740, Time=1.23 sec\n",
      " ARIMA(0,1,0)(0,1,2)[23]             : AIC=9987.443, Time=5.52 sec\n",
      " ARIMA(0,1,0)(1,1,0)[23]             : AIC=10023.181, Time=0.78 sec\n",
      " ARIMA(0,1,0)(1,1,1)[23]             : AIC=inf, Time=3.94 sec\n",
      " ARIMA(0,1,0)(1,1,2)[23]             : AIC=9979.320, Time=9.53 sec\n",
      " ARIMA(0,1,0)(2,1,0)[23]             : AIC=9954.211, Time=3.49 sec\n",
      " ARIMA(0,1,0)(2,1,1)[23]             : AIC=9954.357, Time=2.70 sec\n",
      " ARIMA(0,1,0)(2,1,2)[23]             : AIC=9898.070, Time=12.90 sec\n",
      " ARIMA(0,1,1)(0,1,0)[23]             : AIC=9668.560, Time=0.34 sec\n",
      " ARIMA(0,1,1)(0,1,1)[23]             : AIC=9567.605, Time=2.42 sec\n",
      " ARIMA(0,1,1)(0,1,2)[23]             : AIC=9563.299, Time=7.85 sec\n",
      " ARIMA(0,1,1)(1,1,0)[23]             : AIC=9604.932, Time=1.40 sec\n",
      " ARIMA(0,1,1)(1,1,1)[23]             : AIC=inf, Time=4.81 sec\n",
      " ARIMA(0,1,1)(1,1,2)[23]             : AIC=9563.508, Time=22.41 sec\n",
      " ARIMA(0,1,1)(2,1,0)[23]             : AIC=9558.838, Time=5.38 sec\n",
      " ARIMA(0,1,1)(2,1,1)[23]             : AIC=9559.634, Time=8.62 sec\n",
      " ARIMA(0,1,1)(2,1,2)[23]             : AIC=9553.213, Time=16.49 sec\n",
      " ARIMA(0,1,2)(0,1,0)[23]             : AIC=9656.866, Time=0.45 sec\n",
      " ARIMA(0,1,2)(0,1,1)[23]             : AIC=9497.196, Time=4.36 sec\n",
      " ARIMA(0,1,2)(0,1,2)[23]             : AIC=9499.028, Time=13.19 sec\n",
      " ARIMA(0,1,2)(1,1,0)[23]             : AIC=9552.488, Time=1.14 sec\n",
      " ARIMA(0,1,2)(1,1,1)[23]             : AIC=inf, Time=9.04 sec\n",
      " ARIMA(0,1,2)(1,1,2)[23]             : AIC=9500.556, Time=20.19 sec\n",
      " ARIMA(0,1,2)(2,1,0)[23]             : AIC=9520.561, Time=6.82 sec\n",
      " ARIMA(0,1,2)(2,1,1)[23]             : AIC=inf, Time=17.31 sec\n",
      " ARIMA(0,1,3)(0,1,0)[23]             : AIC=9654.339, Time=0.74 sec\n",
      " ARIMA(0,1,3)(0,1,1)[23]             : AIC=9494.323, Time=8.73 sec\n",
      " ARIMA(0,1,3)(0,1,2)[23]             : AIC=inf, Time=18.38 sec\n",
      " ARIMA(0,1,3)(1,1,0)[23]             : AIC=9549.346, Time=4.40 sec\n",
      " ARIMA(0,1,3)(1,1,1)[23]             : AIC=inf, Time=7.91 sec\n",
      " ARIMA(0,1,3)(2,1,0)[23]             : AIC=9513.046, Time=12.50 sec\n",
      " ARIMA(0,1,4)(0,1,0)[23]             : AIC=9653.621, Time=2.06 sec\n",
      " ARIMA(0,1,4)(0,1,1)[23]             : AIC=inf, Time=12.97 sec\n",
      " ARIMA(0,1,4)(1,1,0)[23]             : AIC=9542.930, Time=4.89 sec\n",
      " ARIMA(0,1,5)(0,1,0)[23]             : AIC=9607.192, Time=3.59 sec\n",
      " ARIMA(1,1,0)(0,1,0)[23]             : AIC=9843.129, Time=0.12 sec\n",
      " ARIMA(1,1,0)(0,1,1)[23]             : AIC=inf, Time=2.60 sec\n",
      " ARIMA(1,1,0)(0,1,2)[23]             : AIC=inf, Time=7.57 sec\n",
      " ARIMA(1,1,0)(1,1,0)[23]             : AIC=9672.830, Time=2.67 sec\n",
      " ARIMA(1,1,0)(1,1,1)[23]             : AIC=inf, Time=3.43 sec\n",
      " ARIMA(1,1,0)(1,1,2)[23]             : AIC=inf, Time=20.79 sec\n",
      " ARIMA(1,1,0)(2,1,0)[23]             : AIC=9534.024, Time=11.00 sec\n",
      " ARIMA(1,1,0)(2,1,1)[23]             : AIC=inf, Time=18.88 sec\n",
      " ARIMA(1,1,0)(2,1,2)[23]             : AIC=inf, Time=27.04 sec\n",
      " ARIMA(1,1,1)(0,1,0)[23]             : AIC=9660.294, Time=0.44 sec\n",
      " ARIMA(1,1,1)(0,1,1)[23]             : AIC=inf, Time=4.84 sec\n",
      " ARIMA(1,1,1)(0,1,2)[23]             : AIC=inf, Time=18.65 sec\n",
      " ARIMA(1,1,1)(1,1,0)[23]             : AIC=9552.792, Time=2.34 sec\n",
      " ARIMA(1,1,1)(1,1,1)[23]             : AIC=inf, Time=8.42 sec\n",
      " ARIMA(1,1,1)(1,1,2)[23]             : AIC=inf, Time=23.10 sec\n",
      " ARIMA(1,1,1)(2,1,0)[23]             : AIC=9501.042, Time=10.52 sec\n",
      " ARIMA(1,1,1)(2,1,1)[23]             : AIC=inf, Time=24.19 sec\n",
      " ARIMA(1,1,2)(0,1,0)[23]             : AIC=9670.230, Time=1.51 sec\n",
      " ARIMA(1,1,2)(0,1,1)[23]             : AIC=inf, Time=6.68 sec\n",
      " ARIMA(1,1,2)(0,1,2)[23]             : AIC=inf, Time=20.86 sec\n",
      " ARIMA(1,1,2)(1,1,0)[23]             : AIC=9551.892, Time=2.66 sec\n",
      " ARIMA(1,1,2)(1,1,1)[23]             : AIC=inf, Time=10.79 sec\n",
      " ARIMA(1,1,2)(2,1,0)[23]             : AIC=9369.064, Time=20.02 sec\n",
      " ARIMA(1,1,3)(0,1,0)[23]             : AIC=9639.314, Time=1.97 sec\n",
      " ARIMA(1,1,3)(0,1,1)[23]             : AIC=inf, Time=12.49 sec\n",
      " ARIMA(1,1,3)(1,1,0)[23]             : AIC=9505.260, Time=7.24 sec\n",
      " ARIMA(1,1,4)(0,1,0)[23]             : AIC=9509.801, Time=2.55 sec\n",
      " ARIMA(2,1,0)(0,1,0)[23]             : AIC=9738.449, Time=0.16 sec\n",
      " ARIMA(2,1,0)(0,1,1)[23]             : AIC=inf, Time=4.97 sec\n",
      " ARIMA(2,1,0)(0,1,2)[23]             : AIC=inf, Time=10.20 sec\n",
      " ARIMA(2,1,0)(1,1,0)[23]             : AIC=9562.607, Time=3.07 sec\n",
      " ARIMA(2,1,0)(1,1,1)[23]             : AIC=inf, Time=4.51 sec\n",
      " ARIMA(2,1,0)(1,1,2)[23]             : AIC=inf, Time=21.80 sec\n",
      " ARIMA(2,1,0)(2,1,0)[23]             : AIC=9516.482, Time=9.29 sec\n",
      " ARIMA(2,1,0)(2,1,1)[23]             : AIC=inf, Time=19.75 sec\n",
      " ARIMA(2,1,1)(0,1,0)[23]             : AIC=9654.254, Time=0.53 sec\n",
      " ARIMA(2,1,1)(0,1,1)[23]             : AIC=inf, Time=7.81 sec\n",
      " ARIMA(2,1,1)(0,1,2)[23]             : AIC=inf, Time=27.29 sec\n",
      " ARIMA(2,1,1)(1,1,0)[23]             : AIC=9550.809, Time=4.40 sec\n",
      " ARIMA(2,1,1)(1,1,1)[23]             : AIC=inf, Time=11.23 sec\n"
     ]
    }
   ],
   "source": [
    "stepwise1=auto_arima(data,start_p=1,start_q=1,max_p=6,max_q=6,m=23,start_P=0,seasonal=True,d=1,D=1,trace=True,\n",
    "                    error_action='ignore',suppress_warnings=True,stepwise=False)"
   ]
  },
  {
   "cell_type": "markdown",
   "metadata": {},
   "source": [
    "O modelo com menor *AIC* foi um pouco diferente do anterior, pois o componente sazonal *D* é 1 ao invés de 2."
   ]
  },
  {
   "cell_type": "code",
   "execution_count": null,
   "metadata": {},
   "outputs": [
    {
     "data": {
      "text/plain": [
       "ARIMA(order=(3, 1, 0), scoring_args={}, seasonal_order=(2, 1, 0, 12),\n",
       "      suppress_warnings=True, with_intercept=False)"
      ]
     },
     "execution_count": 15,
     "metadata": {},
     "output_type": "execute_result"
    }
   ],
   "source": [
    "stepwise1"
   ]
  },
  {
   "cell_type": "markdown",
   "metadata": {},
   "source": [
    "O *AIC* desse modelo foi um pouco maior que o anterior."
   ]
  },
  {
   "cell_type": "code",
   "execution_count": null,
   "metadata": {},
   "outputs": [
    {
     "data": {
      "text/plain": [
       "9488.701091804325"
      ]
     },
     "execution_count": 16,
     "metadata": {},
     "output_type": "execute_result"
    }
   ],
   "source": [
    "stepwise1.aic()"
   ]
  },
  {
   "cell_type": "markdown",
   "metadata": {},
   "source": [
    "## Separando os dados de treino e de teste\n",
    "\n",
    "Vamos agora usar o *autoARIMA* para gerar uma validação do modelo. Para isso iremos separar os dados em treino e teste. Os dados de treino serão usado para treinar o *autoARIMA* e os dados de teste para comparar com as preisões geradas. Vamos separar as 12 últimas observações para dados de teste.\n",
    "\n",
    "Irei colocar os dados de treino de janeiro de 1985 até janeiro de 2016 e os dados de teste será de fevereiro de 2016 em diante."
   ]
  },
  {
   "cell_type": "code",
   "execution_count": null,
   "metadata": {},
   "outputs": [],
   "source": [
    "total = len(data)\n",
    "t = int(total*0.33)\n",
    "train=data.iloc[:-t]\n",
    "test=data.iloc[-t:]"
   ]
  },
  {
   "cell_type": "markdown",
   "metadata": {},
   "source": [
    "Vamos treinar os modelos que geramos."
   ]
  },
  {
   "cell_type": "code",
   "execution_count": null,
   "metadata": {},
   "outputs": [
    {
     "data": {
      "text/plain": [
       "ARIMA(order=(3, 1, 0), scoring_args={}, seasonal_order=(2, 1, 0, 12),\n",
       "      suppress_warnings=True, with_intercept=False)"
      ]
     },
     "execution_count": 18,
     "metadata": {},
     "output_type": "execute_result"
    }
   ],
   "source": [
    "stepwise.fit(train)\n",
    "stepwise1.fit(train)"
   ]
  },
  {
   "cell_type": "markdown",
   "metadata": {},
   "source": [
    "Vamos gerar as previsões de cada modelo."
   ]
  },
  {
   "cell_type": "code",
   "execution_count": null,
   "metadata": {},
   "outputs": [],
   "source": [
    "future_forecast=stepwise.predict(len(test))\n",
    "future_forecast1=stepwise1.predict(len(test))"
   ]
  },
  {
   "cell_type": "markdown",
   "metadata": {},
   "source": [
    "Transformando as previsões em um *dataframe*."
   ]
  },
  {
   "cell_type": "code",
   "execution_count": null,
   "metadata": {},
   "outputs": [],
   "source": [
    "future_forecast=pd.DataFrame(future_forecast,index=test.index, columns=['previsão modelo 1'])\n",
    "future_forecast1=pd.DataFrame(future_forecast1,index=test.index, columns=['previsão modelo 2'])"
   ]
  },
  {
   "cell_type": "markdown",
   "metadata": {},
   "source": [
    "Visualizando o *dataset* de previsões."
   ]
  },
  {
   "cell_type": "code",
   "execution_count": null,
   "metadata": {},
   "outputs": [
    {
     "data": {
      "text/html": [
       "<div>\n",
       "<style scoped>\n",
       "    .dataframe tbody tr th:only-of-type {\n",
       "        vertical-align: middle;\n",
       "    }\n",
       "\n",
       "    .dataframe tbody tr th {\n",
       "        vertical-align: top;\n",
       "    }\n",
       "\n",
       "    .dataframe thead th {\n",
       "        text-align: right;\n",
       "    }\n",
       "</style>\n",
       "<table border=\"1\" class=\"dataframe\">\n",
       "  <thead>\n",
       "    <tr style=\"text-align: right;\">\n",
       "      <th></th>\n",
       "      <th>previsão modelo 1</th>\n",
       "    </tr>\n",
       "    <tr>\n",
       "      <th>date</th>\n",
       "      <th></th>\n",
       "    </tr>\n",
       "  </thead>\n",
       "  <tbody>\n",
       "    <tr>\n",
       "      <th>5/30/21</th>\n",
       "      <td>463434.045312</td>\n",
       "    </tr>\n",
       "    <tr>\n",
       "      <th>5/31/21</th>\n",
       "      <td>464600.854295</td>\n",
       "    </tr>\n",
       "    <tr>\n",
       "      <th>6/1/21</th>\n",
       "      <td>466099.163733</td>\n",
       "    </tr>\n",
       "    <tr>\n",
       "      <th>6/2/21</th>\n",
       "      <td>468207.898647</td>\n",
       "    </tr>\n",
       "    <tr>\n",
       "      <th>6/3/21</th>\n",
       "      <td>470588.993901</td>\n",
       "    </tr>\n",
       "    <tr>\n",
       "      <th>6/4/21</th>\n",
       "      <td>472437.824807</td>\n",
       "    </tr>\n",
       "    <tr>\n",
       "      <th>6/5/21</th>\n",
       "      <td>473987.911580</td>\n",
       "    </tr>\n",
       "    <tr>\n",
       "      <th>6/6/21</th>\n",
       "      <td>475954.810522</td>\n",
       "    </tr>\n",
       "    <tr>\n",
       "      <th>6/7/21</th>\n",
       "      <td>477258.192077</td>\n",
       "    </tr>\n",
       "    <tr>\n",
       "      <th>6/8/21</th>\n",
       "      <td>478383.793218</td>\n",
       "    </tr>\n",
       "  </tbody>\n",
       "</table>\n",
       "</div>"
      ],
      "text/plain": [
       "         previsão modelo 1\n",
       "date                      \n",
       "5/30/21      463434.045312\n",
       "5/31/21      464600.854295\n",
       "6/1/21       466099.163733\n",
       "6/2/21       468207.898647\n",
       "6/3/21       470588.993901\n",
       "6/4/21       472437.824807\n",
       "6/5/21       473987.911580\n",
       "6/6/21       475954.810522\n",
       "6/7/21       477258.192077\n",
       "6/8/21       478383.793218"
      ]
     },
     "execution_count": 21,
     "metadata": {},
     "output_type": "execute_result"
    }
   ],
   "source": [
    "future_forecast.head(10)"
   ]
  },
  {
   "cell_type": "code",
   "execution_count": null,
   "metadata": {},
   "outputs": [
    {
     "data": {
      "text/html": [
       "<div>\n",
       "<style scoped>\n",
       "    .dataframe tbody tr th:only-of-type {\n",
       "        vertical-align: middle;\n",
       "    }\n",
       "\n",
       "    .dataframe tbody tr th {\n",
       "        vertical-align: top;\n",
       "    }\n",
       "\n",
       "    .dataframe thead th {\n",
       "        text-align: right;\n",
       "    }\n",
       "</style>\n",
       "<table border=\"1\" class=\"dataframe\">\n",
       "  <thead>\n",
       "    <tr style=\"text-align: right;\">\n",
       "      <th></th>\n",
       "      <th>previsão modelo 2</th>\n",
       "    </tr>\n",
       "    <tr>\n",
       "      <th>date</th>\n",
       "      <th></th>\n",
       "    </tr>\n",
       "  </thead>\n",
       "  <tbody>\n",
       "    <tr>\n",
       "      <th>5/30/21</th>\n",
       "      <td>462768.848651</td>\n",
       "    </tr>\n",
       "    <tr>\n",
       "      <th>5/31/21</th>\n",
       "      <td>464520.435425</td>\n",
       "    </tr>\n",
       "    <tr>\n",
       "      <th>6/1/21</th>\n",
       "      <td>466646.730755</td>\n",
       "    </tr>\n",
       "    <tr>\n",
       "      <th>6/2/21</th>\n",
       "      <td>469267.601648</td>\n",
       "    </tr>\n",
       "    <tr>\n",
       "      <th>6/3/21</th>\n",
       "      <td>471771.063846</td>\n",
       "    </tr>\n",
       "    <tr>\n",
       "      <th>6/4/21</th>\n",
       "      <td>474241.273926</td>\n",
       "    </tr>\n",
       "    <tr>\n",
       "      <th>6/5/21</th>\n",
       "      <td>476116.319226</td>\n",
       "    </tr>\n",
       "    <tr>\n",
       "      <th>6/6/21</th>\n",
       "      <td>477888.387332</td>\n",
       "    </tr>\n",
       "    <tr>\n",
       "      <th>6/7/21</th>\n",
       "      <td>479425.278440</td>\n",
       "    </tr>\n",
       "    <tr>\n",
       "      <th>6/8/21</th>\n",
       "      <td>480851.046189</td>\n",
       "    </tr>\n",
       "  </tbody>\n",
       "</table>\n",
       "</div>"
      ],
      "text/plain": [
       "         previsão modelo 2\n",
       "date                      \n",
       "5/30/21      462768.848651\n",
       "5/31/21      464520.435425\n",
       "6/1/21       466646.730755\n",
       "6/2/21       469267.601648\n",
       "6/3/21       471771.063846\n",
       "6/4/21       474241.273926\n",
       "6/5/21       476116.319226\n",
       "6/6/21       477888.387332\n",
       "6/7/21       479425.278440\n",
       "6/8/21       480851.046189"
      ]
     },
     "execution_count": 22,
     "metadata": {},
     "output_type": "execute_result"
    }
   ],
   "source": [
    "future_forecast1.head(10)"
   ]
  },
  {
   "cell_type": "markdown",
   "metadata": {},
   "source": [
    "Comparando graficamente os valores reais com as previsões, vemos que os resultados das previsões parecem acompanhar bem o valores reais."
   ]
  },
  {
   "cell_type": "code",
   "execution_count": null,
   "metadata": {},
   "outputs": [
    {
     "data": {
      "text/plain": [
       "<Figure size 1440x360 with 0 Axes>"
      ]
     },
     "metadata": {},
     "output_type": "display_data"
    },
    {
     "data": {
      "image/png": "[encoded data removed]",
      "text/plain": [
       "<Figure size 1440x360 with 1 Axes>"
      ]
     },
     "metadata": {
      "needs_background": "light"
     },
     "output_type": "display_data"
    }
   ],
   "source": [
    "plt.figure(figsize=(20,5))\n",
    "pd.concat([test,future_forecast,future_forecast1],axis=1).plot(figsize=(20,5))\n",
    "plt.xlabel('')\n",
    "plt.title('Previsões X Real',size=15)\n",
    "plt.legend(['Valor real','previsão 1','previsão 2'])\n",
    "plt.show();"
   ]
  },
  {
   "cell_type": "code",
   "execution_count": null,
   "metadata": {},
   "outputs": [
    {
     "data": {
      "image/png": "[encoded data removed]",
      "text/plain": [
       "<Figure size 1440x360 with 1 Axes>"
      ]
     },
     "metadata": {
      "needs_background": "light"
     },
     "output_type": "display_data"
    }
   ],
   "source": [
    "pd.concat([data,future_forecast],axis=1).plot(linewidth=1,figsize=(20,5))\n",
    "plt.legend('')\n",
    "plt.xlabel('')\n",
    "plt.title('Previsões X Real',size=15)\n",
    "plt.show();"
   ]
  },
  {
   "cell_type": "code",
   "execution_count": null,
   "metadata": {},
   "outputs": [
    {
     "data": {
      "image/png": "[encoded data removed]",
      "text/plain": [
       "<Figure size 1440x360 with 1 Axes>"
      ]
     },
     "metadata": {
      "needs_background": "light"
     },
     "output_type": "display_data"
    }
   ],
   "source": [
    "pd.concat([data,future_forecast1],axis=1).plot(linewidth=1, figsize=(20,5))\n",
    "plt.legend('')\n",
    "plt.xlabel('')\n",
    "plt.title('Previsões X Real',size=15)\n",
    "plt.show();"
   ]
  },
  {
   "cell_type": "markdown",
   "metadata": {},
   "source": [
    "## Sumário dos modelos\n",
    "\n",
    "Abaixo podemos conferir os sumários dos modelos com seus coeficientes, estatísticas e p-valores.\n",
    "\n",
    "Podemos ver que no sumário em *model* que no valor do *D* está [1,2], ou seja, já está informando a possibilidade de ser com *D* igual a 1 ou *D* igual a 2, mas o restante do sumário diz respeito ao modelo 1."
   ]
  },
  {
   "cell_type": "code",
   "execution_count": null,
   "metadata": {},
   "outputs": [
    {
     "data": {
      "text/html": [
       "<table class=\"simpletable\">\n",
       "<caption>SARIMAX Results</caption>\n",
       "<tr>\n",
       "  <th>Dep. Variable:</th>                  <td>y</td>               <th>  No. Observations:  </th>    <td>439</td>   \n",
       "</tr>\n",
       "<tr>\n",
       "  <th>Model:</th>           <td>SARIMAX(0, 1, 2)x(2, 1, 2, 12)</td> <th>  Log Likelihood     </th> <td>-3191.737</td>\n",
       "</tr>\n",
       "<tr>\n",
       "  <th>Date:</th>                   <td>Sat, 22 Jan 2022</td>        <th>  AIC                </th> <td>6397.474</td> \n",
       "</tr>\n",
       "<tr>\n",
       "  <th>Time:</th>                       <td>17:57:38</td>            <th>  BIC                </th> <td>6425.855</td> \n",
       "</tr>\n",
       "<tr>\n",
       "  <th>Sample:</th>                         <td>0</td>               <th>  HQIC               </th> <td>6408.685</td> \n",
       "</tr>\n",
       "<tr>\n",
       "  <th></th>                             <td> - 439</td>             <th>                     </th>     <td> </td>    \n",
       "</tr>\n",
       "<tr>\n",
       "  <th>Covariance Type:</th>               <td>opg</td>              <th>                     </th>     <td> </td>    \n",
       "</tr>\n",
       "</table>\n",
       "<table class=\"simpletable\">\n",
       "<tr>\n",
       "      <td></td>        <th>coef</th>     <th>std err</th>      <th>z</th>      <th>P>|z|</th>  <th>[0.025</th>    <th>0.975]</th>  \n",
       "</tr>\n",
       "<tr>\n",
       "  <th>ma.L1</th>    <td>    0.6804</td> <td>    0.039</td> <td>   17.306</td> <td> 0.000</td> <td>    0.603</td> <td>    0.757</td>\n",
       "</tr>\n",
       "<tr>\n",
       "  <th>ma.L2</th>    <td>    0.0550</td> <td>    0.043</td> <td>    1.285</td> <td> 0.199</td> <td>   -0.029</td> <td>    0.139</td>\n",
       "</tr>\n",
       "<tr>\n",
       "  <th>ar.S.L12</th> <td>   -0.4605</td> <td>    0.057</td> <td>   -8.128</td> <td> 0.000</td> <td>   -0.572</td> <td>   -0.349</td>\n",
       "</tr>\n",
       "<tr>\n",
       "  <th>ar.S.L24</th> <td>   -0.8975</td> <td>    0.048</td> <td>  -18.755</td> <td> 0.000</td> <td>   -0.991</td> <td>   -0.804</td>\n",
       "</tr>\n",
       "<tr>\n",
       "  <th>ma.S.L12</th> <td>    0.1112</td> <td>    0.077</td> <td>    1.437</td> <td> 0.151</td> <td>   -0.040</td> <td>    0.263</td>\n",
       "</tr>\n",
       "<tr>\n",
       "  <th>ma.S.L24</th> <td>    0.7732</td> <td>    0.060</td> <td>   12.870</td> <td> 0.000</td> <td>    0.655</td> <td>    0.891</td>\n",
       "</tr>\n",
       "<tr>\n",
       "  <th>sigma2</th>   <td> 1.782e+05</td> <td> 8300.879</td> <td>   21.466</td> <td> 0.000</td> <td> 1.62e+05</td> <td> 1.94e+05</td>\n",
       "</tr>\n",
       "</table>\n",
       "<table class=\"simpletable\">\n",
       "<tr>\n",
       "  <th>Ljung-Box (L1) (Q):</th>     <td>0.00</td> <th>  Jarque-Bera (JB):  </th> <td>735.33</td>\n",
       "</tr>\n",
       "<tr>\n",
       "  <th>Prob(Q):</th>                <td>0.96</td> <th>  Prob(JB):          </th>  <td>0.00</td> \n",
       "</tr>\n",
       "<tr>\n",
       "  <th>Heteroskedasticity (H):</th> <td>7.13</td> <th>  Skew:              </th>  <td>-1.01</td>\n",
       "</tr>\n",
       "<tr>\n",
       "  <th>Prob(H) (two-sided):</th>    <td>0.00</td> <th>  Kurtosis:          </th>  <td>9.11</td> \n",
       "</tr>\n",
       "</table><br/><br/>Warnings:<br/>[1] Covariance matrix calculated using the outer product of gradients (complex-step)."
      ],
      "text/plain": [
       "<class 'statsmodels.iolib.summary.Summary'>\n",
       "\"\"\"\n",
       "                                     SARIMAX Results                                      \n",
       "==========================================================================================\n",
       "Dep. Variable:                                  y   No. Observations:                  439\n",
       "Model:             SARIMAX(0, 1, 2)x(2, 1, 2, 12)   Log Likelihood               -3191.737\n",
       "Date:                            Sat, 22 Jan 2022   AIC                           6397.474\n",
       "Time:                                    17:57:38   BIC                           6425.855\n",
       "Sample:                                         0   HQIC                          6408.685\n",
       "                                            - 439                                         \n",
       "Covariance Type:                              opg                                         \n",
       "==============================================================================\n",
       "                 coef    std err          z      P>|z|      [0.025      0.975]\n",
       "------------------------------------------------------------------------------\n",
       "ma.L1          0.6804      0.039     17.306      0.000       0.603       0.757\n",
       "ma.L2          0.0550      0.043      1.285      0.199      -0.029       0.139\n",
       "ar.S.L12      -0.4605      0.057     -8.128      0.000      -0.572      -0.349\n",
       "ar.S.L24      -0.8975      0.048    -18.755      0.000      -0.991      -0.804\n",
       "ma.S.L12       0.1112      0.077      1.437      0.151      -0.040       0.263\n",
       "ma.S.L24       0.7732      0.060     12.870      0.000       0.655       0.891\n",
       "sigma2      1.782e+05   8300.879     21.466      0.000    1.62e+05    1.94e+05\n",
       "===================================================================================\n",
       "Ljung-Box (L1) (Q):                   0.00   Jarque-Bera (JB):               735.33\n",
       "Prob(Q):                              0.96   Prob(JB):                         0.00\n",
       "Heteroskedasticity (H):               7.13   Skew:                            -1.01\n",
       "Prob(H) (two-sided):                  0.00   Kurtosis:                         9.11\n",
       "===================================================================================\n",
       "\n",
       "Warnings:\n",
       "[1] Covariance matrix calculated using the outer product of gradients (complex-step).\n",
       "\"\"\""
      ]
     },
     "execution_count": 26,
     "metadata": {},
     "output_type": "execute_result"
    }
   ],
   "source": [
    "stepwise.summary()"
   ]
  },
  {
   "cell_type": "markdown",
   "metadata": {},
   "source": [
    "Simário do modelo 2."
   ]
  },
  {
   "cell_type": "code",
   "execution_count": null,
   "metadata": {},
   "outputs": [
    {
     "data": {
      "text/html": [
       "<table class=\"simpletable\">\n",
       "<caption>SARIMAX Results</caption>\n",
       "<tr>\n",
       "  <th>Dep. Variable:</th>                  <td>y</td>               <th>  No. Observations:  </th>    <td>439</td>   \n",
       "</tr>\n",
       "<tr>\n",
       "  <th>Model:</th>           <td>SARIMAX(3, 1, 0)x(2, 1, 0, 12)</td> <th>  Log Likelihood     </th> <td>-3163.859</td>\n",
       "</tr>\n",
       "<tr>\n",
       "  <th>Date:</th>                   <td>Sat, 22 Jan 2022</td>        <th>  AIC                </th> <td>6339.718</td> \n",
       "</tr>\n",
       "<tr>\n",
       "  <th>Time:</th>                       <td>17:57:38</td>            <th>  BIC                </th> <td>6364.044</td> \n",
       "</tr>\n",
       "<tr>\n",
       "  <th>Sample:</th>                         <td>0</td>               <th>  HQIC               </th> <td>6349.327</td> \n",
       "</tr>\n",
       "<tr>\n",
       "  <th></th>                             <td> - 439</td>             <th>                     </th>     <td> </td>    \n",
       "</tr>\n",
       "<tr>\n",
       "  <th>Covariance Type:</th>               <td>opg</td>              <th>                     </th>     <td> </td>    \n",
       "</tr>\n",
       "</table>\n",
       "<table class=\"simpletable\">\n",
       "<tr>\n",
       "      <td></td>        <th>coef</th>     <th>std err</th>      <th>z</th>      <th>P>|z|</th>  <th>[0.025</th>    <th>0.975]</th>  \n",
       "</tr>\n",
       "<tr>\n",
       "  <th>ar.L1</th>    <td>    0.5561</td> <td>    0.030</td> <td>   18.460</td> <td> 0.000</td> <td>    0.497</td> <td>    0.615</td>\n",
       "</tr>\n",
       "<tr>\n",
       "  <th>ar.L2</th>    <td>   -0.3837</td> <td>    0.025</td> <td>  -15.571</td> <td> 0.000</td> <td>   -0.432</td> <td>   -0.335</td>\n",
       "</tr>\n",
       "<tr>\n",
       "  <th>ar.L3</th>    <td>    0.6384</td> <td>    0.028</td> <td>   22.844</td> <td> 0.000</td> <td>    0.584</td> <td>    0.693</td>\n",
       "</tr>\n",
       "<tr>\n",
       "  <th>ar.S.L12</th> <td>   -0.5118</td> <td>    0.023</td> <td>  -22.715</td> <td> 0.000</td> <td>   -0.556</td> <td>   -0.468</td>\n",
       "</tr>\n",
       "<tr>\n",
       "  <th>ar.S.L24</th> <td>   -0.8064</td> <td>    0.025</td> <td>  -32.159</td> <td> 0.000</td> <td>   -0.856</td> <td>   -0.757</td>\n",
       "</tr>\n",
       "<tr>\n",
       "  <th>sigma2</th>   <td> 1.575e+05</td> <td> 6994.540</td> <td>   22.524</td> <td> 0.000</td> <td> 1.44e+05</td> <td> 1.71e+05</td>\n",
       "</tr>\n",
       "</table>\n",
       "<table class=\"simpletable\">\n",
       "<tr>\n",
       "  <th>Ljung-Box (L1) (Q):</th>     <td>0.14</td> <th>  Jarque-Bera (JB):  </th> <td>228.90</td>\n",
       "</tr>\n",
       "<tr>\n",
       "  <th>Prob(Q):</th>                <td>0.71</td> <th>  Prob(JB):          </th>  <td>0.00</td> \n",
       "</tr>\n",
       "<tr>\n",
       "  <th>Heteroskedasticity (H):</th> <td>7.02</td> <th>  Skew:              </th>  <td>-0.13</td>\n",
       "</tr>\n",
       "<tr>\n",
       "  <th>Prob(H) (two-sided):</th>    <td>0.00</td> <th>  Kurtosis:          </th>  <td>6.58</td> \n",
       "</tr>\n",
       "</table><br/><br/>Warnings:<br/>[1] Covariance matrix calculated using the outer product of gradients (complex-step)."
      ],
      "text/plain": [
       "<class 'statsmodels.iolib.summary.Summary'>\n",
       "\"\"\"\n",
       "                                     SARIMAX Results                                      \n",
       "==========================================================================================\n",
       "Dep. Variable:                                  y   No. Observations:                  439\n",
       "Model:             SARIMAX(3, 1, 0)x(2, 1, 0, 12)   Log Likelihood               -3163.859\n",
       "Date:                            Sat, 22 Jan 2022   AIC                           6339.718\n",
       "Time:                                    17:57:38   BIC                           6364.044\n",
       "Sample:                                         0   HQIC                          6349.327\n",
       "                                            - 439                                         \n",
       "Covariance Type:                              opg                                         \n",
       "==============================================================================\n",
       "                 coef    std err          z      P>|z|      [0.025      0.975]\n",
       "------------------------------------------------------------------------------\n",
       "ar.L1          0.5561      0.030     18.460      0.000       0.497       0.615\n",
       "ar.L2         -0.3837      0.025    -15.571      0.000      -0.432      -0.335\n",
       "ar.L3          0.6384      0.028     22.844      0.000       0.584       0.693\n",
       "ar.S.L12      -0.5118      0.023    -22.715      0.000      -0.556      -0.468\n",
       "ar.S.L24      -0.8064      0.025    -32.159      0.000      -0.856      -0.757\n",
       "sigma2      1.575e+05   6994.540     22.524      0.000    1.44e+05    1.71e+05\n",
       "===================================================================================\n",
       "Ljung-Box (L1) (Q):                   0.14   Jarque-Bera (JB):               228.90\n",
       "Prob(Q):                              0.71   Prob(JB):                         0.00\n",
       "Heteroskedasticity (H):               7.02   Skew:                            -0.13\n",
       "Prob(H) (two-sided):                  0.00   Kurtosis:                         6.58\n",
       "===================================================================================\n",
       "\n",
       "Warnings:\n",
       "[1] Covariance matrix calculated using the outer product of gradients (complex-step).\n",
       "\"\"\""
      ]
     },
     "execution_count": 27,
     "metadata": {},
     "output_type": "execute_result"
    }
   ],
   "source": [
    "stepwise1.summary()"
   ]
  },
  {
   "cell_type": "markdown",
   "metadata": {},
   "source": [
    "## Análise dos resíduos\n",
    "\n",
    "Uma das principais etapas é a avaliação dos resíduos. Primeiramente vamos olhar o *rmse* que é umas das principais métricas para análise dos erros, onde ele compara valores reais com os preditos. Aqui é interessante que o resultado seja o mais próximo possível de zero.\n",
    "\n",
    "Podemos ver que o modelo com melhor desempenho foi o modelo 1."
   ]
  },
  {
   "cell_type": "code",
   "execution_count": null,
   "metadata": {},
   "outputs": [
    {
     "name": "stdout",
     "output_type": "stream",
     "text": [
      "RMSE do modelo 1: 118852.204\n",
      "\n",
      "RMSE do modelo 2: 131676.835\n"
     ]
    }
   ],
   "source": [
    "print(\"RMSE do modelo 1: %.3f\" % np.sqrt(mean_squared_error(test, future_forecast)))\n",
    "print('')\n",
    "print(\"RMSE do modelo 2: %.3f\" % np.sqrt(mean_squared_error(test, future_forecast1)))"
   ]
  },
  {
   "cell_type": "markdown",
   "metadata": {},
   "source": [
    "Calculando os erros de cada um dos modelos."
   ]
  },
  {
   "cell_type": "code",
   "execution_count": null,
   "metadata": {},
   "outputs": [],
   "source": [
    "erros=pd.DataFrame(np.array(future_forecast.values.tolist())-np.array(test.values.tolist()))\n",
    "\n",
    "erros1=pd.DataFrame(np.array(future_forecast1.values.tolist())-np.array(test.values.tolist()))"
   ]
  },
  {
   "cell_type": "markdown",
   "metadata": {},
   "source": [
    "Vamos ver graficamente a distribuião dos resíduos dos modelos: são bem semelhantes e se assemelham com uma distribuição normal."
   ]
  },
  {
   "cell_type": "code",
   "execution_count": null,
   "metadata": {},
   "outputs": [
    {
     "name": "stderr",
     "output_type": "stream",
     "text": [
      "C:\\ProgramData\\Anaconda3\\lib\\site-packages\\seaborn\\distributions.py:2619: FutureWarning: `distplot` is a deprecated function and will be removed in a future version. Please adapt your code to use either `displot` (a figure-level function with similar flexibility) or `histplot` (an axes-level function for histograms).\n",
      "  warnings.warn(msg, FutureWarning)\n",
      "C:\\ProgramData\\Anaconda3\\lib\\site-packages\\seaborn\\distributions.py:2619: FutureWarning: `distplot` is a deprecated function and will be removed in a future version. Please adapt your code to use either `displot` (a figure-level function with similar flexibility) or `histplot` (an axes-level function for histograms).\n",
      "  warnings.warn(msg, FutureWarning)\n"
     ]
    },
    {
     "data": {
      "image/png": "[encoded data removed]",
      "text/plain": [
       "<Figure size 1440x360 with 2 Axes>"
      ]
     },
     "metadata": {
      "needs_background": "light"
     },
     "output_type": "display_data"
    }
   ],
   "source": [
    "fig, ax = plt.subplots(1,2,figsize=(20,5))\n",
    "sns.distplot(erros,ax=ax[0])\n",
    "sns.distplot(erros1,ax=ax[1], color='red');"
   ]
  },
  {
   "cell_type": "markdown",
   "metadata": {},
   "source": [
    "Podemos usar também a função *plot_diagnostic* para gerar os resíduos, o histograma dos resíduos, o gráfico QQ e o correlograma dos resíduos.\n",
    "\n",
    "Para o modelo *stepwise* podemos ver que os resíduos apresentam estar flutuando em torno do valor de zero e o seu histograma apresenta possuir um formato de sino. Vemos que o *KDE* do histograma está bem próximo do *KDE* de uma distribuição normal. No gráfio QQplot os valores estão, em sua maioria, em cima da linha vermelha, o que é uma evidência para normalidade; e por fim o correlograma não apresentou resultados estatisticamente significativo, rejeitando, então, a presença de autocorrelação serial."
   ]
  },
  {
   "cell_type": "code",
   "execution_count": null,
   "metadata": {},
   "outputs": [
    {
     "name": "stderr",
     "output_type": "stream",
     "text": [
      "C:\\ProgramData\\Anaconda3\\lib\\site-packages\\statsmodels\\graphics\\gofplots.py:993: UserWarning: marker is redundantly defined by the 'marker' keyword argument and the fmt string \"bo\" (-> marker='o'). The keyword argument will take precedence.\n",
      "  ax.plot(x, y, fmt, **plot_style)\n"
     ]
    },
    {
     "data": {
      "image/png": "[encoded data removed]",
      "text/plain": [
       "<Figure size 720x432 with 4 Axes>"
      ]
     },
     "metadata": {
      "needs_background": "light"
     },
     "output_type": "display_data"
    }
   ],
   "source": [
    "stepwise.plot_diagnostics(figsize=(10,6));"
   ]
  },
  {
   "cell_type": "markdown",
   "metadata": {},
   "source": [
    "Assim como o modelo *stepwise* o modelo *stepwise1* apresenta resultados semelhantes."
   ]
  },
  {
   "cell_type": "code",
   "execution_count": null,
   "metadata": {},
   "outputs": [
    {
     "name": "stderr",
     "output_type": "stream",
     "text": [
      "C:\\ProgramData\\Anaconda3\\lib\\site-packages\\statsmodels\\graphics\\gofplots.py:993: UserWarning: marker is redundantly defined by the 'marker' keyword argument and the fmt string \"bo\" (-> marker='o'). The keyword argument will take precedence.\n",
      "  ax.plot(x, y, fmt, **plot_style)\n"
     ]
    },
    {
     "data": {
      "image/png": "[encoded data removed]",
      "text/plain": [
       "<Figure size 720x432 with 4 Axes>"
      ]
     },
     "metadata": {
      "needs_background": "light"
     },
     "output_type": "display_data"
    }
   ],
   "source": [
    "stepwise1.plot_diagnostics(figsize=(10,6));"
   ]
  },
  {
   "cell_type": "markdown",
   "metadata": {},
   "source": [
    "### Teste de normalidade dos resíduos\n",
    "\n",
    "Para sabermos se a distribuição dos resíduos é ou não normal precisaremos realizar um teste estatístico chamado Teste de Normalidade *Jarque-Bera*. O teste Jarque-Bera testa se a distribuição dos dados é uma distribuição normal ($H_{0}$) em comparação com uma hipótese alternativa ($H_{1}$) em que os dados seguem alguma outra distribuição. A estatística do teste é baseada em dois momentos dos dados, a assimetria e a curtose, e possui uma $\\chi^{2}_{2;1-\\alpha}$ distribuição assintótica.\n",
    "\n",
    "A estatística do teste Jarque-Bera é dada pela equação abaixo:\n",
    "\n",
    "$S_{JB} = T\\bigg[\\frac{\\alpha_{1}^{2}}{6} + \\frac{\\big(\\alpha_{2} - 3\\big)^{2}}{24} \\bigg]$, onde $\\alpha_{1}$ é o coeficiente de assimetria e $\\alpha_{2}$ o coeficiente de curtose.\n",
    "\n",
    "Se $S_{JB} > \\chi^{2}_{2;1-\\alpha}$, devemos rejeitar $H_{0}$.\n",
    "\n",
    "Para o primeiro modelo o *p-value* teve um valor de 0.3746892, bem acima do nível de significância de 5% (que será o nosso padrão). Então podemos considerar que os resíduos do modelo 1 possuem uma distribuição normal."
   ]
  },
  {
   "cell_type": "code",
   "execution_count": null,
   "metadata": {},
   "outputs": [
    {
     "name": "stdout",
     "output_type": "stream",
     "text": [
      "Estatística Jarque-Bera : [18.69247062]\n",
      "p-valor : [8.72934342e-05]\n",
      "Assimetria : [0.44358112]\n",
      "Curtose : [1.86426925]\n"
     ]
    }
   ],
   "source": [
    "test = jarque_bera(erros)\n",
    "print('Estatística Jarque-Bera :', test[0])\n",
    "print('p-valor :', test[1])\n",
    "print('Assimetria :', test[2])\n",
    "print('Curtose :',test[3])"
   ]
  },
  {
   "cell_type": "markdown",
   "metadata": {},
   "source": [
    "Para o modelo 2, o *p-value* foi um pouco maior (0.4257611) e também podemos considerar que seus resíduos são normais."
   ]
  },
  {
   "cell_type": "code",
   "execution_count": null,
   "metadata": {},
   "outputs": [
    {
     "name": "stdout",
     "output_type": "stream",
     "text": [
      "Estatística Jarque-Bera : [18.20247901]\n",
      "p-valor : [0.00011153]\n",
      "Assimetria : [0.41659655]\n",
      "Curtose : [1.84748669]\n"
     ]
    }
   ],
   "source": [
    "test1 = jarque_bera(erros1)\n",
    "print('Estatística Jarque-Bera :', test1[0])\n",
    "print('p-valor :', test1[1])\n",
    "print('Assimetria :', test1[2])\n",
    "print('Curtose :',test1[3])"
   ]
  },
  {
   "cell_type": "markdown",
   "metadata": {},
   "source": [
    "## Conclusão\n",
    "\n",
    "Para concluirmos levando em consideração a métrica de *RMSE* o modelo 1 foi melhor e pode ser escolhido para gerar previsões."
   ]
  },
  {
   "cell_type": "code",
   "execution_count": null,
   "metadata": {},
   "outputs": [
    {
     "data": {
      "text/plain": [
       "ARIMA(order=(0, 1, 2), scoring_args={}, seasonal_order=(2, 1, 2, 12),\n",
       "      suppress_warnings=True, with_intercept=False)"
      ]
     },
     "execution_count": 35,
     "metadata": {},
     "output_type": "execute_result"
    }
   ],
   "source": [
    "stepwise.fit(data)"
   ]
  },
  {
   "cell_type": "markdown",
   "metadata": {},
   "source": [
    "Vamos criar 31 previsões para um futuro fora da séries original."
   ]
  },
  {
   "cell_type": "code",
   "execution_count": null,
   "metadata": {},
   "outputs": [],
   "source": [
    "future_forecast2=stepwise.predict(n_periods=31)"
   ]
  },
  {
   "cell_type": "markdown",
   "metadata": {},
   "source": [
    "Vamos transformar em um *dataframe* e indexar para o tempo que queremos no futuro."
   ]
  },
  {
   "cell_type": "code",
   "execution_count": null,
   "metadata": {},
   "outputs": [],
   "source": [
    "future_forecast2=pd.DataFrame(future_forecast2,columns=['nova previsão'])"
   ]
  },
  {
   "cell_type": "markdown",
   "metadata": {},
   "source": [
    "Vamos observar essas novas previsões."
   ]
  },
  {
   "cell_type": "code",
   "execution_count": null,
   "metadata": {},
   "outputs": [
    {
     "data": {
      "text/html": [
       "<div>\n",
       "<style scoped>\n",
       "    .dataframe tbody tr th:only-of-type {\n",
       "        vertical-align: middle;\n",
       "    }\n",
       "\n",
       "    .dataframe tbody tr th {\n",
       "        vertical-align: top;\n",
       "    }\n",
       "\n",
       "    .dataframe thead th {\n",
       "        text-align: right;\n",
       "    }\n",
       "</style>\n",
       "<table border=\"1\" class=\"dataframe\">\n",
       "  <thead>\n",
       "    <tr style=\"text-align: right;\">\n",
       "      <th></th>\n",
       "      <th>nova previsão</th>\n",
       "    </tr>\n",
       "  </thead>\n",
       "  <tbody>\n",
       "    <tr>\n",
       "      <th>0</th>\n",
       "      <td>619462.052219</td>\n",
       "    </tr>\n",
       "    <tr>\n",
       "      <th>1</th>\n",
       "      <td>619548.279537</td>\n",
       "    </tr>\n",
       "    <tr>\n",
       "      <th>2</th>\n",
       "      <td>619734.032967</td>\n",
       "    </tr>\n",
       "    <tr>\n",
       "      <th>3</th>\n",
       "      <td>619878.723796</td>\n",
       "    </tr>\n",
       "    <tr>\n",
       "      <th>4</th>\n",
       "      <td>620102.644646</td>\n",
       "    </tr>\n",
       "    <tr>\n",
       "      <th>5</th>\n",
       "      <td>620302.632226</td>\n",
       "    </tr>\n",
       "    <tr>\n",
       "      <th>6</th>\n",
       "      <td>620466.698002</td>\n",
       "    </tr>\n",
       "    <tr>\n",
       "      <th>7</th>\n",
       "      <td>620703.281639</td>\n",
       "    </tr>\n",
       "    <tr>\n",
       "      <th>8</th>\n",
       "      <td>620849.431794</td>\n",
       "    </tr>\n",
       "    <tr>\n",
       "      <th>9</th>\n",
       "      <td>621006.690595</td>\n",
       "    </tr>\n",
       "    <tr>\n",
       "      <th>10</th>\n",
       "      <td>621243.046927</td>\n",
       "    </tr>\n",
       "    <tr>\n",
       "      <th>11</th>\n",
       "      <td>621418.098317</td>\n",
       "    </tr>\n",
       "    <tr>\n",
       "      <th>12</th>\n",
       "      <td>621578.609178</td>\n",
       "    </tr>\n",
       "    <tr>\n",
       "      <th>13</th>\n",
       "      <td>621747.175722</td>\n",
       "    </tr>\n",
       "    <tr>\n",
       "      <th>14</th>\n",
       "      <td>621942.597123</td>\n",
       "    </tr>\n",
       "    <tr>\n",
       "      <th>15</th>\n",
       "      <td>622087.055568</td>\n",
       "    </tr>\n",
       "    <tr>\n",
       "      <th>16</th>\n",
       "      <td>622251.519463</td>\n",
       "    </tr>\n",
       "    <tr>\n",
       "      <th>17</th>\n",
       "      <td>622324.336072</td>\n",
       "    </tr>\n",
       "    <tr>\n",
       "      <th>18</th>\n",
       "      <td>622447.947395</td>\n",
       "    </tr>\n",
       "    <tr>\n",
       "      <th>19</th>\n",
       "      <td>622635.132519</td>\n",
       "    </tr>\n",
       "    <tr>\n",
       "      <th>20</th>\n",
       "      <td>622816.467648</td>\n",
       "    </tr>\n",
       "    <tr>\n",
       "      <th>21</th>\n",
       "      <td>622999.343996</td>\n",
       "    </tr>\n",
       "    <tr>\n",
       "      <th>22</th>\n",
       "      <td>623152.355797</td>\n",
       "    </tr>\n",
       "    <tr>\n",
       "      <th>23</th>\n",
       "      <td>623285.568316</td>\n",
       "    </tr>\n",
       "    <tr>\n",
       "      <th>24</th>\n",
       "      <td>623441.321308</td>\n",
       "    </tr>\n",
       "    <tr>\n",
       "      <th>25</th>\n",
       "      <td>623541.481262</td>\n",
       "    </tr>\n",
       "    <tr>\n",
       "      <th>26</th>\n",
       "      <td>623711.180054</td>\n",
       "    </tr>\n",
       "    <tr>\n",
       "      <th>27</th>\n",
       "      <td>623849.204377</td>\n",
       "    </tr>\n",
       "    <tr>\n",
       "      <th>28</th>\n",
       "      <td>624062.230812</td>\n",
       "    </tr>\n",
       "    <tr>\n",
       "      <th>29</th>\n",
       "      <td>624225.029762</td>\n",
       "    </tr>\n",
       "    <tr>\n",
       "      <th>30</th>\n",
       "      <td>624354.180596</td>\n",
       "    </tr>\n",
       "  </tbody>\n",
       "</table>\n",
       "</div>"
      ],
      "text/plain": [
       "    nova previsão\n",
       "0   619462.052219\n",
       "1   619548.279537\n",
       "2   619734.032967\n",
       "3   619878.723796\n",
       "4   620102.644646\n",
       "5   620302.632226\n",
       "6   620466.698002\n",
       "7   620703.281639\n",
       "8   620849.431794\n",
       "9   621006.690595\n",
       "10  621243.046927\n",
       "11  621418.098317\n",
       "12  621578.609178\n",
       "13  621747.175722\n",
       "14  621942.597123\n",
       "15  622087.055568\n",
       "16  622251.519463\n",
       "17  622324.336072\n",
       "18  622447.947395\n",
       "19  622635.132519\n",
       "20  622816.467648\n",
       "21  622999.343996\n",
       "22  623152.355797\n",
       "23  623285.568316\n",
       "24  623441.321308\n",
       "25  623541.481262\n",
       "26  623711.180054\n",
       "27  623849.204377\n",
       "28  624062.230812\n",
       "29  624225.029762\n",
       "30  624354.180596"
      ]
     },
     "execution_count": 38,
     "metadata": {},
     "output_type": "execute_result"
    }
   ],
   "source": [
    "future_forecast2.head(31)"
   ]
  },
  {
   "cell_type": "markdown",
   "metadata": {},
   "source": [
    "E agora vamos ver graficamente."
   ]
  },
  {
   "cell_type": "code",
   "execution_count": null,
   "metadata": {},
   "outputs": [
    {
     "data": {
      "text/plain": [
       "<Figure size 1440x360 with 0 Axes>"
      ]
     },
     "metadata": {},
     "output_type": "display_data"
    },
    {
     "data": {
      "image/png": "[encoded data removed]",
      "text/plain": [
       "<Figure size 1440x360 with 1 Axes>"
      ]
     },
     "metadata": {
      "needs_background": "light"
     },
     "output_type": "display_data"
    }
   ],
   "source": [
    "plt.figure(figsize=(20,5))\n",
    "pd.concat([future_forecast2],axis=1).plot(figsize=(20,5))\n",
    "plt.xlabel('')\n",
    "plt.title('Previsões nos próximos 31 dias',size=15)\n",
    "plt.legend(['Previsões'])\n",
    "plt.show();"
   ]
  }
 ],
 "metadata": {
  "kernelspec": {
   "display_name": "Python 3",
   "language": "python",
   "name": "python3"
  },
  "language_info": {
   "codemirror_mode": {
    "name": "ipython",
    "version": 3
   },
   "file_extension": ".py",
   "mimetype": "text/x-python",
   "name": "python",
   "nbconvert_exporter": "python",
   "pygments_lexer": "ipython3",
   "version": "3.8.11"
  }
 },
 "nbformat": 4,
 "nbformat_minor": 2
}
